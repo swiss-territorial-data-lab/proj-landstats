{
 "cells": [
  {
   "cell_type": "code",
   "execution_count": 1,
   "id": "1aa21903-a45f-44bb-860a-5fbc8ae22c05",
   "metadata": {},
   "outputs": [],
   "source": [
    "import os \n",
    "import math\n",
    "import pandas as pd\n",
    "import numpy as np"
   ]
  },
  {
   "cell_type": "markdown",
   "id": "3c869030-1ed2-4c08-a298-c26b30057635",
   "metadata": {},
   "source": [
    "# Load the dataset"
   ]
  },
  {
   "cell_type": "markdown",
   "id": "68680c7b-bbdf-4cf2-8e84-ab17efd17bea",
   "metadata": {},
   "source": [
    "### Cross"
   ]
  },
  {
   "cell_type": "code",
   "execution_count": null,
   "id": "1b2dda3c-a237-4913-9327-6674e98b20be",
   "metadata": {},
   "outputs": [],
   "source": [
    "data_cross = pd.read_csv("
   ]
  },
  {
   "cell_type": "markdown",
   "id": "5d054e24-5894-4300-8aeb-0e342a6185c1",
   "metadata": {},
   "source": [
    "### Square"
   ]
  },
  {
   "cell_type": "code",
   "execution_count": null,
   "id": "4718a419-3503-4d2d-b0f0-859ceea17fa9",
   "metadata": {},
   "outputs": [],
   "source": []
  },
  {
   "cell_type": "markdown",
   "id": "3503de93-7a9f-4ce5-9b86-e70f4becaa22",
   "metadata": {},
   "source": [
    "### All points"
   ]
  },
  {
   "cell_type": "code",
   "execution_count": null,
   "id": "84442f6e-1540-493c-b6b9-a04d0374f73a",
   "metadata": {},
   "outputs": [],
   "source": []
  }
 ],
 "metadata": {
  "kernelspec": {
   "display_name": "Python [conda env:landstats] *",
   "language": "python",
   "name": "conda-env-landstats-py"
  },
  "language_info": {
   "codemirror_mode": {
    "name": "ipython",
    "version": 3
   },
   "file_extension": ".py",
   "mimetype": "text/x-python",
   "name": "python",
   "nbconvert_exporter": "python",
   "pygments_lexer": "ipython3",
   "version": "3.10.4"
  }
 },
 "nbformat": 4,
 "nbformat_minor": 5
}
