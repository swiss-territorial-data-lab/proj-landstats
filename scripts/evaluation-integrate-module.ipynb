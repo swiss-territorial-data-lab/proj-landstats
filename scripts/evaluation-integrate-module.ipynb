{
 "cells": [
  {
   "cell_type": "code",
   "execution_count": 1,
   "id": "1aa21903-a45f-44bb-860a-5fbc8ae22c05",
   "metadata": {},
   "outputs": [
    {
     "name": "stdout",
     "output_type": "stream",
     "text": [
      "Using cuda device\n"
     ]
    }
   ],
   "source": [
    "import os \n",
    "import sys\n",
    "import math\n",
    "import torch\n",
    "import pickle\n",
    "import optuna\n",
    "import pandas as pd\n",
    "import numpy as np\n",
    "from tqdm import tqdm\n",
    "from torch import nn\n",
    "import matplotlib.pyplot as plt\n",
    "from sklearn.ensemble import RandomForestClassifier\n",
    "from sklearn.linear_model import LogisticRegression, LogisticRegressionCV\n",
    "from sklearn.model_selection import cross_val_predict\n",
    "from sklearn.model_selection import cross_val_score\n",
    "from sklearn.metrics import f1_score, balanced_accuracy_score\n",
    "import seaborn as sn\n",
    "%matplotlib inline\n",
    "\n",
    "sys.path.append(\"..\")\n",
    "from metric.metric import metric\n",
    "\n",
    "data_folder = '../data/'\n",
    "np.random.seed(2022)\n",
    "\n",
    "device = \"cuda\" if torch.cuda.is_available() else \"cpu\"\n",
    "print(f\"Using {device} device\")"
   ]
  },
  {
   "cell_type": "markdown",
   "id": "85e55acd-cae3-4113-93f2-efe9849e6ec3",
   "metadata": {
    "tags": []
   },
   "source": [
    "# Load temporal & spatial features"
   ]
  },
  {
   "cell_type": "code",
   "execution_count": 2,
   "id": "6a0b2d10-1b26-4ea8-ab72-bbe833a0ca34",
   "metadata": {},
   "outputs": [],
   "source": [
    "# Load extracted features from temporal and spatial module \n",
    "# commit and uncommit following code to select model for temporal and spatial module\n",
    "\n",
    "# for logistics regression \n",
    "# pkl_filename = \"./temp_results/temporal_spatial_proba_lr.pkl\"\n",
    "\n",
    "# for Fully connected network \n",
    "pkl_filename = \"./temp_results/temporal_spatial_proba_FCN.pkl\"\n",
    "with open(pkl_filename, 'rb') as file:\n",
    "    proba_df = pickle.load(file)"
   ]
  },
  {
   "cell_type": "code",
   "execution_count": 3,
   "id": "c0e657df-fd0b-40df-a91d-cb7d6f8670dc",
   "metadata": {},
   "outputs": [],
   "source": [
    "proba_df[['LU3']] = [[int(c[0].lstrip('LU'))] for c in proba_df[['LU3']].values]\n",
    "proba_df[['LC3']] = [[int(c[0].lstrip('LC'))] for c in proba_df[['LC3']].values]"
   ]
  },
  {
   "cell_type": "code",
   "execution_count": 4,
   "id": "a67d4965-9ddc-4598-a798-2f925e114f14",
   "metadata": {},
   "outputs": [
    {
     "data": {
      "text/html": [
       "<div>\n",
       "<style scoped>\n",
       "    .dataframe tbody tr th:only-of-type {\n",
       "        vertical-align: middle;\n",
       "    }\n",
       "\n",
       "    .dataframe tbody tr th {\n",
       "        vertical-align: top;\n",
       "    }\n",
       "\n",
       "    .dataframe thead th {\n",
       "        text-align: right;\n",
       "    }\n",
       "</style>\n",
       "<table border=\"1\" class=\"dataframe\">\n",
       "  <thead>\n",
       "    <tr style=\"text-align: right;\">\n",
       "      <th></th>\n",
       "      <th>p_unchage</th>\n",
       "      <th>p_change</th>\n",
       "      <th>changed</th>\n",
       "      <th>LC3</th>\n",
       "      <th>LU3</th>\n",
       "    </tr>\n",
       "    <tr>\n",
       "      <th>RELI</th>\n",
       "      <th></th>\n",
       "      <th></th>\n",
       "      <th></th>\n",
       "      <th></th>\n",
       "      <th></th>\n",
       "    </tr>\n",
       "  </thead>\n",
       "  <tbody>\n",
       "    <tr>\n",
       "      <th>48561099</th>\n",
       "      <td>0.319364</td>\n",
       "      <td>0.680636</td>\n",
       "      <td>0</td>\n",
       "      <td>41</td>\n",
       "      <td>301</td>\n",
       "    </tr>\n",
       "    <tr>\n",
       "      <th>48611112</th>\n",
       "      <td>0.847969</td>\n",
       "      <td>0.152031</td>\n",
       "      <td>0</td>\n",
       "      <td>61</td>\n",
       "      <td>402</td>\n",
       "    </tr>\n",
       "    <tr>\n",
       "      <th>48621113</th>\n",
       "      <td>0.356399</td>\n",
       "      <td>0.643601</td>\n",
       "      <td>0</td>\n",
       "      <td>47</td>\n",
       "      <td>103</td>\n",
       "    </tr>\n",
       "    <tr>\n",
       "      <th>48621114</th>\n",
       "      <td>0.876144</td>\n",
       "      <td>0.123856</td>\n",
       "      <td>0</td>\n",
       "      <td>12</td>\n",
       "      <td>106</td>\n",
       "    </tr>\n",
       "    <tr>\n",
       "      <th>48621115</th>\n",
       "      <td>0.339232</td>\n",
       "      <td>0.660768</td>\n",
       "      <td>1</td>\n",
       "      <td>15</td>\n",
       "      <td>142</td>\n",
       "    </tr>\n",
       "  </tbody>\n",
       "</table>\n",
       "</div>"
      ],
      "text/plain": [
       "          p_unchage  p_change  changed  LC3  LU3\n",
       "RELI                                            \n",
       "48561099   0.319364  0.680636        0   41  301\n",
       "48611112   0.847969  0.152031        0   61  402\n",
       "48621113   0.356399  0.643601        0   47  103\n",
       "48621114   0.876144  0.123856        0   12  106\n",
       "48621115   0.339232  0.660768        1   15  142"
      ]
     },
     "execution_count": 4,
     "metadata": {},
     "output_type": "execute_result"
    }
   ],
   "source": [
    "proba_df.head()"
   ]
  },
  {
   "cell_type": "markdown",
   "id": "f80737e8-3a03-477c-9c8f-55789bbba06f",
   "metadata": {
    "tags": []
   },
   "source": [
    "# Load image-level prediction data"
   ]
  },
  {
   "cell_type": "code",
   "execution_count": 5,
   "id": "fa4bca68-e12e-49e8-a5a5-f1a46cdfe48f",
   "metadata": {},
   "outputs": [],
   "source": [
    "# Load image classification results\n",
    "pred_lc = pd.read_csv(os.path.join(data_folder, 'predictions_lc_area4.csv'), index_col=0)\n",
    "pred_lc.rename(columns={\"prediction\": \"prediction_lc\", \"confidence\": \"confidence_lc\"}, inplace=True)\n",
    "pred_lu = pd.read_csv(os.path.join(data_folder, 'predictions_lu_area4.csv'), index_col=0)\n",
    "pred_lu.rename(columns={\"prediction\": \"prediction_lu\", \"confidence\": \"confidence_lu\"}, inplace=True)\n",
    "pred = pd.concat([pred_lc, pred_lu], axis=1)"
   ]
  },
  {
   "cell_type": "code",
   "execution_count": 6,
   "id": "45e05f39-a50a-4e81-9f30-6df344ac313e",
   "metadata": {},
   "outputs": [
    {
     "data": {
      "text/html": [
       "<div>\n",
       "<style scoped>\n",
       "    .dataframe tbody tr th:only-of-type {\n",
       "        vertical-align: middle;\n",
       "    }\n",
       "\n",
       "    .dataframe tbody tr th {\n",
       "        vertical-align: top;\n",
       "    }\n",
       "\n",
       "    .dataframe thead th {\n",
       "        text-align: right;\n",
       "    }\n",
       "</style>\n",
       "<table border=\"1\" class=\"dataframe\">\n",
       "  <thead>\n",
       "    <tr style=\"text-align: right;\">\n",
       "      <th></th>\n",
       "      <th>prediction_lc</th>\n",
       "      <th>confidence_lc</th>\n",
       "      <th>11</th>\n",
       "      <th>12</th>\n",
       "      <th>13</th>\n",
       "      <th>14</th>\n",
       "      <th>15</th>\n",
       "      <th>16</th>\n",
       "      <th>17</th>\n",
       "      <th>21</th>\n",
       "      <th>...</th>\n",
       "      <th>403</th>\n",
       "      <th>421</th>\n",
       "      <th>422</th>\n",
       "      <th>423</th>\n",
       "      <th>424</th>\n",
       "      <th>p_unchage</th>\n",
       "      <th>p_change</th>\n",
       "      <th>changed</th>\n",
       "      <th>LC3</th>\n",
       "      <th>LU3</th>\n",
       "    </tr>\n",
       "    <tr>\n",
       "      <th>RELI</th>\n",
       "      <th></th>\n",
       "      <th></th>\n",
       "      <th></th>\n",
       "      <th></th>\n",
       "      <th></th>\n",
       "      <th></th>\n",
       "      <th></th>\n",
       "      <th></th>\n",
       "      <th></th>\n",
       "      <th></th>\n",
       "      <th></th>\n",
       "      <th></th>\n",
       "      <th></th>\n",
       "      <th></th>\n",
       "      <th></th>\n",
       "      <th></th>\n",
       "      <th></th>\n",
       "      <th></th>\n",
       "      <th></th>\n",
       "      <th></th>\n",
       "      <th></th>\n",
       "    </tr>\n",
       "  </thead>\n",
       "  <tbody>\n",
       "    <tr>\n",
       "      <th>49951581</th>\n",
       "      <td>41</td>\n",
       "      <td>76.953766</td>\n",
       "      <td>0.000009</td>\n",
       "      <td>7.618940e-07</td>\n",
       "      <td>2.099650e-08</td>\n",
       "      <td>8.110239e-08</td>\n",
       "      <td>0.000001</td>\n",
       "      <td>8.325645e-07</td>\n",
       "      <td>4.026339e-08</td>\n",
       "      <td>0.000038</td>\n",
       "      <td>...</td>\n",
       "      <td>0.000005</td>\n",
       "      <td>0.000285</td>\n",
       "      <td>0.000542</td>\n",
       "      <td>9.374106e-06</td>\n",
       "      <td>9.187247e-08</td>\n",
       "      <td>0.284680</td>\n",
       "      <td>0.715320</td>\n",
       "      <td>0</td>\n",
       "      <td>41</td>\n",
       "      <td>301</td>\n",
       "    </tr>\n",
       "    <tr>\n",
       "      <th>49981581</th>\n",
       "      <td>44</td>\n",
       "      <td>78.772316</td>\n",
       "      <td>0.039818</td>\n",
       "      <td>2.334603e-04</td>\n",
       "      <td>2.323926e-05</td>\n",
       "      <td>2.072141e-05</td>\n",
       "      <td>0.002156</td>\n",
       "      <td>6.963758e-04</td>\n",
       "      <td>1.789809e-04</td>\n",
       "      <td>0.009756</td>\n",
       "      <td>...</td>\n",
       "      <td>0.001540</td>\n",
       "      <td>0.017287</td>\n",
       "      <td>0.003396</td>\n",
       "      <td>3.867370e-03</td>\n",
       "      <td>5.498816e-05</td>\n",
       "      <td>0.257959</td>\n",
       "      <td>0.742041</td>\n",
       "      <td>0</td>\n",
       "      <td>41</td>\n",
       "      <td>301</td>\n",
       "    </tr>\n",
       "    <tr>\n",
       "      <th>49991582</th>\n",
       "      <td>44</td>\n",
       "      <td>67.986916</td>\n",
       "      <td>0.002073</td>\n",
       "      <td>1.667959e-05</td>\n",
       "      <td>1.380497e-06</td>\n",
       "      <td>1.529333e-06</td>\n",
       "      <td>0.000817</td>\n",
       "      <td>2.182389e-04</td>\n",
       "      <td>1.651016e-05</td>\n",
       "      <td>0.001084</td>\n",
       "      <td>...</td>\n",
       "      <td>0.000794</td>\n",
       "      <td>0.001990</td>\n",
       "      <td>0.005905</td>\n",
       "      <td>2.115689e-03</td>\n",
       "      <td>2.773002e-05</td>\n",
       "      <td>0.284680</td>\n",
       "      <td>0.715320</td>\n",
       "      <td>0</td>\n",
       "      <td>41</td>\n",
       "      <td>301</td>\n",
       "    </tr>\n",
       "    <tr>\n",
       "      <th>50151581</th>\n",
       "      <td>21</td>\n",
       "      <td>85.930080</td>\n",
       "      <td>0.008901</td>\n",
       "      <td>7.979578e-04</td>\n",
       "      <td>5.665574e-06</td>\n",
       "      <td>1.838485e-04</td>\n",
       "      <td>0.005638</td>\n",
       "      <td>3.700416e-05</td>\n",
       "      <td>3.987769e-04</td>\n",
       "      <td>0.859301</td>\n",
       "      <td>...</td>\n",
       "      <td>0.000004</td>\n",
       "      <td>0.004689</td>\n",
       "      <td>0.000027</td>\n",
       "      <td>1.708885e-03</td>\n",
       "      <td>6.309299e-04</td>\n",
       "      <td>0.549609</td>\n",
       "      <td>0.450391</td>\n",
       "      <td>0</td>\n",
       "      <td>21</td>\n",
       "      <td>242</td>\n",
       "    </tr>\n",
       "    <tr>\n",
       "      <th>50161581</th>\n",
       "      <td>41</td>\n",
       "      <td>97.562386</td>\n",
       "      <td>0.000271</td>\n",
       "      <td>4.466186e-05</td>\n",
       "      <td>8.621574e-07</td>\n",
       "      <td>1.826270e-06</td>\n",
       "      <td>0.000045</td>\n",
       "      <td>1.239971e-05</td>\n",
       "      <td>2.361364e-06</td>\n",
       "      <td>0.000080</td>\n",
       "      <td>...</td>\n",
       "      <td>0.000008</td>\n",
       "      <td>0.000023</td>\n",
       "      <td>0.000048</td>\n",
       "      <td>7.809795e-07</td>\n",
       "      <td>4.363787e-08</td>\n",
       "      <td>0.355896</td>\n",
       "      <td>0.644104</td>\n",
       "      <td>0</td>\n",
       "      <td>41</td>\n",
       "      <td>301</td>\n",
       "    </tr>\n",
       "  </tbody>\n",
       "</table>\n",
       "<p>5 rows × 82 columns</p>\n",
       "</div>"
      ],
      "text/plain": [
       "          prediction_lc  confidence_lc        11            12            13  \\\n",
       "RELI                                                                           \n",
       "49951581             41      76.953766  0.000009  7.618940e-07  2.099650e-08   \n",
       "49981581             44      78.772316  0.039818  2.334603e-04  2.323926e-05   \n",
       "49991582             44      67.986916  0.002073  1.667959e-05  1.380497e-06   \n",
       "50151581             21      85.930080  0.008901  7.979578e-04  5.665574e-06   \n",
       "50161581             41      97.562386  0.000271  4.466186e-05  8.621574e-07   \n",
       "\n",
       "                    14        15            16            17        21  ...  \\\n",
       "RELI                                                                    ...   \n",
       "49951581  8.110239e-08  0.000001  8.325645e-07  4.026339e-08  0.000038  ...   \n",
       "49981581  2.072141e-05  0.002156  6.963758e-04  1.789809e-04  0.009756  ...   \n",
       "49991582  1.529333e-06  0.000817  2.182389e-04  1.651016e-05  0.001084  ...   \n",
       "50151581  1.838485e-04  0.005638  3.700416e-05  3.987769e-04  0.859301  ...   \n",
       "50161581  1.826270e-06  0.000045  1.239971e-05  2.361364e-06  0.000080  ...   \n",
       "\n",
       "               403       421       422           423           424  p_unchage  \\\n",
       "RELI                                                                            \n",
       "49951581  0.000005  0.000285  0.000542  9.374106e-06  9.187247e-08   0.284680   \n",
       "49981581  0.001540  0.017287  0.003396  3.867370e-03  5.498816e-05   0.257959   \n",
       "49991582  0.000794  0.001990  0.005905  2.115689e-03  2.773002e-05   0.284680   \n",
       "50151581  0.000004  0.004689  0.000027  1.708885e-03  6.309299e-04   0.549609   \n",
       "50161581  0.000008  0.000023  0.000048  7.809795e-07  4.363787e-08   0.355896   \n",
       "\n",
       "          p_change  changed  LC3  LU3  \n",
       "RELI                                   \n",
       "49951581  0.715320        0   41  301  \n",
       "49981581  0.742041        0   41  301  \n",
       "49991582  0.715320        0   41  301  \n",
       "50151581  0.450391        0   21  242  \n",
       "50161581  0.644104        0   41  301  \n",
       "\n",
       "[5 rows x 82 columns]"
      ]
     },
     "execution_count": 6,
     "metadata": {},
     "output_type": "execute_result"
    }
   ],
   "source": [
    "data_merged = pred.merge(proba_df, on=\"RELI\")\n",
    "data_merged.head()"
   ]
  },
  {
   "cell_type": "code",
   "execution_count": 7,
   "id": "c96919b3-26d3-4310-ad86-68724fef55b8",
   "metadata": {},
   "outputs": [],
   "source": [
    "def split_set(data_to_split, ratio=0.8):\n",
    "    mask = np.random.rand(len(data_to_split)) < ratio\n",
    "    return [data_to_split[mask], data_to_split[~mask]]"
   ]
  },
  {
   "cell_type": "code",
   "execution_count": 8,
   "id": "0fadccb4-6a2f-4e45-a528-7acb291b211b",
   "metadata": {},
   "outputs": [
    {
     "name": "stdout",
     "output_type": "stream",
     "text": [
      "Length of the train dataset : 222513\n",
      "Length of the val dataset : 55646\n",
      "Length of the test dataset : 70265\n"
     ]
    }
   ],
   "source": [
    "train, test = split_set(data_merged)\n",
    "train, val = split_set(train)\n",
    "\n",
    "train_label = train.changed\n",
    "train_features = train.drop('changed', axis=1)\n",
    "print('Length of the train dataset : {}'.format(len(train)))\n",
    "\n",
    "val_label = val.changed\n",
    "val_features = val.drop('changed', axis=1)\n",
    "print('Length of the val dataset : {}'.format(len(val)))\n",
    "\n",
    "test_label = test.changed\n",
    "test_features = test.drop('changed', axis=1)\n",
    "print('Length of the test dataset : {}'.format(len(test)))"
   ]
  },
  {
   "cell_type": "markdown",
   "id": "98888c42-555f-437c-aaab-09ae99456b0e",
   "metadata": {
    "jp-MarkdownHeadingCollapsed": true,
    "tags": []
   },
   "source": [
    "# load RF model"
   ]
  },
  {
   "cell_type": "code",
   "execution_count": 16,
   "id": "b810bc4f-20e3-4167-affa-91596890ec3a",
   "metadata": {},
   "outputs": [],
   "source": [
    "class Classsifers():\n",
    "    \n",
    "    def __init__(self, train_x, train_y, val_x, val_y, classifers, study_name, n_trials=20):\n",
    "        '''\n",
    "        init the finetuning of multiple classifiers\n",
    "        @params:\n",
    "        train_x: input training features\n",
    "        train_y: ground-truth label of training set\n",
    "        ...\n",
    "        classifiers: name of classifier to optimize\n",
    "        '''\n",
    "        self.train_x = train_x\n",
    "        self.train_y = train_y\n",
    "        self.val_x = val_x\n",
    "        self.val_y = val_y\n",
    "        self._classsifers = classifers\n",
    "        self.n_cpus = int(os.cpu_count() - 4)\n",
    "        self.n_trials = n_trials\n",
    "        self.study_name = study_name\n",
    "        self.storage_name = \"sqlite:///{}.db\".format(study_name)\n",
    "        self.acc_mean = 0\n",
    "        self.study = optuna.create_study(study_name=self.study_name, direction='maximize', storage=self.storage_name, load_if_exists=True)\n",
    "        try:\n",
    "            # if os.path.exists('./{}.db'.format(study_name)):\n",
    "            self.best_opt_metric = self.study.best_value\n",
    "            self._best_params = self.study.best_params\n",
    "        except ValueError:\n",
    "            pass\n",
    "            \n",
    "        \n",
    "    def objective(self, trial):\n",
    "        # define the tuning object with fields and range of the hyper params\n",
    "        classsifer = trial.suggest_categorical('classsifer', self._classsifers)\n",
    "\n",
    "        if classsifer == 'RandomForest':\n",
    "            # cf. https://scikit-learn.org/stable/modules/generated/sklearn.ensemble.RandomForestRegressor.html\n",
    "\n",
    "            params = dict(\n",
    "                criterion = trial.suggest_categorical('criterion', [\"gini\", \"entropy\", \"log_loss\"]),\n",
    "                bootstrap = True,\n",
    "                max_depth = trial.suggest_int('max_depth', 10, 1000),\n",
    "                oob_score = True,\n",
    "                max_features = trial.suggest_categorical('max_features', [None, 'sqrt','log2']),\n",
    "                min_samples_split = trial.suggest_int('min_samples_split', 2, 10),\n",
    "                min_samples_leaf = trial.suggest_int('min_samples_leaf', 1, 10),\n",
    "                n_estimators = int(trial.suggest_float('n_estimators', 1000, 8000, step=500)),\n",
    "                # class_weight = 'balanced_subsample',\n",
    "                n_jobs=self.n_cpus\n",
    "            )\n",
    "            model = RandomForestClassifier(**params)\n",
    "            model.fit(self.train_x, self.train_y)\n",
    "            \n",
    "            acc_mean = f1_score(self.val_y, model.predict(self.val_x), average='macro')\n",
    "\n",
    "        else:\n",
    "            raise Exception('Invalid regressor. Only the following choices are valid: \"RandomForest\".')\n",
    "\n",
    "        return acc_mean\n",
    "        \n",
    "    def optimize(self, cv=5):\n",
    "        # hyper params tuning with Optuna\n",
    "        # detailed explanation of Optuna: https://optuna.org/\n",
    "\n",
    "        # self.study.optimize(self.objective, n_trials=self.n_trials, n_jobs=max(self.n_cpus, 1))\n",
    "        self.study.optimize(self.objective, n_trials=self.n_trials, n_jobs=1)\n",
    "                            \n",
    "        # /!\\ we need to make sure that type(n_estimators) == 'int'\n",
    "        best_params = self.study.best_params.copy()\n",
    "        best_params['n_estimators'] = int(best_params['n_estimators'])\n",
    "        print(\"Best parameters:\", best_params)\n",
    "        print(\"Best score (mean balanced_accuracy after 5-fold Cross Validation):\", self.study.best_value)\n",
    "        self._best_params = best_params\n",
    "        self.best_opt_metric = self.study.best_value\n",
    "\n",
    "        \n",
    "    def compute_confusion_matrix(self): \n",
    "    \n",
    "        TP = np.sum(np.logical_and(self._predict_label_test==1, self._true_label_test==1))\n",
    "        TN = np.sum(np.logical_and(self._predict_label_test==0, self._true_label_test==0))\n",
    "        FP = np.sum(np.logical_and(self._predict_label_test==1, self._true_label_test==0))\n",
    "        FN = np.sum(np.logical_and(self._predict_label_test==0, self._true_label_test==1))\n",
    "\n",
    "        self._confusion_matrix = np.asarray([[TP, FP],\n",
    "                                        [FN, TN]])\n",
    "        return self._confusion_matrix\n",
    "\n",
    "\n",
    "    def plot_confusion_matrix(self):\n",
    "        [[TP, FP],[FN, TN]] = self._confusion_matrix\n",
    "        label = np.asarray([['TP {}'.format(TP), 'FP {}'.format(FP)],\n",
    "                            ['FN {}'.format(FN), 'TN {}'.format(TN)]])\n",
    "\n",
    "        df_cm = pd.DataFrame(self._confusion_matrix, index=['Yes', 'No'], columns=['Positive', 'Negative']) \n",
    "\n",
    "        sn.heatmap(df_cm, cmap='YlOrRd', annot=label, annot_kws={\"size\": 16}, cbar=False, fmt='')\n",
    "        plt.xlabel('Actual')\n",
    "        plt.ylabel('Predicted')\n",
    "        plt.title('Confusion matrix')\n",
    "\n",
    "\n",
    "\n",
    "    def compute_score(self):\n",
    "        [[TP, FP],[FN, TN]] = self._confusion_matrix.astype(float)\n",
    "\n",
    "        accuracy =  (TP+TN)/np.sum(self._confusion_matrix)\n",
    "\n",
    "        precision_positive = TP/(TP+FP) if (TP+FP) !=0 else np.nan\n",
    "        precision_negative = TN/(TN+FN) if (TN+FN) !=0 else np.nan\n",
    "\n",
    "        recall_positive = TP/(TP+FN) if (TP+FN) !=0 else np.nan\n",
    "        recall_negative = TN/(TN+FP) if (TN+FP) !=0 else np.nan\n",
    "\n",
    "        F1_score_positive = 2 *(precision_positive*recall_positive)/(precision_positive+recall_positive) if (precision_positive+recall_positive) !=0 else np.nan\n",
    "        F1_score_negative = 2 *(precision_negative*recall_negative)/(precision_negative+recall_negative) if (precision_negative+recall_negative) !=0 else np.nan\n",
    "        \n",
    "        balanced_acc = (recall_positive + recall_negative) / 2\n",
    "\n",
    "        print(\"The accuracy of model is {:1.3f}\".format(accuracy))\n",
    "        print(\"The balanced accuracy of model is {:1.3f}\".format(balanced_acc))\n",
    "        print(\"For the positive case, the precision is {0:1.3f}, the recall is {1:1.3f} and the F1 score is {2:1.3f}\"\\\n",
    "              .format(precision_positive, recall_positive, F1_score_positive))\n",
    "        print(\"For the negative case, the precision is {0:1.3f}, the recall is {1:1.3f} and the F1 score is {2:1.3f}\"\\\n",
    "              .format(precision_negative, recall_negative, F1_score_negative))\n",
    "\n",
    "        return {\n",
    "            'accuracy': accuracy,\n",
    "            'balanced_accuracy': balanced_acc,\n",
    "            'precision_positive': precision_positive,\n",
    "            'recall_positive': recall_positive,\n",
    "            'F1_score_positive': F1_score_positive,\n",
    "            'precision_negative': precision_negative,\n",
    "            'recall_negative': recall_negative,\n",
    "            'F1_score_negative': F1_score_negative\n",
    "        }\n",
    "\n",
    "        \n",
    "    def best_model(self):\n",
    "        # init the best model with optimized params\n",
    "        params_dict = self._best_params.copy()\n",
    "        cls_best = params_dict.pop('classsifer')\n",
    "        if cls_best == 'RandomForest':\n",
    "            params_dict['n_estimators'] = int(params_dict['n_estimators'])\n",
    "            best_model = RandomForestClassifier(**params_dict, n_jobs=self.n_cpus)\n",
    "        print(params_dict)\n",
    "                \n",
    "        best_model.fit(self.train_x, self.train_y)\n",
    "        score = cross_val_score(best_model, self.train_x, self.train_y, cv=5, scoring=\"balanced_accuracy\")\n",
    "        self.score = score.mean()\n",
    "        self.best_model = best_model\n",
    "        \n",
    "        print('Best model initialized with macro average F1-score: {:.3f} \\n'.format(self.score))\n",
    "\n",
    "    \n",
    "    def _evaluate(self, test_x, test_y):\n",
    "        # evaluate the performance of given test data\n",
    "        self._true_label_test = test_y\n",
    "        self._predict_label_test = self.best_model.predict(test_x)\n",
    "        acc_balanced = balanced_accuracy_score(self._true_label_test, self._predict_label_test)\n",
    "        \n",
    "        return acc_balanced\n",
    "        \n",
    "    \n",
    "    def save_model(self, path):\n",
    "        # Save to file in the current working directory\n",
    "        with open(path, 'wb') as file:\n",
    "            pickle.dump(self.best_model, file)\n",
    "        \n",
    "    \n",
    "    def load_model(self, path):\n",
    "        # Load from file\n",
    "        with open(path, 'rb') as file:\n",
    "            self.best_model = pickle.load(file)\n",
    "        "
   ]
  },
  {
   "cell_type": "code",
   "execution_count": 12,
   "id": "e5361a9e-de88-4aba-abca-6e5a762a5ea7",
   "metadata": {},
   "outputs": [
    {
     "name": "stderr",
     "output_type": "stream",
     "text": [
      "\u001b[32m[I 2022-12-19 13:20:52,384]\u001b[0m Using an existing study with name 'integration_change_proba' instead of creating a new one.\u001b[0m\n"
     ]
    }
   ],
   "source": [
    "test_cls = Classsifers(train_x=train_features, train_y=train_label, val_x=val_features, val_y=val_label,\n",
    "                       classifers=['RandomForest'], study_name='FCN-RandomForest-integrate', n_trials=200)"
   ]
  },
  {
   "cell_type": "code",
   "execution_count": null,
   "id": "2cb27678-4e5c-4d0b-a578-e57c27544e89",
   "metadata": {
    "scrolled": true,
    "tags": []
   },
   "outputs": [],
   "source": [
    "test_cls.optimize()"
   ]
  },
  {
   "cell_type": "code",
   "execution_count": 14,
   "id": "5fe7f393-a089-48f8-bf0e-28e72144f531",
   "metadata": {},
   "outputs": [
    {
     "data": {
      "text/plain": [
       "{'classsifer': 'RandomForest',\n",
       " 'max_depth': 488,\n",
       " 'max_features': None,\n",
       " 'min_samples_leaf': 10,\n",
       " 'min_samples_split': 7,\n",
       " 'n_estimators': 2000.0}"
      ]
     },
     "execution_count": 14,
     "metadata": {},
     "output_type": "execute_result"
    }
   ],
   "source": [
    "test_cls._best_params"
   ]
  },
  {
   "cell_type": "code",
   "execution_count": 13,
   "id": "19f889fe-d24e-46a2-910e-450416d69ec8",
   "metadata": {},
   "outputs": [
    {
     "data": {
      "text/plain": [
       "0.7947832998159647"
      ]
     },
     "execution_count": 13,
     "metadata": {},
     "output_type": "execute_result"
    }
   ],
   "source": [
    "test_cls.best_opt_metric"
   ]
  },
  {
   "cell_type": "code",
   "execution_count": null,
   "id": "fe686108-b90a-4846-b8bf-ed579a0f854b",
   "metadata": {},
   "outputs": [
    {
     "name": "stdout",
     "output_type": "stream",
     "text": [
      "{'max_depth': 488, 'max_features': None, 'min_samples_leaf': 10, 'min_samples_split': 7, 'n_estimators': 2000}\n"
     ]
    }
   ],
   "source": [
    "test_cls.best_model()"
   ]
  },
  {
   "cell_type": "code",
   "execution_count": 15,
   "id": "1f937c4b-f61a-48fc-9c9c-08b6e5d07a16",
   "metadata": {},
   "outputs": [],
   "source": [
    "test_cls.load_model('./FCN-RandomForest-integrate.pkl')"
   ]
  },
  {
   "cell_type": "code",
   "execution_count": 43,
   "id": "66eb4ed4-09d0-46be-8ebc-2cdd33839ea9",
   "metadata": {},
   "outputs": [],
   "source": [
    "test_cls.save_model('./FCN-RandomForest-integrate.pkl')"
   ]
  },
  {
   "cell_type": "code",
   "execution_count": 13,
   "id": "898a529c-3352-4b46-842f-13d4e1749109",
   "metadata": {},
   "outputs": [],
   "source": [
    "prediction_proba = test_cls.best_model.predict_proba(test_features)"
   ]
  },
  {
   "cell_type": "code",
   "execution_count": 14,
   "id": "8b49e967-aad7-44f4-b86c-ea80194e1663",
   "metadata": {},
   "outputs": [],
   "source": [
    "# build df_change for ML model\n",
    "df_change = pd.DataFrame(test_label)\n",
    "df_change['proba_change'] = prediction_proba[:,1]\n",
    "df_change.reset_index(inplace=True)"
   ]
  },
  {
   "cell_type": "code",
   "execution_count": 19,
   "id": "75e07ce9-c45b-4a14-9c06-fd8e4cf60d08",
   "metadata": {},
   "outputs": [
    {
     "name": "stdout",
     "output_type": "stream",
     "text": [
      "Length of filtered data: 47588\n",
      "balanced accuracy: 0.752\n",
      "recall: 0.969\n",
      "true negative rate: 0.535\n",
      "missed changes: 241\n",
      "missed changes w.r.t total changes: 0.031\n",
      "missed weighted change: 10810\n",
      "missed weighted changes w.r.t total weighted changes: 0.020\n",
      "automatized points: 21567\n",
      "automatized capacity: 0.541\n",
      "raw metric: 0.372\n",
      "weighted metric: 0.434\n"
     ]
    },
    {
     "data": {
      "text/plain": [
       "[0.09,\n",
       " 241,\n",
       " 0.03125,\n",
       " 10810.0,\n",
       " 0.01971638320186038,\n",
       " 21567,\n",
       " 0.5408516400842612,\n",
       " 0.37183550255792963,\n",
       " 0.4342152581717016]"
      ]
     },
     "execution_count": 19,
     "metadata": {},
     "output_type": "execute_result"
    }
   ],
   "source": [
    "# Metric mode 'multi' uses change probability and image-level prediction as input together \n",
    "metric(mode='multi', PROBABILITY_THRESHOLD=0.09, change_pred=df_change, lc_pred=pred_lc.reset_index(), lu_pred=pred_lu.reset_index())"
   ]
  },
  {
   "cell_type": "code",
   "execution_count": 16,
   "id": "995db53b-f27c-4037-902c-0168ca490c1d",
   "metadata": {},
   "outputs": [],
   "source": [
    "threshold = np.linspace(0, 1, 101)\n",
    "columns_score_name = ['Threshold', 'miss_changes', 'miss_changed_ratio', 'miss_weighted_changes', 'miss_weighted_changed_ratio', \n",
    "            'automatized_points', 'automatized_capacity', 'raw_metric', 'weighted_metric']\n",
    "threshold_score = pd.concat([pd.DataFrame([metric(mode='multi', PROBABILITY_THRESHOLD=t, change_pred=df_change, \n",
    "                                                  lc_pred=pred_lc.reset_index(), lu_pred=pred_lu.reset_index(), print_log=False)],\n",
    "                                          columns=columns_score_name) for t in threshold],\n",
    "                            ignore_index=True)\n",
    "threshold_score.set_index('Threshold', inplace=True)"
   ]
  },
  {
   "cell_type": "code",
   "execution_count": 17,
   "id": "18b29e47-41ea-45fd-8020-be250f25957a",
   "metadata": {},
   "outputs": [
    {
     "data": {
      "text/plain": [
       "Text(0.5, 1.0, 'weighted_metric')"
      ]
     },
     "execution_count": 17,
     "metadata": {},
     "output_type": "execute_result"
    },
    {
     "data": {
      "image/png": "[encoded data removed]",
      "text/plain": [
       "<Figure size 640x480 with 1 Axes>"
      ]
     },
     "metadata": {},
     "output_type": "display_data"
    }
   ],
   "source": [
    "threshold_score['weighted_metric'].plot(grid=True, ylim=[0,1]).set_title('weighted_metric')"
   ]
  },
  {
   "cell_type": "code",
   "execution_count": 18,
   "id": "a4b9c9bb-6e97-4ab3-b5b0-39707a5ff4df",
   "metadata": {},
   "outputs": [
    {
     "data": {
      "text/plain": [
       "miss_changes                     241.000000\n",
       "miss_changed_ratio                 0.031250\n",
       "miss_weighted_changes          10810.000000\n",
       "miss_weighted_changed_ratio        0.019716\n",
       "automatized_points             21567.000000\n",
       "automatized_capacity               0.540852\n",
       "raw_metric                         0.371836\n",
       "weighted_metric                    0.434215\n",
       "Name: 0.09, dtype: float64"
      ]
     },
     "execution_count": 18,
     "metadata": {},
     "output_type": "execute_result"
    }
   ],
   "source": [
    "threshold_score.iloc[threshold_score['weighted_metric'].argmax()]"
   ]
  },
  {
   "cell_type": "code",
   "execution_count": 52,
   "id": "d7afcc28-09e2-450d-bf60-f55d2aa6806e",
   "metadata": {},
   "outputs": [
    {
     "data": {
      "text/plain": [
       "0.12"
      ]
     },
     "execution_count": 52,
     "metadata": {},
     "output_type": "execute_result"
    }
   ],
   "source": [
    "thred = threshold_score.iloc[threshold_score['weighted_metric'].argmax()].name\n",
    "thred"
   ]
  },
  {
   "cell_type": "code",
   "execution_count": 53,
   "id": "bb9e0f06-56ba-43ee-abe0-4d9466126643",
   "metadata": {},
   "outputs": [
    {
     "data": {
      "image/png": "[encoded data removed]",
      "text/plain": [
       "<Figure size 1000x500 with 6 Axes>"
      ]
     },
     "metadata": {},
     "output_type": "display_data"
    }
   ],
   "source": [
    "fig, axs = plt.subplots(nrows=2, ncols=3, sharex=True, sharey=True, figsize=(10,5))\n",
    "\n",
    "col_plot = ['miss_changes', 'miss_weighted_changes', 'automatized_points',\n",
    "            'miss_changed_ratio','miss_weighted_changed_ratio',  'automatized_capacity']\n",
    "\n",
    "major_ticks = np.linspace(0,1,5)\n",
    "\n",
    "for axe, col in zip(axs.flat, col_plot):\n",
    "    threshold_score[col].plot(ax=axe, grid = True)\n",
    "    axe.set_title(col)\n",
    "    axe.set_xticks(major_ticks)    \n",
    "    axe.grid(which='major', alpha=0.5)"
   ]
  },
  {
   "cell_type": "markdown",
   "id": "cd6faf6f-62bc-4f50-a84e-e70272633c3d",
   "metadata": {
    "tags": []
   },
   "source": [
    "# load data for pytorch model"
   ]
  },
  {
   "cell_type": "code",
   "execution_count": 9,
   "id": "b0fa99a2-3a22-4934-98f3-fe4d98fd9fdb",
   "metadata": {},
   "outputs": [],
   "source": [
    "X_train = torch.Tensor(train_features.values).cuda()\n",
    "y_train = torch.Tensor(train_label.values).cuda()\n",
    "\n",
    "X_val = torch.Tensor(val_features.values).cuda()\n",
    "y_val = torch.Tensor(val_label.values).cuda()\n",
    "\n",
    "X_test = torch.Tensor(test_features.values).cuda()\n",
    "y_test = torch.Tensor(test_label.values).cuda()"
   ]
  },
  {
   "cell_type": "code",
   "execution_count": 10,
   "id": "d30ba713-9bb1-4e8a-9a9a-4af0138be2d1",
   "metadata": {},
   "outputs": [],
   "source": [
    "class FCN(nn.Module):\n",
    "    def __init__(self, input_dim, output_dim):\n",
    "        super(FCN, self).__init__()\n",
    "        self.fc1 = nn.Linear(input_dim, 2048)\n",
    "        self.fc2 = nn.Linear(2048, 2048)\n",
    "        self.fc5 = nn.Linear(2048, 1024)\n",
    "        self.fc6 = nn.Linear(1024, 512)\n",
    "        self.fc7 = nn.Linear(512, output_dim)\n",
    "\n",
    "        \n",
    "    def forward(self, x):\n",
    "        x = torch.relu(self.fc1(x))\n",
    "        x = torch.relu(self.fc2(x))\n",
    "        x = torch.relu(self.fc5(x))\n",
    "        x = torch.relu(self.fc6(x))\n",
    "        x = torch.sigmoid(self.fc7(x))   \n",
    "        \n",
    "        return x"
   ]
  },
  {
   "cell_type": "code",
   "execution_count": 11,
   "id": "9421b356-e5ff-4946-996d-148e31dd940b",
   "metadata": {},
   "outputs": [],
   "source": [
    "network_in = './integrate-lr-fcn/ckpt-0.95-4/ckpt-135.pth'\n",
    "\n",
    "input_dim = len(test_features.columns)\n",
    "output_dim = 1 \n",
    "\n",
    "model = FCN(input_dim, output_dim).cuda()\n",
    "\n",
    "model.load_state_dict(torch.load(network_in), strict=True)\n",
    "model = model.cuda()\n",
    "\n",
    "# Calculating the loss and accuracy for the validation dataset\n",
    "outputs_test = torch.squeeze(model(X_test))"
   ]
  },
  {
   "cell_type": "code",
   "execution_count": 12,
   "id": "d90ed353-c360-4c6e-9235-58c3780effb6",
   "metadata": {},
   "outputs": [],
   "source": [
    "df_change = pd.DataFrame(test_label)\n",
    "df_change['proba_change'] = outputs_test.cpu().detach().numpy()\n",
    "df_change.reset_index(inplace=True)"
   ]
  },
  {
   "cell_type": "code",
   "execution_count": 13,
   "id": "23e3d56f-4b4c-4094-b66a-d239d159b800",
   "metadata": {},
   "outputs": [
    {
     "name": "stdout",
     "output_type": "stream",
     "text": [
      "Length of filtered data: 47588\n",
      "balanced accuracy: 0.742\n",
      "recall: 0.970\n",
      "true negative rate: 0.514\n",
      "missed changes: 228\n",
      "missed changes w.r.t total changes: 0.030\n",
      "missed weighted change: 10335\n",
      "missed weighted changes w.r.t total weighted changes: 0.019\n",
      "automatized points: 20739\n",
      "automatized capacity: 0.520\n",
      "raw metric: 0.366\n",
      "weighted metric: 0.422\n"
     ]
    },
    {
     "data": {
      "text/plain": [
       "[0.5,\n",
       " 0.742402615119318,\n",
       " 0.9704356846473029,\n",
       " 0.5143695455913332,\n",
       " 228,\n",
       " 0.029564315352697094,\n",
       " 10335.0,\n",
       " 0.01885002963841138,\n",
       " 20739,\n",
       " 0.5200872705386699,\n",
       " 0.36632702976738263,\n",
       " 0.4220506658965258]"
      ]
     },
     "execution_count": 13,
     "metadata": {},
     "output_type": "execute_result"
    }
   ],
   "source": [
    "metric(mode='multi', PROBABILITY_THRESHOLD=0.5, change_pred=df_change, lc_pred=pred_lc.reset_index(), lu_pred=pred_lu.reset_index())"
   ]
  }
 ],
 "metadata": {
  "kernelspec": {
   "display_name": "Python [conda env:landstats] *",
   "language": "python",
   "name": "conda-env-landstats-py"
  },
  "language_info": {
   "codemirror_mode": {
    "name": "ipython",
    "version": 3
   },
   "file_extension": ".py",
   "mimetype": "text/x-python",
   "name": "python",
   "nbconvert_exporter": "python",
   "pygments_lexer": "ipython3",
   "version": "3.10.4"
  }
 },
 "nbformat": 4,
 "nbformat_minor": 5
}
