{
 "cells": [
  {
   "cell_type": "code",
   "execution_count": 1,
   "id": "8fa4665f-92bd-4fe7-9ac3-5c0ecda718f6",
   "metadata": {},
   "outputs": [],
   "source": [
    "import os \n",
    "import sys\n",
    "import math\n",
    "\n",
    "import pickle\n",
    "import optuna\n",
    "import logging\n",
    "import numpy as np\n",
    "import pandas as pd\n",
    "import seaborn as sn\n",
    "# from tqdm import tqdm\n",
    "import matplotlib.pyplot as plt\n",
    "\n",
    "from lightgbm import LGBMClassifier\n",
    "from xgboost import XGBClassifier\n",
    "from sklearn.model_selection import GridSearchCV\n",
    "from sklearn.ensemble import RandomForestClassifier\n",
    "from sklearn.model_selection import cross_val_predict\n",
    "from sklearn.model_selection import cross_val_score\n",
    "from sklearn.metrics import mean_squared_error, auc, roc_curve\n",
    "\n",
    "%matplotlib inline\n",
    "\n",
    "np.random.seed(2022)\n",
    "data_folder = '../data/'"
   ]
  },
  {
   "cell_type": "markdown",
   "id": "885999c3-8449-492e-b9d6-1cf1f51167f1",
   "metadata": {},
   "source": [
    "# Load the dataset\n",
    "\n",
    "- Choose from the following cells the input features of the dataset.\n",
    "- convert categorical features to a suitable numerical representation (use one-hot encoding). \n",
    "- Split the data into a training set (80%) and a test set (20%). Pair each feature vector with the corresponding label, i.e., whether the land cover or land use of the tile is changed or not. "
   ]
  },
  {
   "cell_type": "markdown",
   "id": "781c4b67-8c7a-443d-a0bd-5dfa9fb973e7",
   "metadata": {},
   "source": [
    "#### 8-neighbors "
   ]
  },
  {
   "cell_type": "code",
   "execution_count": 2,
   "id": "c0ad3439-31e2-49da-a2ca-d440ba447291",
   "metadata": {},
   "outputs": [],
   "source": [
    "columns = ['LU4', 'LC4', 'LU3', 'LC3', 'LU2', 'LC2', 'LU1', 'LC1', 'nbr1_LU3', 'nbr1_LC3', 'nbr1_LU2', 'nbr1_LC2', 'nbr1_LU1',\n",
    "           'nbr1_LC1', 'nbr2_LU3', 'nbr2_LC3', 'nbr2_LU2', 'nbr2_LC2', 'nbr2_LU1', 'nbr2_LC1', 'nbr3_LU3', 'nbr3_LC3',\n",
    "           'nbr3_LU2', 'nbr3_LC2', 'nbr3_LU1', 'nbr3_LC1', 'nbr4_LU3', 'nbr4_LC3', 'nbr4_LU2', 'nbr4_LC2', 'nbr4_LU1',\n",
    "           'nbr4_LC1', 'nbr5_LU3', 'nbr5_LC3', 'nbr5_LU2', 'nbr5_LC2', 'nbr5_LU1', 'nbr5_LC1', 'nbr6_LU3', 'nbr6_LC3',\n",
    "           'nbr6_LU2', 'nbr6_LC2', 'nbr6_LU1', 'nbr6_LC1', 'nbr7_LU3', 'nbr7_LC3', 'nbr7_LU2', 'nbr7_LC2', 'nbr7_LU1',\n",
    "           'nbr7_LC1', 'nbr8_LU3', 'nbr8_LC3', 'nbr8_LU2', 'nbr8_LC2', 'nbr8_LU1', 'nbr8_LC1']\n"
   ]
  },
  {
   "cell_type": "markdown",
   "id": "ce2d3909-285d-43cb-8aa6-db79e970bf1e",
   "metadata": {},
   "source": [
    "#### 4-neighbors "
   ]
  },
  {
   "cell_type": "code",
   "execution_count": 3,
   "id": "f9cc2db3-731c-4081-990e-a38fd27609ad",
   "metadata": {},
   "outputs": [],
   "source": [
    "columns = ['LU4', 'LC4', 'LU3', 'LC3', 'LU2', 'LC2', 'LU1', 'LC1', 'nbr1_LU3', 'nbr1_LC3', 'nbr1_LU2', 'nbr1_LC2', 'nbr1_LU1',\n",
    "           'nbr1_LC1', 'nbr2_LU3', 'nbr2_LC3', 'nbr2_LU2', 'nbr2_LC2', 'nbr2_LU1', 'nbr2_LC1', 'nbr3_LU3', 'nbr3_LC3',\n",
    "           'nbr3_LU2', 'nbr3_LC2', 'nbr3_LU1', 'nbr3_LC1', 'nbr4_LU3', 'nbr4_LC3', 'nbr4_LU2', 'nbr4_LC2', 'nbr4_LU1',\n",
    "           'nbr4_LC1']"
   ]
  },
  {
   "cell_type": "markdown",
   "id": "142df078-fce2-44dc-9f75-4161fbad2c73",
   "metadata": {},
   "source": [
    "#### Time-deactivation"
   ]
  },
  {
   "cell_type": "code",
   "execution_count": 4,
   "id": "645fdb38-5b01-4713-9556-bf08bc6e315f",
   "metadata": {},
   "outputs": [],
   "source": [
    "columns = ['LU4', 'LC4', 'LU3', 'LC3', 'nbr1_LU3', 'nbr1_LC3', 'nbr2_LU3', 'nbr2_LC3', 'nbr3_LU3', 'nbr3_LC3',\n",
    "           'nbr4_LU3', 'nbr4_LC3', 'nbr5_LU3', 'nbr5_LC3', 'nbr6_LU3', 'nbr6_LC3', 'nbr7_LU3', 'nbr7_LC3',\n",
    "           'nbr8_LU3', 'nbr8_LC3']"
   ]
  },
  {
   "cell_type": "markdown",
   "id": "452fcf54-04f9-4fb9-a962-91063c7daff8",
   "metadata": {},
   "source": [
    "#### Space-deactivation"
   ]
  },
  {
   "cell_type": "code",
   "execution_count": 5,
   "id": "cb6ede8b-05fc-4366-bf9c-861699c0735d",
   "metadata": {},
   "outputs": [],
   "source": [
    "columns = ['LU4', 'LC4', 'LU3', 'LC3', 'LU2', 'LC2', 'LU1', 'LC1']"
   ]
  },
  {
   "cell_type": "code",
   "execution_count": 6,
   "id": "6a2b9616-6e1f-4d29-8dd8-23ca3ab351e3",
   "metadata": {},
   "outputs": [
    {
     "data": {
      "text/html": [
       "<div>\n",
       "<style scoped>\n",
       "    .dataframe tbody tr th:only-of-type {\n",
       "        vertical-align: middle;\n",
       "    }\n",
       "\n",
       "    .dataframe tbody tr th {\n",
       "        vertical-align: top;\n",
       "    }\n",
       "\n",
       "    .dataframe thead th {\n",
       "        text-align: right;\n",
       "    }\n",
       "</style>\n",
       "<table border=\"1\" class=\"dataframe\">\n",
       "  <thead>\n",
       "    <tr style=\"text-align: right;\">\n",
       "      <th></th>\n",
       "      <th>LU4</th>\n",
       "      <th>LC4</th>\n",
       "      <th>LU3</th>\n",
       "      <th>LC3</th>\n",
       "      <th>LU2</th>\n",
       "      <th>LC2</th>\n",
       "      <th>LU1</th>\n",
       "      <th>LC1</th>\n",
       "    </tr>\n",
       "    <tr>\n",
       "      <th>RELI</th>\n",
       "      <th></th>\n",
       "      <th></th>\n",
       "      <th></th>\n",
       "      <th></th>\n",
       "      <th></th>\n",
       "      <th></th>\n",
       "      <th></th>\n",
       "      <th></th>\n",
       "    </tr>\n",
       "  </thead>\n",
       "  <tbody>\n",
       "    <tr>\n",
       "      <th>48561099</th>\n",
       "      <td>LU301</td>\n",
       "      <td>LC41</td>\n",
       "      <td>LU301</td>\n",
       "      <td>LC41</td>\n",
       "      <td>LU301</td>\n",
       "      <td>LC41</td>\n",
       "      <td>LU301</td>\n",
       "      <td>LC41</td>\n",
       "    </tr>\n",
       "    <tr>\n",
       "      <th>48611112</th>\n",
       "      <td>LU402</td>\n",
       "      <td>LC61</td>\n",
       "      <td>LU402</td>\n",
       "      <td>LC61</td>\n",
       "      <td>LU402</td>\n",
       "      <td>LC61</td>\n",
       "      <td>LU402</td>\n",
       "      <td>LC61</td>\n",
       "    </tr>\n",
       "    <tr>\n",
       "      <th>48621113</th>\n",
       "      <td>LU103</td>\n",
       "      <td>LC47</td>\n",
       "      <td>LU103</td>\n",
       "      <td>LC47</td>\n",
       "      <td>LU421</td>\n",
       "      <td>LC31</td>\n",
       "      <td>LU421</td>\n",
       "      <td>LC31</td>\n",
       "    </tr>\n",
       "    <tr>\n",
       "      <th>48621114</th>\n",
       "      <td>LU106</td>\n",
       "      <td>LC12</td>\n",
       "      <td>LU106</td>\n",
       "      <td>LC12</td>\n",
       "      <td>LU106</td>\n",
       "      <td>LC12</td>\n",
       "      <td>LU106</td>\n",
       "      <td>LC12</td>\n",
       "    </tr>\n",
       "    <tr>\n",
       "      <th>48621115</th>\n",
       "      <td>LU142</td>\n",
       "      <td>LC11</td>\n",
       "      <td>LU142</td>\n",
       "      <td>LC15</td>\n",
       "      <td>LU142</td>\n",
       "      <td>LC15</td>\n",
       "      <td>LU142</td>\n",
       "      <td>LC15</td>\n",
       "    </tr>\n",
       "  </tbody>\n",
       "</table>\n",
       "</div>"
      ],
      "text/plain": [
       "            LU4   LC4    LU3   LC3    LU2   LC2    LU1   LC1\n",
       "RELI                                                        \n",
       "48561099  LU301  LC41  LU301  LC41  LU301  LC41  LU301  LC41\n",
       "48611112  LU402  LC61  LU402  LC61  LU402  LC61  LU402  LC61\n",
       "48621113  LU103  LC47  LU103  LC47  LU421  LC31  LU421  LC31\n",
       "48621114  LU106  LC12  LU106  LC12  LU106  LC12  LU106  LC12\n",
       "48621115  LU142  LC11  LU142  LC15  LU142  LC15  LU142  LC15"
      ]
     },
     "execution_count": 6,
     "metadata": {},
     "output_type": "execute_result"
    }
   ],
   "source": [
    "original_data = pd.read_csv(os.path.join(data_folder, 'trainset_with_neighbour.csv'), index_col=0)\n",
    "original_data = original_data[columns]\n",
    "original_data.head()"
   ]
  },
  {
   "cell_type": "code",
   "execution_count": 7,
   "id": "f00b0b3f-8931-4996-8328-6f3b789f34d7",
   "metadata": {},
   "outputs": [
    {
     "data": {
      "text/plain": [
       "Index(['LC1', 'LC2', 'LC3', 'LC4', 'LU1', 'LU2', 'LU3', 'LU4'], dtype='object')"
      ]
     },
     "execution_count": 7,
     "metadata": {},
     "output_type": "execute_result"
    }
   ],
   "source": [
    "original_data.sort_index(axis=1, inplace=True)\n",
    "original_data.columns"
   ]
  },
  {
   "cell_type": "code",
   "execution_count": 8,
   "id": "de21f3d7-0304-4c88-92b6-7c481595ef6e",
   "metadata": {},
   "outputs": [
    {
     "name": "stdout",
     "output_type": "stream",
     "text": [
      "The length of the data with all rows is : 348474\n",
      "The length of the data without the rows with nan value is: 348474\n"
     ]
    }
   ],
   "source": [
    "print('The length of the data with all rows is : {}'.format(len(original_data)))\n",
    "original_data.dropna(inplace=True)\n",
    "print('The length of the data without the rows with nan value is: {}'.format(len(original_data)))"
   ]
  },
  {
   "cell_type": "code",
   "execution_count": 9,
   "id": "9d3ee6ab-6d69-460a-bf54-7616a65327ec",
   "metadata": {},
   "outputs": [
    {
     "data": {
      "text/html": [
       "<div>\n",
       "<style scoped>\n",
       "    .dataframe tbody tr th:only-of-type {\n",
       "        vertical-align: middle;\n",
       "    }\n",
       "\n",
       "    .dataframe tbody tr th {\n",
       "        vertical-align: top;\n",
       "    }\n",
       "\n",
       "    .dataframe thead th {\n",
       "        text-align: right;\n",
       "    }\n",
       "</style>\n",
       "<table border=\"1\" class=\"dataframe\">\n",
       "  <thead>\n",
       "    <tr style=\"text-align: right;\">\n",
       "      <th></th>\n",
       "      <th>LC1</th>\n",
       "      <th>LC2</th>\n",
       "      <th>LC3</th>\n",
       "      <th>LU1</th>\n",
       "      <th>LU2</th>\n",
       "      <th>LU3</th>\n",
       "      <th>changed</th>\n",
       "    </tr>\n",
       "    <tr>\n",
       "      <th>RELI</th>\n",
       "      <th></th>\n",
       "      <th></th>\n",
       "      <th></th>\n",
       "      <th></th>\n",
       "      <th></th>\n",
       "      <th></th>\n",
       "      <th></th>\n",
       "    </tr>\n",
       "  </thead>\n",
       "  <tbody>\n",
       "    <tr>\n",
       "      <th>48561099</th>\n",
       "      <td>LC41</td>\n",
       "      <td>LC41</td>\n",
       "      <td>LC41</td>\n",
       "      <td>LU301</td>\n",
       "      <td>LU301</td>\n",
       "      <td>LU301</td>\n",
       "      <td>0</td>\n",
       "    </tr>\n",
       "    <tr>\n",
       "      <th>48611112</th>\n",
       "      <td>LC61</td>\n",
       "      <td>LC61</td>\n",
       "      <td>LC61</td>\n",
       "      <td>LU402</td>\n",
       "      <td>LU402</td>\n",
       "      <td>LU402</td>\n",
       "      <td>0</td>\n",
       "    </tr>\n",
       "    <tr>\n",
       "      <th>48621113</th>\n",
       "      <td>LC31</td>\n",
       "      <td>LC31</td>\n",
       "      <td>LC47</td>\n",
       "      <td>LU421</td>\n",
       "      <td>LU421</td>\n",
       "      <td>LU103</td>\n",
       "      <td>0</td>\n",
       "    </tr>\n",
       "    <tr>\n",
       "      <th>48621114</th>\n",
       "      <td>LC12</td>\n",
       "      <td>LC12</td>\n",
       "      <td>LC12</td>\n",
       "      <td>LU106</td>\n",
       "      <td>LU106</td>\n",
       "      <td>LU106</td>\n",
       "      <td>0</td>\n",
       "    </tr>\n",
       "    <tr>\n",
       "      <th>48621115</th>\n",
       "      <td>LC15</td>\n",
       "      <td>LC15</td>\n",
       "      <td>LC15</td>\n",
       "      <td>LU142</td>\n",
       "      <td>LU142</td>\n",
       "      <td>LU142</td>\n",
       "      <td>1</td>\n",
       "    </tr>\n",
       "  </tbody>\n",
       "</table>\n",
       "</div>"
      ],
      "text/plain": [
       "           LC1   LC2   LC3    LU1    LU2    LU3  changed\n",
       "RELI                                                    \n",
       "48561099  LC41  LC41  LC41  LU301  LU301  LU301        0\n",
       "48611112  LC61  LC61  LC61  LU402  LU402  LU402        0\n",
       "48621113  LC31  LC31  LC47  LU421  LU421  LU103        0\n",
       "48621114  LC12  LC12  LC12  LU106  LU106  LU106        0\n",
       "48621115  LC15  LC15  LC15  LU142  LU142  LU142        1"
      ]
     },
     "execution_count": 9,
     "metadata": {},
     "output_type": "execute_result"
    }
   ],
   "source": [
    "data_features = original_data.copy()\n",
    "data_features['changed'] = [0 if row['LU4'] == row['LU3'] and row['LC4'] == row['LC3'] else 1 for ind, row in data_features[['LU4', 'LC4', 'LU3', 'LC3']].iterrows()]\n",
    "data_features.drop(['LC4', 'LU4'], axis=1, inplace=True)\n",
    "data_features.head()"
   ]
  },
  {
   "cell_type": "code",
   "execution_count": 10,
   "id": "4aba09aa-c44c-4d8d-b1ba-dabdeba7bef0",
   "metadata": {},
   "outputs": [
    {
     "name": "stdout",
     "output_type": "stream",
     "text": [
      "Total number of tiles that changed label in either Land Cover or Land Usage: 58737\n"
     ]
    }
   ],
   "source": [
    "print('Total number of tiles that changed label in either Land Cover or Land Usage: %d' % sum(data_features.changed))"
   ]
  },
  {
   "cell_type": "code",
   "execution_count": 11,
   "id": "0f1bb02d-ae51-4fb9-a4a6-28007acc6694",
   "metadata": {},
   "outputs": [],
   "source": [
    "def split_set(data_to_split, ratio=0.8):\n",
    "    mask = np.random.rand(len(data_to_split)) < ratio\n",
    "    return [data_to_split[mask].reset_index(drop=True), data_to_split[~mask].reset_index(drop=True)]"
   ]
  },
  {
   "cell_type": "code",
   "execution_count": 12,
   "id": "be6cf6b6-92a0-4fb6-8a07-992756fea995",
   "metadata": {},
   "outputs": [],
   "source": [
    "[train, test] = split_set(data_features)"
   ]
  },
  {
   "cell_type": "code",
   "execution_count": 13,
   "id": "96286028-a5f8-4579-8712-3fb9c0a56747",
   "metadata": {
    "tags": []
   },
   "outputs": [
    {
     "data": {
      "text/plain": [
       "Index(['changed', 'LC1_LC11', 'LC1_LC12', 'LC1_LC13', 'LC1_LC14', 'LC1_LC15',\n",
       "       'LC1_LC16', 'LC1_LC17', 'LC1_LC21', 'LC1_LC31',\n",
       "       ...\n",
       "       'LU3_LU302', 'LU3_LU303', 'LU3_LU304', 'LU3_LU401', 'LU3_LU402',\n",
       "       'LU3_LU403', 'LU3_LU421', 'LU3_LU422', 'LU3_LU423', 'LU3_LU424'],\n",
       "      dtype='object', length=220)"
      ]
     },
     "execution_count": 13,
     "metadata": {},
     "output_type": "execute_result"
    }
   ],
   "source": [
    "train_categorical = pd.get_dummies(train)\n",
    "train_categorical.columns"
   ]
  },
  {
   "cell_type": "code",
   "execution_count": 14,
   "id": "7efc7634-0862-4f7b-9aa9-ead1dc0a5d61",
   "metadata": {},
   "outputs": [],
   "source": [
    "# Make sure we use only the features available in the training set\n",
    "test_categorical = pd.get_dummies(test)[train_categorical.columns]"
   ]
  },
  {
   "cell_type": "code",
   "execution_count": 15,
   "id": "fa2715a0-9c51-420f-8265-1e5e130b493b",
   "metadata": {},
   "outputs": [
    {
     "name": "stdout",
     "output_type": "stream",
     "text": [
      "Length of the train dataset : 278198\n",
      "Length of the test dataset : 70276\n"
     ]
    }
   ],
   "source": [
    "train_label=train_categorical.changed\n",
    "train_features = train_categorical.drop('changed', axis=1)\n",
    "print('Length of the train dataset : {}'.format(len(train)))\n",
    "\n",
    "test_label=test_categorical.changed\n",
    "test_features = test_categorical.drop('changed', axis=1)\n",
    "print('Length of the test dataset : {}'.format(len(test)))"
   ]
  },
  {
   "cell_type": "markdown",
   "id": "aa709911-dd4a-43a9-b693-9b1772bd970e",
   "metadata": {},
   "source": [
    "# XGboost & Random Forest "
   ]
  },
  {
   "cell_type": "code",
   "execution_count": 16,
   "id": "cd969ed5-d9ba-49ce-b5c4-a78ffef8b36f",
   "metadata": {},
   "outputs": [],
   "source": [
    "class Classsifers():\n",
    "    \n",
    "    def __init__(self, train_x, train_y, classifers, study_name, n_trials=20):\n",
    "        '''\n",
    "        init the finetuning of multiple classifiers\n",
    "        @params:\n",
    "        train_x: input training features\n",
    "        train_y: ground-truth label of training set\n",
    "        ...\n",
    "        classifiers: name of classifier to optimize\n",
    "        '''\n",
    "        self.train_x = train_x\n",
    "        self.train_y = train_y\n",
    "        self._classsifers = classifers\n",
    "        self.n_cpus = int(os.cpu_count() - 8)\n",
    "        self.n_trials = n_trials\n",
    "        self.study_name = study_name\n",
    "        self.storage_name = \"sqlite:///{}.db\".format(study_name)\n",
    "        self.acc_mean = 0\n",
    "        self.study = optuna.create_study(study_name=self.study_name, direction='maximize', storage=self.storage_name, load_if_exists=True)\n",
    "        try:\n",
    "            # if os.path.exists('./{}.db'.format(study_name)):\n",
    "            self.best_opt_metric = self.study.best_value\n",
    "            self._best_params = self.study.best_params\n",
    "        except ValueError:\n",
    "            pass\n",
    "            \n",
    "        \n",
    "    def objective(self, trial):\n",
    "        # define the tuning object with fields and range of the hyper params\n",
    "        classsifer = trial.suggest_categorical('classsifer', self._classsifers)\n",
    "\n",
    "        if classsifer == 'RandomForest':\n",
    "            # cf. https://scikit-learn.org/stable/modules/generated/sklearn.ensemble.RandomForestRegressor.html\n",
    "\n",
    "            params = dict(\n",
    "                criterion = trial.suggest_categorical('criterion', [\"gini\", \"entropy\", \"log_loss\"]),\n",
    "                bootstrap = True,\n",
    "                max_depth = trial.suggest_int('max_depth', 10, 1000),\n",
    "                oob_score = True,\n",
    "                max_features = trial.suggest_categorical('max_features', [None, 'sqrt','log2']),\n",
    "                min_samples_split = trial.suggest_int('min_samples_split', 2, 10),\n",
    "                min_samples_leaf = trial.suggest_int('min_samples_leaf', 1, 10),\n",
    "                n_estimators = int(trial.suggest_float('n_estimators', 1000, 8000, step=500)),\n",
    "                class_weight = 'balanced_subsample',\n",
    "                n_jobs=self.n_cpus\n",
    "            )\n",
    "            model = RandomForestClassifier(**params)\n",
    "\n",
    "        elif classsifer == 'XGBoost':\n",
    "            # cf. https://xgboost.readthedocs.io/en/latest/python/python_api.html?highlight=n_estimators#module-xgboost.sklearn\n",
    "            params = dict(\n",
    "                booster = trial.suggest_categorical('booster', [\"gbtree\"]),\n",
    "                learning_rate = trial.suggest_float('learning_rate', 0.01, 0.3),\n",
    "                gamma = trial.suggest_float('gamma', 0, 1),\n",
    "                max_depth = trial.suggest_int('max_depth', 3, 15),\n",
    "                n_estimators = int(trial.suggest_float('n_estimators', 1000, 4000, step=500)),\n",
    "                min_child_weight = trial.suggest_int('min_child_weight', 1, 12),\n",
    "                gpu_id = 0,\n",
    "                tree_method = 'gpu_hist'\n",
    "            )\n",
    "            model = XGBClassifier(**params, n_jobs=self.n_cpus, importance_type='gain')\n",
    "\n",
    "        else:\n",
    "            raise Exception('Invalid regressor. Only the following choices are valid: \"RandomForest\", \"XGBoost\".')\n",
    "\n",
    "        score = cross_val_score(model, self.train_x, self.train_y, cv=5, scoring=\"balanced_accuracy\")\n",
    "        acc_mean = score.mean()\n",
    "\n",
    "        return acc_mean\n",
    "        \n",
    "    def optimize(self, cv=5):\n",
    "        # hyper params tuning with Optuna\n",
    "        # detailed explanation of Optuna: https://optuna.org/\n",
    "\n",
    "        self.study.optimize(self.objective, n_trials=self.n_trials, n_jobs=max(self.n_cpus, 1))\n",
    "\n",
    "        # /!\\ we need to make sure that type(n_estimators) == 'int'\n",
    "        best_params = self.study.best_params.copy()\n",
    "        best_params['n_estimators'] = int(best_params['n_estimators'])\n",
    "        print(\"Best parameters:\", best_params)\n",
    "        print(\"Best score (mean balanced_accuracy after 5-fold Cross Validation):\", self.study.best_value)\n",
    "        self._best_params = best_params\n",
    "        self.best_opt_metric = self.study.best_value\n",
    "\n",
    "        \n",
    "    def compute_confusion_matrix(self): \n",
    "    \n",
    "        TP = np.sum(np.logical_and(self._predict_label_test==1, self._true_label_test==1))\n",
    "        TN = np.sum(np.logical_and(self._predict_label_test==0, self._true_label_test==0))\n",
    "        FP = np.sum(np.logical_and(self._predict_label_test==1, self._true_label_test==0))\n",
    "        FN = np.sum(np.logical_and(self._predict_label_test==0, self._true_label_test==1))\n",
    "\n",
    "        self._confusion_matrix = np.asarray([[TP, FP],\n",
    "                                        [FN, TN]])\n",
    "        return self._confusion_matrix\n",
    "\n",
    "\n",
    "    def plot_confusion_matrix(self):\n",
    "        [[TP, FP],[FN, TN]] = self._confusion_matrix\n",
    "        label = np.asarray([['TP {}'.format(TP), 'FP {}'.format(FP)],\n",
    "                            ['FN {}'.format(FN), 'TN {}'.format(TN)]])\n",
    "\n",
    "        df_cm = pd.DataFrame(self._confusion_matrix, index=['Yes', 'No'], columns=['Positive', 'Negative']) \n",
    "\n",
    "        sn.heatmap(df_cm, cmap='YlOrRd', annot=label, annot_kws={\"size\": 16}, cbar=False, fmt='')\n",
    "        plt.xlabel('Actual')\n",
    "        plt.ylabel('Predicted')\n",
    "        plt.title('Confusion matrix')\n",
    "\n",
    "\n",
    "\n",
    "    def compute_score(self):\n",
    "        [[TP, FP],[FN, TN]] = self._confusion_matrix.astype(float)\n",
    "\n",
    "        accuracy =  (TP+TN)/np.sum(self._confusion_matrix)\n",
    "\n",
    "        precision_positive = TP/(TP+FP) if (TP+FP) !=0 else np.nan\n",
    "        precision_negative = TN/(TN+FN) if (TN+FN) !=0 else np.nan\n",
    "\n",
    "        recall_positive = TP/(TP+FN) if (TP+FN) !=0 else np.nan\n",
    "        recall_negative = TN/(TN+FP) if (TN+FP) !=0 else np.nan\n",
    "\n",
    "        F1_score_positive = 2 *(precision_positive*recall_positive)/(precision_positive+recall_positive) if (precision_positive+recall_positive) !=0 else np.nan\n",
    "        F1_score_negative = 2 *(precision_negative*recall_negative)/(precision_negative+recall_negative) if (precision_negative+recall_negative) !=0 else np.nan\n",
    "\n",
    "        print(\"The accuracy of model is {:1.3f}\".format(accuracy))\n",
    "        print(\"For the positive case, the precision is {0:1.3f}, the recall is {1:1.3f} and the F1 score is {2:1.3f}\"\\\n",
    "              .format(precision_positive, recall_positive, F1_score_positive))\n",
    "        print(\"For the negative case, the precision is {0:1.3f}, the recall is {1:1.3f} and the F1 score is {2:1.3f}\"\\\n",
    "              .format(precision_negative, recall_negative, F1_score_negative))\n",
    "\n",
    "        return {\n",
    "            'accuracy': accuracy,\n",
    "            'precision_positive': precision_positive,\n",
    "            'recall_positive': recall_positive,\n",
    "            'F1_score_positive': F1_score_positive,\n",
    "            'precision_negative': precision_negative,\n",
    "            'recall_negative': recall_negative,\n",
    "            'F1_score_negative': F1_score_negative\n",
    "        }\n",
    "\n",
    "        \n",
    "        \n",
    "    def best_model(self):\n",
    "        # init the best model with optimized params\n",
    "        params_dict = self._best_params.copy()\n",
    "        cls_best = params_dict.pop('classsifer')\n",
    "        if cls_best == 'RandomForest':\n",
    "            params_dict['n_estimators'] = int(params_dict['n_estimators'])\n",
    "            best_model = RandomForestClassifier(**params_dict, n_jobs=self.n_cpus)\n",
    "        elif cls_best == 'XGBoost':\n",
    "            params_dict['n_estimators'] = int(params_dict['n_estimators'])\n",
    "            best_model = XGBClassifier(**params_dict, n_jobs=self.n_cpus, gpu_id = 0, tree_method = 'gpu_hist',\n",
    "                                       importance_type='gain')\n",
    "        elif cls_best == 'LightGBM':\n",
    "            params_dict['n_estimators'] = int(params_dict['n_estimators'])\n",
    "            best_model = LGBMClassifier(**params_dict, n_jobs=self.n_cpus, importance_type='gain')\n",
    "            # best_model = LGBMClassifier(**params_dict, n_jobs=self.n_cpus, importance_type='gain', device = 'gpu')\n",
    "            # gpu_platform_id = 0, gpu_device_id = 0\n",
    "        print(params_dict)\n",
    "                \n",
    "        best_model.fit(self.train_x, self.train_y)\n",
    "        score = cross_val_score(best_model, self.train_x, self.train_y, cv=5, scoring=\"balanced_accuracy\")\n",
    "        self.score = score.mean()\n",
    "        self.best_model = best_model\n",
    "        \n",
    "        print('Best model initialized with balanced accuracy: {:.3f} \\n'.format(self.score))\n",
    "\n",
    "    \n",
    "    def _evaluate(self, test_x, test_y):\n",
    "        # evaluate the performance of given test data\n",
    "        self._true_label_test = test_y\n",
    "        from sklearn.metrics import balanced_accuracy_score\n",
    "        self._predict_label_test = self.best_model.predict(test_x)\n",
    "        acc_balanced = balanced_accuracy_score(self._true_label_test, self._predict_label_test)\n",
    "        \n",
    "    \n",
    "    def save_model(self, path):\n",
    "        # Save to file in the current working directory\n",
    "        with open(path, 'wb') as file:\n",
    "            pickle.dump(self.best_model, file)\n",
    "        \n",
    "    \n",
    "    def load_model(self, path):\n",
    "        # Load from file\n",
    "        with open(path, 'rb') as file:\n",
    "            self.best_model = pickle.load(file)\n",
    "        "
   ]
  },
  {
   "cell_type": "markdown",
   "id": "bc9646c2-b0b9-4abc-93bb-92001ec0538a",
   "metadata": {},
   "source": [
    "## Train and test the models"
   ]
  },
  {
   "cell_type": "code",
   "execution_count": 17,
   "id": "a0e16692-80c8-4e37-b3eb-759f339325d4",
   "metadata": {},
   "outputs": [
    {
     "name": "stderr",
     "output_type": "stream",
     "text": [
      "\u001B[32m[I 2022-10-05 09:38:26,546]\u001B[0m A new study created in RDB with name: XGBoost-space-deactivate\u001B[0m\n"
     ]
    }
   ],
   "source": [
    "# Use the argument classifers=['XGBoost'] or classifers=['RandomForest'] to choose the model to train\n",
    "test_cls = Classsifers(train_x=train_features, train_y=train_label, classifers=['XGBoost'], study_name='XGBoost-space-deactivate', n_trials=200)"
   ]
  },
  {
   "cell_type": "code",
   "execution_count": 18,
   "id": "f61e8292-c868-43f8-9af2-25fcf5c05e2b",
   "metadata": {
    "scrolled": true,
    "tags": []
   },
   "outputs": [
    {
     "name": "stderr",
     "output_type": "stream",
     "text": [
      "\u001B[32m[I 2022-10-05 09:43:59,537]\u001B[0m Trial 6 finished with value: 0.5734105717122674 and parameters: {'classsifer': 'XGBoost', 'booster': 'gbtree', 'learning_rate': 0.2605148465142581, 'gamma': 0.6649964830922073, 'max_depth': 7, 'n_estimators': 1000.0, 'min_child_weight': 3}. Best is trial 6 with value: 0.5734105717122674.\u001B[0m\n",
      "\u001B[32m[I 2022-10-05 09:45:36,533]\u001B[0m Trial 7 finished with value: 0.5728494633589061 and parameters: {'classsifer': 'XGBoost', 'booster': 'gbtree', 'learning_rate': 0.17489836852275067, 'gamma': 0.8660717037466975, 'max_depth': 13, 'n_estimators': 1000.0, 'min_child_weight': 12}. Best is trial 6 with value: 0.5734105717122674.\u001B[0m\n",
      "\u001B[32m[I 2022-10-05 09:46:50,758]\u001B[0m Trial 12 finished with value: 0.5736537766068368 and parameters: {'classsifer': 'XGBoost', 'booster': 'gbtree', 'learning_rate': 0.2618069163962301, 'gamma': 0.24949930273794485, 'max_depth': 4, 'n_estimators': 2500.0, 'min_child_weight': 4}. Best is trial 12 with value: 0.5736537766068368.\u001B[0m\n",
      "\u001B[32m[I 2022-10-05 09:49:15,785]\u001B[0m Trial 8 finished with value: 0.5718346963999525 and parameters: {'classsifer': 'XGBoost', 'booster': 'gbtree', 'learning_rate': 0.15374068255426282, 'gamma': 0.9117230397835215, 'max_depth': 6, 'n_estimators': 3000.0, 'min_child_weight': 11}. Best is trial 12 with value: 0.5736537766068368.\u001B[0m\n",
      "\u001B[32m[I 2022-10-05 09:49:18,001]\u001B[0m Trial 15 finished with value: 0.5729045207536377 and parameters: {'classsifer': 'XGBoost', 'booster': 'gbtree', 'learning_rate': 0.2798278825827006, 'gamma': 0.4729775053778491, 'max_depth': 5, 'n_estimators': 3500.0, 'min_child_weight': 6}. Best is trial 12 with value: 0.5736537766068368.\u001B[0m\n",
      "\u001B[32m[I 2022-10-05 09:49:29,175]\u001B[0m Trial 17 finished with value: 0.5723094116334939 and parameters: {'classsifer': 'XGBoost', 'booster': 'gbtree', 'learning_rate': 0.0926195441220687, 'gamma': 0.9475454025065614, 'max_depth': 6, 'n_estimators': 1500.0, 'min_child_weight': 1}. Best is trial 12 with value: 0.5736537766068368.\u001B[0m\n",
      "\u001B[32m[I 2022-10-05 09:49:47,841]\u001B[0m Trial 21 finished with value: 0.5731081618682274 and parameters: {'classsifer': 'XGBoost', 'booster': 'gbtree', 'learning_rate': 0.11044374245701538, 'gamma': 0.6134427455490077, 'max_depth': 7, 'n_estimators': 2000.0, 'min_child_weight': 9}. Best is trial 12 with value: 0.5736537766068368.\u001B[0m\n",
      "\u001B[32m[I 2022-10-05 09:50:50,280]\u001B[0m Trial 3 finished with value: 0.5713934041568174 and parameters: {'classsifer': 'XGBoost', 'booster': 'gbtree', 'learning_rate': 0.09765479477547195, 'gamma': 0.3148714714499766, 'max_depth': 3, 'n_estimators': 3500.0, 'min_child_weight': 9}. Best is trial 12 with value: 0.5736537766068368.\u001B[0m\n",
      "\u001B[32m[I 2022-10-05 09:51:29,848]\u001B[0m Trial 0 finished with value: 0.5729660786038321 and parameters: {'classsifer': 'XGBoost', 'booster': 'gbtree', 'learning_rate': 0.1712635288686997, 'gamma': 0.8553103791414005, 'max_depth': 11, 'n_estimators': 3000.0, 'min_child_weight': 4}. Best is trial 12 with value: 0.5736537766068368.\u001B[0m\n",
      "\u001B[32m[I 2022-10-05 09:52:10,525]\u001B[0m Trial 23 finished with value: 0.5708574031098139 and parameters: {'classsifer': 'XGBoost', 'booster': 'gbtree', 'learning_rate': 0.05996270349257238, 'gamma': 0.9001334862189624, 'max_depth': 5, 'n_estimators': 2500.0, 'min_child_weight': 11}. Best is trial 12 with value: 0.5736537766068368.\u001B[0m\n",
      "\u001B[32m[I 2022-10-05 09:52:24,962]\u001B[0m Trial 1 finished with value: 0.5759986621140969 and parameters: {'classsifer': 'XGBoost', 'booster': 'gbtree', 'learning_rate': 0.26196220768524214, 'gamma': 0.13403901088732473, 'max_depth': 10, 'n_estimators': 3000.0, 'min_child_weight': 8}. Best is trial 1 with value: 0.5759986621140969.\u001B[0m\n",
      "\u001B[32m[I 2022-10-05 09:52:25,102]\u001B[0m Trial 16 finished with value: 0.5750128530057702 and parameters: {'classsifer': 'XGBoost', 'booster': 'gbtree', 'learning_rate': 0.16351315391901478, 'gamma': 0.26896619589652715, 'max_depth': 11, 'n_estimators': 2500.0, 'min_child_weight': 11}. Best is trial 1 with value: 0.5759986621140969.\u001B[0m\n",
      "\u001B[32m[I 2022-10-05 09:52:30,845]\u001B[0m Trial 20 finished with value: 0.5748277912845972 and parameters: {'classsifer': 'XGBoost', 'booster': 'gbtree', 'learning_rate': 0.20797813558802927, 'gamma': 0.273092772887667, 'max_depth': 10, 'n_estimators': 3000.0, 'min_child_weight': 7}. Best is trial 1 with value: 0.5759986621140969.\u001B[0m\n",
      "\u001B[32m[I 2022-10-05 09:52:50,648]\u001B[0m Trial 19 finished with value: 0.5735867718703958 and parameters: {'classsifer': 'XGBoost', 'booster': 'gbtree', 'learning_rate': 0.25402239678818256, 'gamma': 0.7357286700239907, 'max_depth': 13, 'n_estimators': 4000.0, 'min_child_weight': 6}. Best is trial 1 with value: 0.5759986621140969.\u001B[0m\n",
      "\u001B[32m[I 2022-10-05 09:52:51,677]\u001B[0m Trial 14 finished with value: 0.5714998740530144 and parameters: {'classsifer': 'XGBoost', 'booster': 'gbtree', 'learning_rate': 0.08526586823337129, 'gamma': 0.9021722009067815, 'max_depth': 5, 'n_estimators': 3500.0, 'min_child_weight': 7}. Best is trial 1 with value: 0.5759986621140969.\u001B[0m\n",
      "\u001B[32m[I 2022-10-05 09:53:08,636]\u001B[0m Trial 28 finished with value: 0.5700544106593971 and parameters: {'classsifer': 'XGBoost', 'booster': 'gbtree', 'learning_rate': 0.21711814669517632, 'gamma': 0.8043864856363866, 'max_depth': 3, 'n_estimators': 1000.0, 'min_child_weight': 5}. Best is trial 1 with value: 0.5759986621140969.\u001B[0m\n",
      "\u001B[32m[I 2022-10-05 09:53:23,703]\u001B[0m Trial 4 finished with value: 0.5737058514170661 and parameters: {'classsifer': 'XGBoost', 'booster': 'gbtree', 'learning_rate': 0.1233307216290201, 'gamma': 0.4802537154255243, 'max_depth': 13, 'n_estimators': 2500.0, 'min_child_weight': 11}. Best is trial 1 with value: 0.5759986621140969.\u001B[0m\n",
      "\u001B[32m[I 2022-10-05 09:54:05,008]\u001B[0m Trial 2 finished with value: 0.5738177101025025 and parameters: {'classsifer': 'XGBoost', 'booster': 'gbtree', 'learning_rate': 0.1385671352594947, 'gamma': 0.4699178782517194, 'max_depth': 12, 'n_estimators': 3000.0, 'min_child_weight': 7}. Best is trial 1 with value: 0.5759986621140969.\u001B[0m\n",
      "\u001B[32m[I 2022-10-05 09:55:14,111]\u001B[0m Trial 10 finished with value: 0.5743666021531497 and parameters: {'classsifer': 'XGBoost', 'booster': 'gbtree', 'learning_rate': 0.18123055597748433, 'gamma': 0.4920043631258705, 'max_depth': 15, 'n_estimators': 4000.0, 'min_child_weight': 7}. Best is trial 1 with value: 0.5759986621140969.\u001B[0m\n",
      "\u001B[32m[I 2022-10-05 09:55:42,645]\u001B[0m Trial 27 finished with value: 0.5747140411836545 and parameters: {'classsifer': 'XGBoost', 'booster': 'gbtree', 'learning_rate': 0.2462632843851992, 'gamma': 0.29801069165907523, 'max_depth': 8, 'n_estimators': 1000.0, 'min_child_weight': 6}. Best is trial 1 with value: 0.5759986621140969.\u001B[0m\n",
      "\u001B[32m[I 2022-10-05 09:55:57,673]\u001B[0m Trial 25 finished with value: 0.5735832547905445 and parameters: {'classsifer': 'XGBoost', 'booster': 'gbtree', 'learning_rate': 0.23113222464095484, 'gamma': 0.6092801966165643, 'max_depth': 8, 'n_estimators': 3000.0, 'min_child_weight': 10}. Best is trial 1 with value: 0.5759986621140969.\u001B[0m\n",
      "\u001B[32m[I 2022-10-05 09:56:25,158]\u001B[0m Trial 18 finished with value: 0.575047748171847 and parameters: {'classsifer': 'XGBoost', 'booster': 'gbtree', 'learning_rate': 0.21303361786144262, 'gamma': 0.3814449067689446, 'max_depth': 15, 'n_estimators': 4000.0, 'min_child_weight': 3}. Best is trial 1 with value: 0.5759986621140969.\u001B[0m\n",
      "\u001B[32m[I 2022-10-05 09:59:34,390]\u001B[0m Trial 11 finished with value: 0.5771093035650658 and parameters: {'classsifer': 'XGBoost', 'booster': 'gbtree', 'learning_rate': 0.2995406251065091, 'gamma': 0.028456447065383972, 'max_depth': 9, 'n_estimators': 4000.0, 'min_child_weight': 1}. Best is trial 11 with value: 0.5771093035650658.\u001B[0m\n",
      "\u001B[32m[I 2022-10-05 09:59:38,112]\u001B[0m Trial 26 finished with value: 0.5733359121518602 and parameters: {'classsifer': 'XGBoost', 'booster': 'gbtree', 'learning_rate': 0.11884075399902139, 'gamma': 0.7994745898174139, 'max_depth': 12, 'n_estimators': 2500.0, 'min_child_weight': 5}. Best is trial 11 with value: 0.5771093035650658.\u001B[0m\n",
      "\u001B[32m[I 2022-10-05 09:59:39,350]\u001B[0m Trial 30 finished with value: 0.5734621335558899 and parameters: {'classsifer': 'XGBoost', 'booster': 'gbtree', 'learning_rate': 0.2997948406031506, 'gamma': 0.8698000089885259, 'max_depth': 14, 'n_estimators': 3500.0, 'min_child_weight': 5}. Best is trial 11 with value: 0.5771093035650658.\u001B[0m\n",
      "\u001B[32m[I 2022-10-05 10:00:59,417]\u001B[0m Trial 31 finished with value: 0.5740865666553547 and parameters: {'classsifer': 'XGBoost', 'booster': 'gbtree', 'learning_rate': 0.1784680659845336, 'gamma': 0.49163765523848535, 'max_depth': 9, 'n_estimators': 3000.0, 'min_child_weight': 6}. Best is trial 11 with value: 0.5771093035650658.\u001B[0m\n",
      "\u001B[32m[I 2022-10-05 10:01:34,674]\u001B[0m Trial 29 finished with value: 0.5733627575052449 and parameters: {'classsifer': 'XGBoost', 'booster': 'gbtree', 'learning_rate': 0.15616763953286747, 'gamma': 0.9197285230767233, 'max_depth': 15, 'n_estimators': 3500.0, 'min_child_weight': 5}. Best is trial 11 with value: 0.5771093035650658.\u001B[0m\n",
      "\u001B[32m[I 2022-10-05 10:01:53,640]\u001B[0m Trial 9 finished with value: 0.5770460914568407 and parameters: {'classsifer': 'XGBoost', 'booster': 'gbtree', 'learning_rate': 0.11322463762434232, 'gamma': 0.037043378837311014, 'max_depth': 11, 'n_estimators': 1000.0, 'min_child_weight': 9}. Best is trial 11 with value: 0.5771093035650658.\u001B[0m\n",
      "\u001B[32m[I 2022-10-05 10:04:40,940]\u001B[0m Trial 32 finished with value: 0.5730098490151782 and parameters: {'classsifer': 'XGBoost', 'booster': 'gbtree', 'learning_rate': 0.09565526583636882, 'gamma': 0.8513884285395041, 'max_depth': 12, 'n_estimators': 4000.0, 'min_child_weight': 7}. Best is trial 11 with value: 0.5771093035650658.\u001B[0m\n",
      "\u001B[32m[I 2022-10-05 10:05:19,787]\u001B[0m Trial 37 finished with value: 0.5773968058043917 and parameters: {'classsifer': 'XGBoost', 'booster': 'gbtree', 'learning_rate': 0.20525324346055795, 'gamma': 0.05843582705176427, 'max_depth': 15, 'n_estimators': 2000.0, 'min_child_weight': 9}. Best is trial 37 with value: 0.5773968058043917.\u001B[0m\n",
      "\u001B[32m[I 2022-10-05 10:05:24,151]\u001B[0m Trial 44 finished with value: 0.5765973536684876 and parameters: {'classsifer': 'XGBoost', 'booster': 'gbtree', 'learning_rate': 0.20460717113344368, 'gamma': 0.06005369460012308, 'max_depth': 10, 'n_estimators': 2000.0, 'min_child_weight': 9}. Best is trial 37 with value: 0.5773968058043917.\u001B[0m\n",
      "\u001B[32m[I 2022-10-05 10:06:37,522]\u001B[0m Trial 24 finished with value: 0.5731073075309393 and parameters: {'classsifer': 'XGBoost', 'booster': 'gbtree', 'learning_rate': 0.055168154649629826, 'gamma': 0.7322261861440725, 'max_depth': 14, 'n_estimators': 4000.0, 'min_child_weight': 6}. Best is trial 37 with value: 0.5773968058043917.\u001B[0m\n",
      "\u001B[32m[I 2022-10-05 10:08:02,940]\u001B[0m Trial 35 finished with value: 0.5772025274851438 and parameters: {'classsifer': 'XGBoost', 'booster': 'gbtree', 'learning_rate': 0.2156461136067379, 'gamma': 0.0286701605081201, 'max_depth': 10, 'n_estimators': 4000.0, 'min_child_weight': 8}. Best is trial 37 with value: 0.5773968058043917.\u001B[0m\n",
      "\u001B[32m[I 2022-10-05 10:08:05,087]\u001B[0m Trial 13 finished with value: 0.57701197217852 and parameters: {'classsifer': 'XGBoost', 'booster': 'gbtree', 'learning_rate': 0.10469732196381241, 'gamma': 0.06425025443630883, 'max_depth': 15, 'n_estimators': 4000.0, 'min_child_weight': 5}. Best is trial 37 with value: 0.5773968058043917.\u001B[0m\n",
      "\u001B[32m[I 2022-10-05 10:09:54,441]\u001B[0m Trial 34 finished with value: 0.5775603279791376 and parameters: {'classsifer': 'XGBoost', 'booster': 'gbtree', 'learning_rate': 0.2318605271410826, 'gamma': 0.021508849957349252, 'max_depth': 10, 'n_estimators': 4000.0, 'min_child_weight': 8}. Best is trial 34 with value: 0.5775603279791376.\u001B[0m\n",
      "\u001B[32m[I 2022-10-05 10:14:06,687]\u001B[0m Trial 49 finished with value: 0.5771142694371951 and parameters: {'classsifer': 'XGBoost', 'booster': 'gbtree', 'learning_rate': 0.29887516118942725, 'gamma': 0.02370029214680014, 'max_depth': 10, 'n_estimators': 4000.0, 'min_child_weight': 1}. Best is trial 34 with value: 0.5775603279791376.\u001B[0m\n",
      "\u001B[32m[I 2022-10-05 10:14:37,012]\u001B[0m Trial 58 finished with value: 0.5753533370967103 and parameters: {'classsifer': 'XGBoost', 'booster': 'gbtree', 'learning_rate': 0.2859641990396722, 'gamma': 0.1589308231121361, 'max_depth': 9, 'n_estimators': 2000.0, 'min_child_weight': 8}. Best is trial 34 with value: 0.5775603279791376.\u001B[0m\n",
      "\u001B[32m[I 2022-10-05 10:15:45,885]\u001B[0m Trial 45 finished with value: 0.5770165345373295 and parameters: {'classsifer': 'XGBoost', 'booster': 'gbtree', 'learning_rate': 0.2016189991452722, 'gamma': 0.03287969572222993, 'max_depth': 15, 'n_estimators': 2000.0, 'min_child_weight': 1}. Best is trial 34 with value: 0.5775603279791376.\u001B[0m\n",
      "\u001B[32m[I 2022-10-05 10:18:22,091]\u001B[0m Trial 5 finished with value: 0.5739212044979117 and parameters: {'classsifer': 'XGBoost', 'booster': 'gbtree', 'learning_rate': 0.02536121437804971, 'gamma': 0.3928603718464574, 'max_depth': 14, 'n_estimators': 2500.0, 'min_child_weight': 7}. Best is trial 34 with value: 0.5775603279791376.\u001B[0m\n",
      "\u001B[32m[I 2022-10-05 10:19:52,675]\u001B[0m Trial 60 finished with value: 0.5760031319711085 and parameters: {'classsifer': 'XGBoost', 'booster': 'gbtree', 'learning_rate': 0.23345554810667413, 'gamma': 0.13649155620671666, 'max_depth': 10, 'n_estimators': 1500.0, 'min_child_weight': 8}. Best is trial 34 with value: 0.5775603279791376.\u001B[0m\n",
      "\u001B[32m[I 2022-10-05 10:19:56,039]\u001B[0m Trial 59 finished with value: 0.5754598387359711 and parameters: {'classsifer': 'XGBoost', 'booster': 'gbtree', 'learning_rate': 0.23470781273967925, 'gamma': 0.15899680056387167, 'max_depth': 11, 'n_estimators': 2000.0, 'min_child_weight': 8}. Best is trial 34 with value: 0.5775603279791376.\u001B[0m\n",
      "\u001B[32m[I 2022-10-05 10:20:02,501]\u001B[0m Trial 50 finished with value: 0.5779490825235423 and parameters: {'classsifer': 'XGBoost', 'booster': 'gbtree', 'learning_rate': 0.28953210899070025, 'gamma': 0.009057388353096586, 'max_depth': 10, 'n_estimators': 4000.0, 'min_child_weight': 1}. Best is trial 50 with value: 0.5779490825235423.\u001B[0m\n",
      "\u001B[32m[I 2022-10-05 10:20:53,944]\u001B[0m Trial 52 finished with value: 0.5778903563863997 and parameters: {'classsifer': 'XGBoost', 'booster': 'gbtree', 'learning_rate': 0.2736671511588795, 'gamma': 0.013143354404191114, 'max_depth': 10, 'n_estimators': 2000.0, 'min_child_weight': 9}. Best is trial 50 with value: 0.5779490825235423.\u001B[0m\n",
      "\u001B[32m[I 2022-10-05 10:20:59,746]\u001B[0m Trial 61 finished with value: 0.5760592170157659 and parameters: {'classsifer': 'XGBoost', 'booster': 'gbtree', 'learning_rate': 0.23169776764201389, 'gamma': 0.1553320318176611, 'max_depth': 10, 'n_estimators': 1500.0, 'min_child_weight': 8}. Best is trial 50 with value: 0.5779490825235423.\u001B[0m\n",
      "\u001B[32m[I 2022-10-05 10:24:10,586]\u001B[0m Trial 62 finished with value: 0.5762451767544969 and parameters: {'classsifer': 'XGBoost', 'booster': 'gbtree', 'learning_rate': 0.23396862785582168, 'gamma': 0.13385166978568763, 'max_depth': 11, 'n_estimators': 1500.0, 'min_child_weight': 8}. Best is trial 50 with value: 0.5779490825235423.\u001B[0m\n",
      "\u001B[32m[I 2022-10-05 10:24:16,301]\u001B[0m Trial 33 finished with value: 0.5778782056294013 and parameters: {'classsifer': 'XGBoost', 'booster': 'gbtree', 'learning_rate': 0.2041530534361914, 'gamma': 0.012486985481357071, 'max_depth': 15, 'n_estimators': 4000.0, 'min_child_weight': 6}. Best is trial 50 with value: 0.5779490825235423.\u001B[0m\n",
      "\u001B[32m[I 2022-10-05 10:25:06,801]\u001B[0m Trial 66 finished with value: 0.5749481987073215 and parameters: {'classsifer': 'XGBoost', 'booster': 'gbtree', 'learning_rate': 0.2769593892882311, 'gamma': 0.19813982284234855, 'max_depth': 8, 'n_estimators': 1500.0, 'min_child_weight': 10}. Best is trial 50 with value: 0.5779490825235423.\u001B[0m\n",
      "\u001B[32m[I 2022-10-05 10:26:00,484]\u001B[0m Trial 67 finished with value: 0.5756800966798814 and parameters: {'classsifer': 'XGBoost', 'booster': 'gbtree', 'learning_rate': 0.28201322956399255, 'gamma': 0.09612083613520843, 'max_depth': 8, 'n_estimators': 1500.0, 'min_child_weight': 10}. Best is trial 50 with value: 0.5779490825235423.\u001B[0m\n",
      "\u001B[32m[I 2022-10-05 10:28:31,481]\u001B[0m Trial 65 finished with value: 0.5760615991482417 and parameters: {'classsifer': 'XGBoost', 'booster': 'gbtree', 'learning_rate': 0.27619799260905714, 'gamma': 0.0981914067025233, 'max_depth': 8, 'n_estimators': 3500.0, 'min_child_weight': 2}. Best is trial 50 with value: 0.5779490825235423.\u001B[0m\n",
      "\u001B[32m[I 2022-10-05 10:30:17,085]\u001B[0m Trial 63 finished with value: 0.574908619026368 and parameters: {'classsifer': 'XGBoost', 'booster': 'gbtree', 'learning_rate': 0.13611185712763768, 'gamma': 0.19321494597597422, 'max_depth': 11, 'n_estimators': 3500.0, 'min_child_weight': 8}. Best is trial 50 with value: 0.5779490825235423.\u001B[0m\n",
      "\u001B[32m[I 2022-10-05 10:31:56,775]\u001B[0m Trial 68 finished with value: 0.5762119936556918 and parameters: {'classsifer': 'XGBoost', 'booster': 'gbtree', 'learning_rate': 0.27380299466769226, 'gamma': 0.08388853639030996, 'max_depth': 8, 'n_estimators': 3500.0, 'min_child_weight': 10}. Best is trial 50 with value: 0.5779490825235423.\u001B[0m\n",
      "\u001B[32m[I 2022-10-05 10:34:52,001]\u001B[0m Trial 69 finished with value: 0.5763382662339867 and parameters: {'classsifer': 'XGBoost', 'booster': 'gbtree', 'learning_rate': 0.2720609361159167, 'gamma': 0.10057977537437227, 'max_depth': 13, 'n_estimators': 3500.0, 'min_child_weight': 2}. Best is trial 50 with value: 0.5779490825235423.\u001B[0m\n",
      "\u001B[32m[I 2022-10-05 10:36:13,833]\u001B[0m Trial 71 finished with value: 0.5761211726117135 and parameters: {'classsifer': 'XGBoost', 'booster': 'gbtree', 'learning_rate': 0.26915826324751957, 'gamma': 0.08421681635394207, 'max_depth': 12, 'n_estimators': 3500.0, 'min_child_weight': 2}. Best is trial 50 with value: 0.5779490825235423.\u001B[0m\n",
      "\u001B[32m[I 2022-10-05 10:37:39,982]\u001B[0m Trial 70 finished with value: 0.5763408415389424 and parameters: {'classsifer': 'XGBoost', 'booster': 'gbtree', 'learning_rate': 0.1904352695462135, 'gamma': 0.10022742001388875, 'max_depth': 13, 'n_estimators': 3500.0, 'min_child_weight': 2}. Best is trial 50 with value: 0.5779490825235423.\u001B[0m\n",
      "\u001B[32m[I 2022-10-05 10:37:48,263]\u001B[0m Trial 73 finished with value: 0.576459104602012 and parameters: {'classsifer': 'XGBoost', 'booster': 'gbtree', 'learning_rate': 0.1925480759625131, 'gamma': 0.09277067498548687, 'max_depth': 13, 'n_estimators': 2000.0, 'min_child_weight': 9}. Best is trial 50 with value: 0.5779490825235423.\u001B[0m\n",
      "\u001B[32m[I 2022-10-05 10:40:58,189]\u001B[0m Trial 22 finished with value: 0.5754309950189869 and parameters: {'classsifer': 'XGBoost', 'booster': 'gbtree', 'learning_rate': 0.02979283205267571, 'gamma': 0.09873498012623483, 'max_depth': 12, 'n_estimators': 3500.0, 'min_child_weight': 2}. Best is trial 50 with value: 0.5779490825235423.\u001B[0m\n",
      "\u001B[32m[I 2022-10-05 10:42:52,017]\u001B[0m Trial 40 finished with value: 0.5770168229542973 and parameters: {'classsifer': 'XGBoost', 'booster': 'gbtree', 'learning_rate': 0.02706966363116231, 'gamma': 0.027451982572962663, 'max_depth': 9, 'n_estimators': 2000.0, 'min_child_weight': 9}. Best is trial 50 with value: 0.5779490825235423.\u001B[0m\n",
      "\u001B[32m[I 2022-10-05 10:43:35,863]\u001B[0m Trial 64 finished with value: 0.5776448406946487 and parameters: {'classsifer': 'XGBoost', 'booster': 'gbtree', 'learning_rate': 0.2769890202808738, 'gamma': 0.006107310216780858, 'max_depth': 9, 'n_estimators': 4000.0, 'min_child_weight': 2}. Best is trial 50 with value: 0.5779490825235423.\u001B[0m\n",
      "\u001B[32m[I 2022-10-05 10:45:24,447]\u001B[0m Trial 43 finished with value: 0.5763600447659178 and parameters: {'classsifer': 'XGBoost', 'booster': 'gbtree', 'learning_rate': 0.02491594409240891, 'gamma': 0.000125210226113337, 'max_depth': 9, 'n_estimators': 2000.0, 'min_child_weight': 9}. Best is trial 50 with value: 0.5779490825235423.\u001B[0m\n",
      "\u001B[32m[I 2022-10-05 10:47:46,303]\u001B[0m Trial 51 finished with value: 0.5756942270538887 and parameters: {'classsifer': 'XGBoost', 'booster': 'gbtree', 'learning_rate': 0.020093479712261206, 'gamma': 0.016906466072651595, 'max_depth': 10, 'n_estimators': 1500.0, 'min_child_weight': 9}. Best is trial 50 with value: 0.5779490825235423.\u001B[0m\n",
      "\u001B[32m[I 2022-10-05 10:49:05,513]\u001B[0m Trial 56 finished with value: 0.5750905635852425 and parameters: {'classsifer': 'XGBoost', 'booster': 'gbtree', 'learning_rate': 0.017754008897994, 'gamma': 0.008177393398211805, 'max_depth': 9, 'n_estimators': 1500.0, 'min_child_weight': 8}. Best is trial 50 with value: 0.5779490825235423.\u001B[0m\n",
      "\u001B[32m[I 2022-10-05 10:49:39,193]\u001B[0m Trial 42 finished with value: 0.5749867243430898 and parameters: {'classsifer': 'XGBoost', 'booster': 'gbtree', 'learning_rate': 0.014557694002315047, 'gamma': 0.023462174086059384, 'max_depth': 9, 'n_estimators': 2000.0, 'min_child_weight': 9}. Best is trial 50 with value: 0.5779490825235423.\u001B[0m\n",
      "\u001B[32m[I 2022-10-05 10:50:10,137]\u001B[0m Trial 54 finished with value: 0.5757733668970959 and parameters: {'classsifer': 'XGBoost', 'booster': 'gbtree', 'learning_rate': 0.02048016116150138, 'gamma': 0.032003548690255304, 'max_depth': 10, 'n_estimators': 1500.0, 'min_child_weight': 9}. Best is trial 50 with value: 0.5779490825235423.\u001B[0m\n",
      "\u001B[32m[I 2022-10-05 10:50:49,394]\u001B[0m Trial 57 finished with value: 0.5740068517743844 and parameters: {'classsifer': 'XGBoost', 'booster': 'gbtree', 'learning_rate': 0.014951062485505484, 'gamma': 0.0015844876135392358, 'max_depth': 9, 'n_estimators': 1500.0, 'min_child_weight': 8}. Best is trial 50 with value: 0.5779490825235423.\u001B[0m\n",
      "\u001B[32m[I 2022-10-05 10:53:18,895]\u001B[0m Trial 55 finished with value: 0.5779250996611659 and parameters: {'classsifer': 'XGBoost', 'booster': 'gbtree', 'learning_rate': 0.19853462721340476, 'gamma': 0.0034775680963957216, 'max_depth': 10, 'n_estimators': 2000.0, 'min_child_weight': 9}. Best is trial 50 with value: 0.5779490825235423.\u001B[0m\n",
      "\u001B[32m[I 2022-10-05 10:53:30,959]\u001B[0m Trial 75 finished with value: 0.5773795797519675 and parameters: {'classsifer': 'XGBoost', 'booster': 'gbtree', 'learning_rate': 0.1957696128073887, 'gamma': 0.012954664560027881, 'max_depth': 9, 'n_estimators': 4000.0, 'min_child_weight': 9}. Best is trial 50 with value: 0.5779490825235423.\u001B[0m\n",
      "\u001B[32m[I 2022-10-05 10:58:28,867]\u001B[0m Trial 83 finished with value: 0.5750317979230982 and parameters: {'classsifer': 'XGBoost', 'booster': 'gbtree', 'learning_rate': 0.2510834306262561, 'gamma': 0.21415392107458092, 'max_depth': 14, 'n_estimators': 4000.0, 'min_child_weight': 3}. Best is trial 50 with value: 0.5779490825235423.\u001B[0m\n",
      "\u001B[32m[I 2022-10-05 10:59:21,297]\u001B[0m Trial 86 finished with value: 0.574751504861494 and parameters: {'classsifer': 'XGBoost', 'booster': 'gbtree', 'learning_rate': 0.2499435823503869, 'gamma': 0.21231766480998254, 'max_depth': 7, 'n_estimators': 4000.0, 'min_child_weight': 3}. Best is trial 50 with value: 0.5779490825235423.\u001B[0m\n",
      "\u001B[32m[I 2022-10-05 11:02:12,852]\u001B[0m Trial 87 finished with value: 0.576659922830242 and parameters: {'classsifer': 'XGBoost', 'booster': 'gbtree', 'learning_rate': 0.22171560928965917, 'gamma': 0.06265713356145136, 'max_depth': 7, 'n_estimators': 4000.0, 'min_child_weight': 4}. Best is trial 50 with value: 0.5779490825235423.\u001B[0m\n",
      "\u001B[32m[I 2022-10-05 11:02:30,285]\u001B[0m Trial 84 finished with value: 0.5765383670379648 and parameters: {'classsifer': 'XGBoost', 'booster': 'gbtree', 'learning_rate': 0.2492759709040262, 'gamma': 0.053523534835090585, 'max_depth': 11, 'n_estimators': 4000.0, 'min_child_weight': 3}. Best is trial 50 with value: 0.5779490825235423.\u001B[0m\n",
      "\u001B[32m[I 2022-10-05 11:04:46,475]\u001B[0m Trial 85 finished with value: 0.5770504957523022 and parameters: {'classsifer': 'XGBoost', 'booster': 'gbtree', 'learning_rate': 0.2528677419612086, 'gamma': 0.0544265599246392, 'max_depth': 14, 'n_estimators': 4000.0, 'min_child_weight': 3}. Best is trial 50 with value: 0.5779490825235423.\u001B[0m\n",
      "\u001B[32m[I 2022-10-05 11:04:55,988]\u001B[0m Trial 88 finished with value: 0.5754786386972021 and parameters: {'classsifer': 'XGBoost', 'booster': 'gbtree', 'learning_rate': 0.2508563903895175, 'gamma': 0.21708133330642845, 'max_depth': 14, 'n_estimators': 4000.0, 'min_child_weight': 3}. Best is trial 50 with value: 0.5779490825235423.\u001B[0m\n",
      "\u001B[32m[I 2022-10-05 11:06:13,736]\u001B[0m Trial 80 finished with value: 0.5781648485763476 and parameters: {'classsifer': 'XGBoost', 'booster': 'gbtree', 'learning_rate': 0.2507008812954099, 'gamma': 0.016226646910913568, 'max_depth': 14, 'n_estimators': 4000.0, 'min_child_weight': 9}. Best is trial 80 with value: 0.5781648485763476.\u001B[0m\n",
      "\u001B[32m[I 2022-10-05 11:06:22,707]\u001B[0m Trial 53 finished with value: 0.5773028200646582 and parameters: {'classsifer': 'XGBoost', 'booster': 'gbtree', 'learning_rate': 0.05886114027949848, 'gamma': 0.001171205571492917, 'max_depth': 9, 'n_estimators': 1500.0, 'min_child_weight': 1}. Best is trial 80 with value: 0.5781648485763476.\u001B[0m\n",
      "\u001B[32m[I 2022-10-05 11:06:27,123]\u001B[0m Trial 89 finished with value: 0.5766906452309268 and parameters: {'classsifer': 'XGBoost', 'booster': 'gbtree', 'learning_rate': 0.2464225885105253, 'gamma': 0.060283365747707165, 'max_depth': 14, 'n_estimators': 4000.0, 'min_child_weight': 11}. Best is trial 80 with value: 0.5781648485763476.\u001B[0m\n",
      "\u001B[32m[I 2022-10-05 11:06:39,822]\u001B[0m Trial 90 finished with value: 0.5766324444549061 and parameters: {'classsifer': 'XGBoost', 'booster': 'gbtree', 'learning_rate': 0.2628654777279107, 'gamma': 0.05950134211270646, 'max_depth': 7, 'n_estimators': 2500.0, 'min_child_weight': 4}. Best is trial 80 with value: 0.5781648485763476.\u001B[0m\n",
      "\u001B[32m[I 2022-10-05 11:09:57,255]\u001B[0m Trial 91 finished with value: 0.5766389321072569 and parameters: {'classsifer': 'XGBoost', 'booster': 'gbtree', 'learning_rate': 0.2609402796420282, 'gamma': 0.05926188974052736, 'max_depth': 11, 'n_estimators': 2500.0, 'min_child_weight': 4}. Best is trial 80 with value: 0.5781648485763476.\u001B[0m\n",
      "\u001B[32m[I 2022-10-05 11:10:40,328]\u001B[0m Trial 78 finished with value: 0.5784164856348651 and parameters: {'classsifer': 'XGBoost', 'booster': 'gbtree', 'learning_rate': 0.2514065550186482, 'gamma': 0.010279274815752202, 'max_depth': 14, 'n_estimators': 4000.0, 'min_child_weight': 9}. Best is trial 78 with value: 0.5784164856348651.\u001B[0m\n",
      "\u001B[32m[I 2022-10-05 11:10:45,527]\u001B[0m Trial 93 finished with value: 0.5758911918335787 and parameters: {'classsifer': 'XGBoost', 'booster': 'gbtree', 'learning_rate': 0.2630408339472304, 'gamma': 0.1250069700138577, 'max_depth': 12, 'n_estimators': 2500.0, 'min_child_weight': 12}. Best is trial 78 with value: 0.5784164856348651.\u001B[0m\n",
      "\u001B[32m[I 2022-10-05 11:11:34,742]\u001B[0m Trial 92 finished with value: 0.5760892497491801 and parameters: {'classsifer': 'XGBoost', 'booster': 'gbtree', 'learning_rate': 0.26114865419460176, 'gamma': 0.05948240685963932, 'max_depth': 11, 'n_estimators': 2500.0, 'min_child_weight': 12}. Best is trial 78 with value: 0.5784164856348651.\u001B[0m\n",
      "\u001B[32m[I 2022-10-05 11:12:16,702]\u001B[0m Trial 46 finished with value: 0.5781819527150569 and parameters: {'classsifer': 'XGBoost', 'booster': 'gbtree', 'learning_rate': 0.2836525496318225, 'gamma': 0.0011001216827147935, 'max_depth': 9, 'n_estimators': 4000.0, 'min_child_weight': 1}. Best is trial 78 with value: 0.5784164856348651.\u001B[0m\n",
      "\u001B[32m[I 2022-10-05 11:13:05,124]\u001B[0m Trial 39 finished with value: 0.5757595414241684 and parameters: {'classsifer': 'XGBoost', 'booster': 'gbtree', 'learning_rate': 0.014124488492980009, 'gamma': 0.02722008436621197, 'max_depth': 11, 'n_estimators': 2000.0, 'min_child_weight': 9}. Best is trial 78 with value: 0.5784164856348651.\u001B[0m\n",
      "\u001B[32m[I 2022-10-05 11:13:51,216]\u001B[0m Trial 96 finished with value: 0.5746330334808825 and parameters: {'classsifer': 'XGBoost', 'booster': 'gbtree', 'learning_rate': 0.29284808955584357, 'gamma': 0.37153814475886404, 'max_depth': 15, 'n_estimators': 2500.0, 'min_child_weight': 12}. Best is trial 78 with value: 0.5784164856348651.\u001B[0m\n",
      "\u001B[32m[I 2022-10-05 11:14:32,255]\u001B[0m Trial 81 finished with value: 0.5779801884959682 and parameters: {'classsifer': 'XGBoost', 'booster': 'gbtree', 'learning_rate': 0.25053755132062555, 'gamma': 0.005236401835268062, 'max_depth': 7, 'n_estimators': 4000.0, 'min_child_weight': 3}. Best is trial 78 with value: 0.5784164856348651.\u001B[0m\n",
      "\u001B[32m[I 2022-10-05 11:14:49,843]\u001B[0m Trial 97 finished with value: 0.5746645987387774 and parameters: {'classsifer': 'XGBoost', 'booster': 'gbtree', 'learning_rate': 0.2615388516360748, 'gamma': 0.3842616042983269, 'max_depth': 15, 'n_estimators': 2500.0, 'min_child_weight': 10}. Best is trial 78 with value: 0.5784164856348651.\u001B[0m\n",
      "\u001B[32m[I 2022-10-05 11:14:50,131]\u001B[0m Trial 99 finished with value: 0.5753206052894317 and parameters: {'classsifer': 'XGBoost', 'booster': 'gbtree', 'learning_rate': 0.2882698548306603, 'gamma': 0.34457111746598745, 'max_depth': 15, 'n_estimators': 2500.0, 'min_child_weight': 10}. Best is trial 78 with value: 0.5784164856348651.\u001B[0m\n",
      "\u001B[32m[I 2022-10-05 11:14:57,424]\u001B[0m Trial 94 finished with value: 0.5739738561882641 and parameters: {'classsifer': 'XGBoost', 'booster': 'gbtree', 'learning_rate': 0.16914378439046954, 'gamma': 0.38331195055454825, 'max_depth': 15, 'n_estimators': 2500.0, 'min_child_weight': 11}. Best is trial 78 with value: 0.5784164856348651.\u001B[0m\n",
      "\u001B[32m[I 2022-10-05 11:15:00,309]\u001B[0m Trial 95 finished with value: 0.5745537320574872 and parameters: {'classsifer': 'XGBoost', 'booster': 'gbtree', 'learning_rate': 0.16968673313683832, 'gamma': 0.3579241390463809, 'max_depth': 11, 'n_estimators': 2500.0, 'min_child_weight': 7}. Best is trial 78 with value: 0.5784164856348651.\u001B[0m\n",
      "\u001B[32m[I 2022-10-05 11:15:19,274]\u001B[0m Trial 36 finished with value: 0.5766707677681818 and parameters: {'classsifer': 'XGBoost', 'booster': 'gbtree', 'learning_rate': 0.0192855294178374, 'gamma': 0.058347994816630555, 'max_depth': 15, 'n_estimators': 4000.0, 'min_child_weight': 8}. Best is trial 78 with value: 0.5784164856348651.\u001B[0m\n",
      "\u001B[32m[I 2022-10-05 11:16:42,935]\u001B[0m Trial 98 finished with value: 0.5742979092681716 and parameters: {'classsifer': 'XGBoost', 'booster': 'gbtree', 'learning_rate': 0.16903918235415305, 'gamma': 0.41128857967618904, 'max_depth': 15, 'n_estimators': 2500.0, 'min_child_weight': 12}. Best is trial 78 with value: 0.5784164856348651.\u001B[0m\n",
      "\u001B[32m[I 2022-10-05 11:21:57,587]\u001B[0m Trial 100 finished with value: 0.5745774213610998 and parameters: {'classsifer': 'XGBoost', 'booster': 'gbtree', 'learning_rate': 0.2925956592095313, 'gamma': 0.5250068583674798, 'max_depth': 15, 'n_estimators': 4000.0, 'min_child_weight': 10}. Best is trial 78 with value: 0.5784164856348651.\u001B[0m\n",
      "\u001B[32m[I 2022-10-05 11:23:48,292]\u001B[0m Trial 102 finished with value: 0.5752746090252516 and parameters: {'classsifer': 'XGBoost', 'booster': 'gbtree', 'learning_rate': 0.2921249699896799, 'gamma': 0.42396713928063146, 'max_depth': 15, 'n_estimators': 4000.0, 'min_child_weight': 7}. Best is trial 78 with value: 0.5784164856348651.\u001B[0m\n",
      "\u001B[32m[I 2022-10-05 11:24:26,172]\u001B[0m Trial 103 finished with value: 0.5748924952235785 and parameters: {'classsifer': 'XGBoost', 'booster': 'gbtree', 'learning_rate': 0.28863741377350977, 'gamma': 0.4200676562639485, 'max_depth': 15, 'n_estimators': 4000.0, 'min_child_weight': 10}. Best is trial 78 with value: 0.5784164856348651.\u001B[0m\n",
      "\u001B[32m[I 2022-10-05 11:25:07,893]\u001B[0m Trial 106 finished with value: 0.5732203199369691 and parameters: {'classsifer': 'XGBoost', 'booster': 'gbtree', 'learning_rate': 0.2881177348838704, 'gamma': 0.4342143583102332, 'max_depth': 6, 'n_estimators': 4000.0, 'min_child_weight': 7}. Best is trial 78 with value: 0.5784164856348651.\u001B[0m\n",
      "\u001B[32m[I 2022-10-05 11:25:27,842]\u001B[0m Trial 104 finished with value: 0.575070494548933 and parameters: {'classsifer': 'XGBoost', 'booster': 'gbtree', 'learning_rate': 0.290078684976681, 'gamma': 0.4155008183019306, 'max_depth': 15, 'n_estimators': 4000.0, 'min_child_weight': 7}. Best is trial 78 with value: 0.5784164856348651.\u001B[0m\n",
      "\u001B[32m[I 2022-10-05 11:25:43,560]\u001B[0m Trial 101 finished with value: 0.5764080717943878 and parameters: {'classsifer': 'XGBoost', 'booster': 'gbtree', 'learning_rate': 0.28411298737666024, 'gamma': 0.128993929599364, 'max_depth': 15, 'n_estimators': 4000.0, 'min_child_weight': 10}. Best is trial 78 with value: 0.5784164856348651.\u001B[0m\n",
      "\u001B[32m[I 2022-10-05 11:26:34,666]\u001B[0m Trial 105 finished with value: 0.5750421151028566 and parameters: {'classsifer': 'XGBoost', 'booster': 'gbtree', 'learning_rate': 0.2889170578286488, 'gamma': 0.42951688642988506, 'max_depth': 15, 'n_estimators': 4000.0, 'min_child_weight': 7}. Best is trial 78 with value: 0.5784164856348651.\u001B[0m\n",
      "\u001B[32m[I 2022-10-05 11:28:38,276]\u001B[0m Trial 112 finished with value: 0.5751131960624677 and parameters: {'classsifer': 'XGBoost', 'booster': 'gbtree', 'learning_rate': 0.2413631662841425, 'gamma': 0.11182366245715954, 'max_depth': 5, 'n_estimators': 4000.0, 'min_child_weight': 1}. Best is trial 78 with value: 0.5784164856348651.\u001B[0m\n",
      "\u001B[32m[I 2022-10-05 11:29:20,553]\u001B[0m Trial 111 finished with value: 0.5756770100723687 and parameters: {'classsifer': 'XGBoost', 'booster': 'gbtree', 'learning_rate': 0.24284848794870545, 'gamma': 0.12171672336270263, 'max_depth': 6, 'n_estimators': 4000.0, 'min_child_weight': 1}. Best is trial 78 with value: 0.5784164856348651.\u001B[0m\n",
      "\u001B[32m[I 2022-10-05 11:29:34,750]\u001B[0m Trial 109 finished with value: 0.5756982811655408 and parameters: {'classsifer': 'XGBoost', 'booster': 'gbtree', 'learning_rate': 0.22171318121614336, 'gamma': 0.11663930372782856, 'max_depth': 6, 'n_estimators': 4000.0, 'min_child_weight': 1}. Best is trial 78 with value: 0.5784164856348651.\u001B[0m\n",
      "\u001B[32m[I 2022-10-05 11:30:00,449]\u001B[0m Trial 107 finished with value: 0.5749185015431302 and parameters: {'classsifer': 'XGBoost', 'booster': 'gbtree', 'learning_rate': 0.2868523265521383, 'gamma': 0.5557981470774952, 'max_depth': 15, 'n_estimators': 4000.0, 'min_child_weight': 1}. Best is trial 78 with value: 0.5784164856348651.\u001B[0m\n",
      "\u001B[32m[I 2022-10-05 11:30:30,006]\u001B[0m Trial 110 finished with value: 0.5761070262170759 and parameters: {'classsifer': 'XGBoost', 'booster': 'gbtree', 'learning_rate': 0.29095691778879323, 'gamma': 0.039887184290392536, 'max_depth': 6, 'n_estimators': 4000.0, 'min_child_weight': 1}. Best is trial 78 with value: 0.5784164856348651.\u001B[0m\n",
      "\u001B[32m[I 2022-10-05 11:30:52,724]\u001B[0m Trial 113 finished with value: 0.5755969794580234 and parameters: {'classsifer': 'XGBoost', 'booster': 'gbtree', 'learning_rate': 0.24224069192844014, 'gamma': 0.1198452537881781, 'max_depth': 6, 'n_estimators': 4000.0, 'min_child_weight': 1}. Best is trial 78 with value: 0.5784164856348651.\u001B[0m\n",
      "\u001B[32m[I 2022-10-05 11:33:53,172]\u001B[0m Trial 108 finished with value: 0.5759639831035093 and parameters: {'classsifer': 'XGBoost', 'booster': 'gbtree', 'learning_rate': 0.29051532574679045, 'gamma': 0.1242711312402042, 'max_depth': 13, 'n_estimators': 4000.0, 'min_child_weight': 1}. Best is trial 78 with value: 0.5784164856348651.\u001B[0m\n",
      "\u001B[32m[I 2022-10-05 11:35:04,082]\u001B[0m Trial 116 finished with value: 0.574079071228201 and parameters: {'classsifer': 'XGBoost', 'booster': 'gbtree', 'learning_rate': 0.2268356121883788, 'gamma': 0.12134679704920014, 'max_depth': 4, 'n_estimators': 4000.0, 'min_child_weight': 1}. Best is trial 78 with value: 0.5784164856348651.\u001B[0m\n",
      "\u001B[32m[I 2022-10-05 11:35:35,973]\u001B[0m Trial 117 finished with value: 0.5747715342970563 and parameters: {'classsifer': 'XGBoost', 'booster': 'gbtree', 'learning_rate': 0.23898646451901587, 'gamma': 0.11979347607522688, 'max_depth': 4, 'n_estimators': 4000.0, 'min_child_weight': 1}. Best is trial 78 with value: 0.5784164856348651.\u001B[0m\n",
      "\u001B[32m[I 2022-10-05 11:35:41,284]\u001B[0m Trial 114 finished with value: 0.5755480962677811 and parameters: {'classsifer': 'XGBoost', 'booster': 'gbtree', 'learning_rate': 0.23911627322722745, 'gamma': 0.03894721552041527, 'max_depth': 5, 'n_estimators': 4000.0, 'min_child_weight': 1}. Best is trial 78 with value: 0.5784164856348651.\u001B[0m\n",
      "\u001B[32m[I 2022-10-05 11:37:01,270]\u001B[0m Trial 41 finished with value: 0.5784321464551754 and parameters: {'classsifer': 'XGBoost', 'booster': 'gbtree', 'learning_rate': 0.21810213178273133, 'gamma': 0.0014154204208017829, 'max_depth': 15, 'n_estimators': 2000.0, 'min_child_weight': 9}. Best is trial 41 with value: 0.5784321464551754.\u001B[0m\n",
      "\u001B[32m[I 2022-10-05 11:37:05,241]\u001B[0m Trial 47 finished with value: 0.5782437168589569 and parameters: {'classsifer': 'XGBoost', 'booster': 'gbtree', 'learning_rate': 0.2993035479478414, 'gamma': 0.0008981510484005334, 'max_depth': 10, 'n_estimators': 4000.0, 'min_child_weight': 1}. Best is trial 41 with value: 0.5784321464551754.\u001B[0m\n",
      "\u001B[32m[I 2022-10-05 11:37:44,656]\u001B[0m Trial 120 finished with value: 0.5753838056834398 and parameters: {'classsifer': 'XGBoost', 'booster': 'gbtree', 'learning_rate': 0.2402649131498745, 'gamma': 0.03860802331071472, 'max_depth': 4, 'n_estimators': 4000.0, 'min_child_weight': 1}. Best is trial 41 with value: 0.5784321464551754.\u001B[0m\n",
      "\u001B[32m[I 2022-10-05 11:39:15,773]\u001B[0m Trial 77 finished with value: 0.5783758782027432 and parameters: {'classsifer': 'XGBoost', 'booster': 'gbtree', 'learning_rate': 0.24696761441732623, 'gamma': 0.004214067025744315, 'max_depth': 9, 'n_estimators': 4000.0, 'min_child_weight': 9}. Best is trial 41 with value: 0.5784321464551754.\u001B[0m\n",
      "\u001B[32m[I 2022-10-05 11:39:31,507]\u001B[0m Trial 118 finished with value: 0.576877814796706 and parameters: {'classsifer': 'XGBoost', 'booster': 'gbtree', 'learning_rate': 0.22083508579063432, 'gamma': 0.03893932618053439, 'max_depth': 6, 'n_estimators': 4000.0, 'min_child_weight': 1}. Best is trial 41 with value: 0.5784321464551754.\u001B[0m\n",
      "\u001B[32m[I 2022-10-05 11:40:15,590]\u001B[0m Trial 48 finished with value: 0.5782380650735419 and parameters: {'classsifer': 'XGBoost', 'booster': 'gbtree', 'learning_rate': 0.29228570905005535, 'gamma': 0.0012238917568653251, 'max_depth': 9, 'n_estimators': 4000.0, 'min_child_weight': 2}. Best is trial 41 with value: 0.5784321464551754.\u001B[0m\n",
      "\u001B[32m[I 2022-10-05 11:41:27,312]\u001B[0m Trial 124 finished with value: 0.5775209144915527 and parameters: {'classsifer': 'XGBoost', 'booster': 'gbtree', 'learning_rate': 0.26837276998733733, 'gamma': 0.03547348116121325, 'max_depth': 10, 'n_estimators': 2000.0, 'min_child_weight': 9}. Best is trial 41 with value: 0.5784321464551754.\u001B[0m\n",
      "\u001B[32m[I 2022-10-05 11:41:53,258]\u001B[0m Trial 121 finished with value: 0.5769674701015589 and parameters: {'classsifer': 'XGBoost', 'booster': 'gbtree', 'learning_rate': 0.22306609144219933, 'gamma': 0.03494075328067489, 'max_depth': 6, 'n_estimators': 4000.0, 'min_child_weight': 1}. Best is trial 41 with value: 0.5784321464551754.\u001B[0m\n",
      "\u001B[32m[I 2022-10-05 11:42:06,221]\u001B[0m Trial 115 finished with value: 0.5767945356006245 and parameters: {'classsifer': 'XGBoost', 'booster': 'gbtree', 'learning_rate': 0.2238904329725972, 'gamma': 0.03741034850052992, 'max_depth': 10, 'n_estimators': 4000.0, 'min_child_weight': 2}. Best is trial 41 with value: 0.5784321464551754.\u001B[0m\n",
      "\u001B[32m[I 2022-10-05 11:42:23,782]\u001B[0m Trial 125 finished with value: 0.5771618331135017 and parameters: {'classsifer': 'XGBoost', 'booster': 'gbtree', 'learning_rate': 0.2692112299017463, 'gamma': 0.04019913365650789, 'max_depth': 10, 'n_estimators': 2000.0, 'min_child_weight': 2}. Best is trial 41 with value: 0.5784321464551754.\u001B[0m\n",
      "\u001B[32m[I 2022-10-05 11:43:35,463]\u001B[0m Trial 123 finished with value: 0.5770368568755324 and parameters: {'classsifer': 'XGBoost', 'booster': 'gbtree', 'learning_rate': 0.2690924410455398, 'gamma': 0.0398774361283713, 'max_depth': 10, 'n_estimators': 3500.0, 'min_child_weight': 2}. Best is trial 41 with value: 0.5784321464551754.\u001B[0m\n",
      "\u001B[32m[I 2022-10-05 11:44:11,081]\u001B[0m Trial 119 finished with value: 0.5759242122873489 and parameters: {'classsifer': 'XGBoost', 'booster': 'gbtree', 'learning_rate': 0.2208076026055327, 'gamma': 0.040501074464269295, 'max_depth': 10, 'n_estimators': 4000.0, 'min_child_weight': 1}. Best is trial 41 with value: 0.5784321464551754.\u001B[0m\n",
      "\u001B[32m[I 2022-10-05 11:45:34,217]\u001B[0m Trial 122 finished with value: 0.5766087274858928 and parameters: {'classsifer': 'XGBoost', 'booster': 'gbtree', 'learning_rate': 0.2262759584946132, 'gamma': 0.03969960888426982, 'max_depth': 10, 'n_estimators': 3500.0, 'min_child_weight': 1}. Best is trial 41 with value: 0.5784321464551754.\u001B[0m\n",
      "\u001B[32m[I 2022-10-05 11:45:35,089]\u001B[0m Trial 132 finished with value: 0.5764703411972155 and parameters: {'classsifer': 'XGBoost', 'booster': 'gbtree', 'learning_rate': 0.26703226125879526, 'gamma': 0.0790306410900902, 'max_depth': 10, 'n_estimators': 2000.0, 'min_child_weight': 2}. Best is trial 41 with value: 0.5784321464551754.\u001B[0m\n",
      "\u001B[32m[I 2022-10-05 11:46:56,457]\u001B[0m Trial 127 finished with value: 0.5765499195350099 and parameters: {'classsifer': 'XGBoost', 'booster': 'gbtree', 'learning_rate': 0.1857155732234773, 'gamma': 0.04000541599012575, 'max_depth': 10, 'n_estimators': 2000.0, 'min_child_weight': 2}. Best is trial 41 with value: 0.5784321464551754.\u001B[0m\n",
      "\u001B[32m[I 2022-10-05 11:47:28,710]\u001B[0m Trial 135 finished with value: 0.5766014784043773 and parameters: {'classsifer': 'XGBoost', 'booster': 'gbtree', 'learning_rate': 0.26799863185702905, 'gamma': 0.07706995969811477, 'max_depth': 10, 'n_estimators': 2000.0, 'min_child_weight': 2}. Best is trial 41 with value: 0.5784321464551754.\u001B[0m\n",
      "\u001B[32m[I 2022-10-05 11:50:57,566]\u001B[0m Trial 139 finished with value: 0.576593887358793 and parameters: {'classsifer': 'XGBoost', 'booster': 'gbtree', 'learning_rate': 0.18268300814892002, 'gamma': 0.07774334916597705, 'max_depth': 9, 'n_estimators': 3500.0, 'min_child_weight': 9}. Best is trial 41 with value: 0.5784321464551754.\u001B[0m\n",
      "\u001B[32m[I 2022-10-05 11:51:36,541]\u001B[0m Trial 143 finished with value: 0.5764465236405247 and parameters: {'classsifer': 'XGBoost', 'booster': 'gbtree', 'learning_rate': 0.21133548571638375, 'gamma': 0.08043277849748245, 'max_depth': 9, 'n_estimators': 2000.0, 'min_child_weight': 9}. Best is trial 41 with value: 0.5784321464551754.\u001B[0m\n",
      "\u001B[32m[I 2022-10-05 11:52:36,331]\u001B[0m Trial 76 finished with value: 0.5780884630589329 and parameters: {'classsifer': 'XGBoost', 'booster': 'gbtree', 'learning_rate': 0.19292531008581504, 'gamma': 0.003727053190208031, 'max_depth': 9, 'n_estimators': 4000.0, 'min_child_weight': 9}. Best is trial 41 with value: 0.5784321464551754.\u001B[0m\n",
      "\u001B[32m[I 2022-10-05 12:03:21,570]\u001B[0m Trial 131 finished with value: 0.5780803903043716 and parameters: {'classsifer': 'XGBoost', 'booster': 'gbtree', 'learning_rate': 0.2678381298934973, 'gamma': 0.004736028242856178, 'max_depth': 10, 'n_estimators': 2000.0, 'min_child_weight': 2}. Best is trial 41 with value: 0.5784321464551754.\u001B[0m\n",
      "\u001B[32m[I 2022-10-05 12:06:26,361]\u001B[0m Trial 138 finished with value: 0.5778785039094798 and parameters: {'classsifer': 'XGBoost', 'booster': 'gbtree', 'learning_rate': 0.2998956955848982, 'gamma': 0.004918424769502513, 'max_depth': 10, 'n_estimators': 3500.0, 'min_child_weight': 2}. Best is trial 41 with value: 0.5784321464551754.\u001B[0m\n",
      "\u001B[32m[I 2022-10-05 12:07:36,629]\u001B[0m Trial 38 finished with value: 0.5762113556929809 and parameters: {'classsifer': 'XGBoost', 'booster': 'gbtree', 'learning_rate': 0.010246199697813069, 'gamma': 0.05096694701743848, 'max_depth': 15, 'n_estimators': 2000.0, 'min_child_weight': 9}. Best is trial 41 with value: 0.5784321464551754.\u001B[0m\n",
      "\u001B[32m[I 2022-10-05 12:08:32,468]\u001B[0m Trial 137 finished with value: 0.5780113560993334 and parameters: {'classsifer': 'XGBoost', 'booster': 'gbtree', 'learning_rate': 0.2693666822403273, 'gamma': 0.004602190957661247, 'max_depth': 10, 'n_estimators': 3500.0, 'min_child_weight': 2}. Best is trial 41 with value: 0.5784321464551754.\u001B[0m\n",
      "\u001B[32m[I 2022-10-05 12:11:32,573]\u001B[0m Trial 133 finished with value: 0.5781697024791932 and parameters: {'classsifer': 'XGBoost', 'booster': 'gbtree', 'learning_rate': 0.28042495572174525, 'gamma': 0.003324713911341333, 'max_depth': 10, 'n_estimators': 2000.0, 'min_child_weight': 2}. Best is trial 41 with value: 0.5784321464551754.\u001B[0m\n",
      "\u001B[32m[I 2022-10-05 12:14:38,196]\u001B[0m Trial 126 finished with value: 0.5781245923597799 and parameters: {'classsifer': 'XGBoost', 'booster': 'gbtree', 'learning_rate': 0.18434168777775808, 'gamma': 0.002673794384892715, 'max_depth': 10, 'n_estimators': 2000.0, 'min_child_weight': 9}. Best is trial 41 with value: 0.5784321464551754.\u001B[0m\n",
      "\u001B[32m[I 2022-10-05 12:17:41,425]\u001B[0m Trial 130 finished with value: 0.5781629427716963 and parameters: {'classsifer': 'XGBoost', 'booster': 'gbtree', 'learning_rate': 0.26885133023174845, 'gamma': 0.0011743178225941155, 'max_depth': 10, 'n_estimators': 2000.0, 'min_child_weight': 9}. Best is trial 41 with value: 0.5784321464551754.\u001B[0m\n",
      "\u001B[32m[I 2022-10-05 12:18:42,686]\u001B[0m Trial 144 finished with value: 0.578546311632883 and parameters: {'classsifer': 'XGBoost', 'booster': 'gbtree', 'learning_rate': 0.27910423942121965, 'gamma': 0.0030372391921170755, 'max_depth': 9, 'n_estimators': 2000.0, 'min_child_weight': 9}. Best is trial 144 with value: 0.578546311632883.\u001B[0m\n",
      "\u001B[32m[I 2022-10-05 12:20:46,061]\u001B[0m Trial 134 finished with value: 0.5779938180216943 and parameters: {'classsifer': 'XGBoost', 'booster': 'gbtree', 'learning_rate': 0.2106272313639235, 'gamma': 0.002836517998523365, 'max_depth': 10, 'n_estimators': 2000.0, 'min_child_weight': 2}. Best is trial 144 with value: 0.578546311632883.\u001B[0m\n",
      "\u001B[32m[I 2022-10-05 12:25:12,749]\u001B[0m Trial 153 finished with value: 0.5776294571788715 and parameters: {'classsifer': 'XGBoost', 'booster': 'gbtree', 'learning_rate': 0.2557106825190178, 'gamma': 0.010114894617501667, 'max_depth': 8, 'n_estimators': 4000.0, 'min_child_weight': 9}. Best is trial 144 with value: 0.578546311632883.\u001B[0m\n",
      "\u001B[32m[I 2022-10-05 12:26:56,479]\u001B[0m Trial 128 finished with value: 0.5780868150948676 and parameters: {'classsifer': 'XGBoost', 'booster': 'gbtree', 'learning_rate': 0.18386798225079168, 'gamma': 0.0026403395182323887, 'max_depth': 10, 'n_estimators': 2000.0, 'min_child_weight': 2}. Best is trial 144 with value: 0.578546311632883.\u001B[0m\n",
      "\u001B[32m[I 2022-10-05 12:27:49,647]\u001B[0m Trial 157 finished with value: 0.5775826958225838 and parameters: {'classsifer': 'XGBoost', 'booster': 'gbtree', 'learning_rate': 0.2804349394804621, 'gamma': 0.01874112856536629, 'max_depth': 8, 'n_estimators': 2000.0, 'min_child_weight': 9}. Best is trial 144 with value: 0.578546311632883.\u001B[0m\n",
      "\u001B[32m[I 2022-10-05 12:29:22,117]\u001B[0m Trial 158 finished with value: 0.5773256285579365 and parameters: {'classsifer': 'XGBoost', 'booster': 'gbtree', 'learning_rate': 0.255578377203547, 'gamma': 0.0198825559625789, 'max_depth': 8, 'n_estimators': 2000.0, 'min_child_weight': 9}. Best is trial 144 with value: 0.578546311632883.\u001B[0m\n",
      "\u001B[32m[I 2022-10-05 12:32:19,370]\u001B[0m Trial 72 finished with value: 0.5782630661955204 and parameters: {'classsifer': 'XGBoost', 'booster': 'gbtree', 'learning_rate': 0.19555674411031773, 'gamma': 0.0024169683958661457, 'max_depth': 13, 'n_estimators': 3500.0, 'min_child_weight': 9}. Best is trial 144 with value: 0.578546311632883.\u001B[0m\n",
      "\u001B[32m[I 2022-10-05 12:33:57,354]\u001B[0m Trial 142 finished with value: 0.5784858471488376 and parameters: {'classsifer': 'XGBoost', 'booster': 'gbtree', 'learning_rate': 0.29766529340892584, 'gamma': 0.0033305007142884497, 'max_depth': 9, 'n_estimators': 3500.0, 'min_child_weight': 9}. Best is trial 144 with value: 0.578546311632883.\u001B[0m\n",
      "\u001B[32m[I 2022-10-05 12:34:22,044]\u001B[0m Trial 152 finished with value: 0.5781629244005456 and parameters: {'classsifer': 'XGBoost', 'booster': 'gbtree', 'learning_rate': 0.27852214976643563, 'gamma': 0.005255184034267606, 'max_depth': 8, 'n_estimators': 2000.0, 'min_child_weight': 9}. Best is trial 144 with value: 0.578546311632883.\u001B[0m\n",
      "\u001B[32m[I 2022-10-05 12:34:23,796]\u001B[0m Trial 151 finished with value: 0.5782365403963087 and parameters: {'classsifer': 'XGBoost', 'booster': 'gbtree', 'learning_rate': 0.2556954527926372, 'gamma': 0.005049938525029131, 'max_depth': 8, 'n_estimators': 2000.0, 'min_child_weight': 9}. Best is trial 144 with value: 0.578546311632883.\u001B[0m\n",
      "\u001B[32m[I 2022-10-05 12:34:36,633]\u001B[0m Trial 159 finished with value: 0.5775286121563292 and parameters: {'classsifer': 'XGBoost', 'booster': 'gbtree', 'learning_rate': 0.2784533553298672, 'gamma': 0.019001248335635004, 'max_depth': 9, 'n_estimators': 2000.0, 'min_child_weight': 9}. Best is trial 144 with value: 0.578546311632883.\u001B[0m\n",
      "\u001B[32m[I 2022-10-05 12:36:35,066]\u001B[0m Trial 160 finished with value: 0.5772711640663565 and parameters: {'classsifer': 'XGBoost', 'booster': 'gbtree', 'learning_rate': 0.28045910042897443, 'gamma': 0.02012670180561803, 'max_depth': 9, 'n_estimators': 2000.0, 'min_child_weight': 9}. Best is trial 144 with value: 0.578546311632883.\u001B[0m\n",
      "\u001B[32m[I 2022-10-05 12:37:20,261]\u001B[0m Trial 162 finished with value: 0.5759336858705341 and parameters: {'classsifer': 'XGBoost', 'booster': 'gbtree', 'learning_rate': 0.1549525025843541, 'gamma': 0.07072616817869781, 'max_depth': 9, 'n_estimators': 2000.0, 'min_child_weight': 8}. Best is trial 144 with value: 0.578546311632883.\u001B[0m\n",
      "\u001B[32m[I 2022-10-05 12:37:56,900]\u001B[0m Trial 82 finished with value: 0.5781556914539668 and parameters: {'classsifer': 'XGBoost', 'booster': 'gbtree', 'learning_rate': 0.25858082933743703, 'gamma': 0.0003290388456789993, 'max_depth': 9, 'n_estimators': 4000.0, 'min_child_weight': 4}. Best is trial 144 with value: 0.578546311632883.\u001B[0m\n",
      "\u001B[32m[I 2022-10-05 12:39:19,740]\u001B[0m Trial 145 finished with value: 0.5783212377740377 and parameters: {'classsifer': 'XGBoost', 'booster': 'gbtree', 'learning_rate': 0.27913110504558436, 'gamma': 0.0014534264531146646, 'max_depth': 9, 'n_estimators': 3000.0, 'min_child_weight': 9}. Best is trial 144 with value: 0.578546311632883.\u001B[0m\n",
      "\u001B[32m[I 2022-10-05 12:40:09,453]\u001B[0m Trial 163 finished with value: 0.5767918112440331 and parameters: {'classsifer': 'XGBoost', 'booster': 'gbtree', 'learning_rate': 0.188498972676455, 'gamma': 0.06707419570159714, 'max_depth': 9, 'n_estimators': 2000.0, 'min_child_weight': 8}. Best is trial 144 with value: 0.578546311632883.\u001B[0m\n",
      "\u001B[32m[I 2022-10-05 12:41:20,592]\u001B[0m Trial 165 finished with value: 0.5764342414430472 and parameters: {'classsifer': 'XGBoost', 'booster': 'gbtree', 'learning_rate': 0.2791497681457129, 'gamma': 0.06546539962870972, 'max_depth': 9, 'n_estimators': 2000.0, 'min_child_weight': 8}. Best is trial 144 with value: 0.578546311632883.\u001B[0m\n",
      "\u001B[32m[I 2022-10-05 12:41:48,550]\u001B[0m Trial 161 finished with value: 0.5775052073709239 and parameters: {'classsifer': 'XGBoost', 'booster': 'gbtree', 'learning_rate': 0.1431651727882856, 'gamma': 0.022607548112003505, 'max_depth': 9, 'n_estimators': 2000.0, 'min_child_weight': 9}. Best is trial 144 with value: 0.578546311632883.\u001B[0m\n",
      "\u001B[32m[I 2022-10-05 12:42:23,110]\u001B[0m Trial 136 finished with value: 0.5783882564393136 and parameters: {'classsifer': 'XGBoost', 'booster': 'gbtree', 'learning_rate': 0.18467888607821614, 'gamma': 0.0020994723447294583, 'max_depth': 10, 'n_estimators': 2000.0, 'min_child_weight': 2}. Best is trial 144 with value: 0.578546311632883.\u001B[0m\n",
      "\u001B[32m[I 2022-10-05 12:42:32,419]\u001B[0m Trial 164 finished with value: 0.5771319541083535 and parameters: {'classsifer': 'XGBoost', 'booster': 'gbtree', 'learning_rate': 0.18931669919523253, 'gamma': 0.07049047748224212, 'max_depth': 9, 'n_estimators': 2000.0, 'min_child_weight': 8}. Best is trial 144 with value: 0.578546311632883.\u001B[0m\n",
      "\u001B[32m[I 2022-10-05 12:42:59,696]\u001B[0m Trial 167 finished with value: 0.5765468757642249 and parameters: {'classsifer': 'XGBoost', 'booster': 'gbtree', 'learning_rate': 0.28189146736701, 'gamma': 0.06955013668101173, 'max_depth': 9, 'n_estimators': 3000.0, 'min_child_weight': 8}. Best is trial 144 with value: 0.578546311632883.\u001B[0m\n",
      "\u001B[32m[I 2022-10-05 12:43:40,590]\u001B[0m Trial 129 finished with value: 0.5783763734198983 and parameters: {'classsifer': 'XGBoost', 'booster': 'gbtree', 'learning_rate': 0.21131807867084082, 'gamma': 0.0013595833251576596, 'max_depth': 10, 'n_estimators': 2000.0, 'min_child_weight': 2}. Best is trial 144 with value: 0.578546311632883.\u001B[0m\n",
      "\u001B[32m[I 2022-10-05 12:44:29,768]\u001B[0m Trial 169 finished with value: 0.5765514924321649 and parameters: {'classsifer': 'XGBoost', 'booster': 'gbtree', 'learning_rate': 0.282614686447314, 'gamma': 0.06301918654273495, 'max_depth': 8, 'n_estimators': 2000.0, 'min_child_weight': 10}. Best is trial 144 with value: 0.578546311632883.\u001B[0m\n",
      "\u001B[32m[I 2022-10-05 12:45:02,829]\u001B[0m Trial 168 finished with value: 0.5772915299625448 and parameters: {'classsifer': 'XGBoost', 'booster': 'gbtree', 'learning_rate': 0.29696575880788245, 'gamma': 0.06982953105108, 'max_depth': 8, 'n_estimators': 3000.0, 'min_child_weight': 8}. Best is trial 144 with value: 0.578546311632883.\u001B[0m\n",
      "\u001B[32m[I 2022-10-05 12:45:08,633]\u001B[0m Trial 170 finished with value: 0.5764609321600276 and parameters: {'classsifer': 'XGBoost', 'booster': 'gbtree', 'learning_rate': 0.2981012951612869, 'gamma': 0.06044695164418737, 'max_depth': 8, 'n_estimators': 2000.0, 'min_child_weight': 10}. Best is trial 144 with value: 0.578546311632883.\u001B[0m\n",
      "\u001B[32m[I 2022-10-05 12:45:20,066]\u001B[0m Trial 140 finished with value: 0.5784450144456437 and parameters: {'classsifer': 'XGBoost', 'booster': 'gbtree', 'learning_rate': 0.210229393162765, 'gamma': 0.0020732350483827723, 'max_depth': 9, 'n_estimators': 3500.0, 'min_child_weight': 9}. Best is trial 144 with value: 0.578546311632883.\u001B[0m\n",
      "\u001B[32m[I 2022-10-05 12:45:50,192]\u001B[0m Trial 166 finished with value: 0.576388866216892 and parameters: {'classsifer': 'XGBoost', 'booster': 'gbtree', 'learning_rate': 0.15744407402446348, 'gamma': 0.0757867585622202, 'max_depth': 9, 'n_estimators': 3000.0, 'min_child_weight': 8}. Best is trial 144 with value: 0.578546311632883.\u001B[0m\n",
      "\u001B[32m[I 2022-10-05 12:46:41,035]\u001B[0m Trial 172 finished with value: 0.573401541243149 and parameters: {'classsifer': 'XGBoost', 'booster': 'gbtree', 'learning_rate': 0.2972228097740742, 'gamma': 0.673771347643836, 'max_depth': 8, 'n_estimators': 3000.0, 'min_child_weight': 10}. Best is trial 144 with value: 0.578546311632883.\u001B[0m\n",
      "\u001B[32m[I 2022-10-05 12:51:00,281]\u001B[0m Trial 171 finished with value: 0.5769810845432747 and parameters: {'classsifer': 'XGBoost', 'booster': 'gbtree', 'learning_rate': 0.2954111602068369, 'gamma': 0.060356465253396496, 'max_depth': 14, 'n_estimators': 3500.0, 'min_child_weight': 10}. Best is trial 144 with value: 0.578546311632883.\u001B[0m\n",
      "\u001B[32m[I 2022-10-05 12:51:14,003]\u001B[0m Trial 174 finished with value: 0.576771009203597 and parameters: {'classsifer': 'XGBoost', 'booster': 'gbtree', 'learning_rate': 0.2977480274918204, 'gamma': 0.05507937921152014, 'max_depth': 8, 'n_estimators': 3000.0, 'min_child_weight': 10}. Best is trial 144 with value: 0.578546311632883.\u001B[0m\n",
      "\u001B[32m[I 2022-10-05 12:51:38,366]\u001B[0m Trial 150 finished with value: 0.5782813363587179 and parameters: {'classsifer': 'XGBoost', 'booster': 'gbtree', 'learning_rate': 0.25637135984329046, 'gamma': 0.0008275180321423397, 'max_depth': 8, 'n_estimators': 3000.0, 'min_child_weight': 9}. Best is trial 144 with value: 0.578546311632883.\u001B[0m\n",
      "\u001B[32m[I 2022-10-05 12:52:26,165]\u001B[0m Trial 175 finished with value: 0.5765307201740493 and parameters: {'classsifer': 'XGBoost', 'booster': 'gbtree', 'learning_rate': 0.2964522279819382, 'gamma': 0.0519945737058408, 'max_depth': 8, 'n_estimators': 3500.0, 'min_child_weight': 10}. Best is trial 144 with value: 0.578546311632883.\u001B[0m\n",
      "\u001B[32m[I 2022-10-05 12:52:44,367]\u001B[0m Trial 182 finished with value: 0.5723825774128318 and parameters: {'classsifer': 'XGBoost', 'booster': 'gbtree', 'learning_rate': 0.19995330780679052, 'gamma': 0.9729760296422183, 'max_depth': 13, 'n_estimators': 3000.0, 'min_child_weight': 10}. Best is trial 144 with value: 0.578546311632883.\u001B[0m\n",
      "\u001B[32m[I 2022-10-05 12:53:28,511]\u001B[0m Trial 155 finished with value: 0.5781479687019143 and parameters: {'classsifer': 'XGBoost', 'booster': 'gbtree', 'learning_rate': 0.2813268494377434, 'gamma': 0.003517856074317683, 'max_depth': 8, 'n_estimators': 4000.0, 'min_child_weight': 3}. Best is trial 144 with value: 0.578546311632883.\u001B[0m\n",
      "\u001B[32m[I 2022-10-05 12:54:37,016]\u001B[0m Trial 148 finished with value: 0.5781425010037436 and parameters: {'classsifer': 'XGBoost', 'booster': 'gbtree', 'learning_rate': 0.27969200409598527, 'gamma': 0.0025342226114063674, 'max_depth': 8, 'n_estimators': 4000.0, 'min_child_weight': 9}. Best is trial 144 with value: 0.578546311632883.\u001B[0m\n",
      "\u001B[32m[I 2022-10-05 12:54:54,255]\u001B[0m Trial 184 finished with value: 0.5729866903827692 and parameters: {'classsifer': 'XGBoost', 'booster': 'gbtree', 'learning_rate': 0.2001841568517395, 'gamma': 0.9825448297826698, 'max_depth': 14, 'n_estimators': 3500.0, 'min_child_weight': 9}. Best is trial 144 with value: 0.578546311632883.\u001B[0m\n",
      "\u001B[32m[I 2022-10-05 12:57:41,357]\u001B[0m Trial 149 finished with value: 0.5784149865677622 and parameters: {'classsifer': 'XGBoost', 'booster': 'gbtree', 'learning_rate': 0.2981852370366159, 'gamma': 0.0003909915601288898, 'max_depth': 8, 'n_estimators': 4000.0, 'min_child_weight': 9}. Best is trial 144 with value: 0.578546311632883.\u001B[0m\n",
      "\u001B[32m[I 2022-10-05 12:59:25,965]\u001B[0m Trial 173 finished with value: 0.577973221501171 and parameters: {'classsifer': 'XGBoost', 'booster': 'gbtree', 'learning_rate': 0.2740995161375939, 'gamma': 0.02415941379715602, 'max_depth': 14, 'n_estimators': 3000.0, 'min_child_weight': 10}. Best is trial 144 with value: 0.578546311632883.\u001B[0m\n",
      "\u001B[32m[I 2022-10-05 12:59:26,433]\u001B[0m Trial 176 finished with value: 0.5778292091524214 and parameters: {'classsifer': 'XGBoost', 'booster': 'gbtree', 'learning_rate': 0.29756357624707147, 'gamma': 0.024506399853792302, 'max_depth': 14, 'n_estimators': 3000.0, 'min_child_weight': 10}. Best is trial 144 with value: 0.578546311632883.\u001B[0m\n",
      "\u001B[32m[I 2022-10-05 13:00:41,444]\u001B[0m Trial 178 finished with value: 0.5770153740518491 and parameters: {'classsifer': 'XGBoost', 'booster': 'gbtree', 'learning_rate': 0.29614052237188015, 'gamma': 0.026575863351934327, 'max_depth': 14, 'n_estimators': 3000.0, 'min_child_weight': 10}. Best is trial 144 with value: 0.578546311632883.\u001B[0m\n",
      "\u001B[32m[I 2022-10-05 13:01:15,475]\u001B[0m Trial 179 finished with value: 0.5778241674509899 and parameters: {'classsifer': 'XGBoost', 'booster': 'gbtree', 'learning_rate': 0.29678971012961114, 'gamma': 0.025015976715003375, 'max_depth': 14, 'n_estimators': 3000.0, 'min_child_weight': 9}. Best is trial 144 with value: 0.578546311632883.\u001B[0m\n",
      "\u001B[32m[I 2022-10-05 13:01:29,500]\u001B[0m Trial 74 finished with value: 0.5782837447652446 and parameters: {'classsifer': 'XGBoost', 'booster': 'gbtree', 'learning_rate': 0.18729171146555837, 'gamma': 0.0015384029382018091, 'max_depth': 13, 'n_estimators': 4000.0, 'min_child_weight': 9}. Best is trial 144 with value: 0.578546311632883.\u001B[0m\n",
      "\u001B[32m[I 2022-10-05 13:01:42,039]\u001B[0m Trial 177 finished with value: 0.5776503135872728 and parameters: {'classsifer': 'XGBoost', 'booster': 'gbtree', 'learning_rate': 0.29553519389113025, 'gamma': 0.0230877712679971, 'max_depth': 14, 'n_estimators': 3000.0, 'min_child_weight': 10}. Best is trial 144 with value: 0.578546311632883.\u001B[0m\n",
      "\u001B[32m[I 2022-10-05 13:04:28,986]\u001B[0m Trial 183 finished with value: 0.5772940967881237 and parameters: {'classsifer': 'XGBoost', 'booster': 'gbtree', 'learning_rate': 0.2024867369805893, 'gamma': 0.027845164897703053, 'max_depth': 14, 'n_estimators': 3000.0, 'min_child_weight': 10}. Best is trial 144 with value: 0.578546311632883.\u001B[0m\n",
      "\u001B[32m[I 2022-10-05 13:05:43,102]\u001B[0m Trial 181 finished with value: 0.578007894311596 and parameters: {'classsifer': 'XGBoost', 'booster': 'gbtree', 'learning_rate': 0.19915083932479866, 'gamma': 0.025527874631287324, 'max_depth': 14, 'n_estimators': 3500.0, 'min_child_weight': 9}. Best is trial 144 with value: 0.578546311632883.\u001B[0m\n",
      "\u001B[32m[I 2022-10-05 13:06:10,571]\u001B[0m Trial 180 finished with value: 0.5779295248750171 and parameters: {'classsifer': 'XGBoost', 'booster': 'gbtree', 'learning_rate': 0.20115353851270593, 'gamma': 0.02361214228181004, 'max_depth': 13, 'n_estimators': 3000.0, 'min_child_weight': 10}. Best is trial 144 with value: 0.578546311632883.\u001B[0m\n",
      "\u001B[32m[I 2022-10-05 13:06:56,251]\u001B[0m Trial 146 finished with value: 0.5783994881566692 and parameters: {'classsifer': 'XGBoost', 'booster': 'gbtree', 'learning_rate': 0.21106456141022792, 'gamma': 0.0002286731776803266, 'max_depth': 9, 'n_estimators': 4000.0, 'min_child_weight': 9}. Best is trial 144 with value: 0.578546311632883.\u001B[0m\n",
      "\u001B[32m[I 2022-10-05 13:09:37,465]\u001B[0m Trial 192 finished with value: 0.5775805162095546 and parameters: {'classsifer': 'XGBoost', 'booster': 'gbtree', 'learning_rate': 0.25668085613950536, 'gamma': 0.025626708400701713, 'max_depth': 9, 'n_estimators': 3500.0, 'min_child_weight': 9}. Best is trial 144 with value: 0.578546311632883.\u001B[0m\n",
      "\u001B[32m[I 2022-10-05 13:10:19,004]\u001B[0m Trial 154 finished with value: 0.5783318387553663 and parameters: {'classsifer': 'XGBoost', 'booster': 'gbtree', 'learning_rate': 0.2557029849956979, 'gamma': 0.0022557013908028017, 'max_depth': 8, 'n_estimators': 3000.0, 'min_child_weight': 3}. Best is trial 144 with value: 0.578546311632883.\u001B[0m\n",
      "\u001B[32m[I 2022-10-05 13:10:30,896]\u001B[0m Trial 185 finished with value: 0.5778329195121674 and parameters: {'classsifer': 'XGBoost', 'booster': 'gbtree', 'learning_rate': 0.20641731008128725, 'gamma': 0.02444099384004301, 'max_depth': 14, 'n_estimators': 3000.0, 'min_child_weight': 9}. Best is trial 144 with value: 0.578546311632883.\u001B[0m\n",
      "\u001B[32m[I 2022-10-05 13:10:33,067]\u001B[0m Trial 147 finished with value: 0.5784265936399272 and parameters: {'classsifer': 'XGBoost', 'booster': 'gbtree', 'learning_rate': 0.21060778042325873, 'gamma': 0.0016720849679094975, 'max_depth': 9, 'n_estimators': 4000.0, 'min_child_weight': 9}. Best is trial 144 with value: 0.578546311632883.\u001B[0m\n",
      "\u001B[32m[I 2022-10-05 13:10:47,032]\u001B[0m Trial 187 finished with value: 0.5775185689288292 and parameters: {'classsifer': 'XGBoost', 'booster': 'gbtree', 'learning_rate': 0.21287880865470823, 'gamma': 0.026034417454968817, 'max_depth': 14, 'n_estimators': 3500.0, 'min_child_weight': 9}. Best is trial 144 with value: 0.578546311632883.\u001B[0m\n",
      "\u001B[32m[I 2022-10-05 13:10:50,409]\u001B[0m Trial 186 finished with value: 0.5779944924074625 and parameters: {'classsifer': 'XGBoost', 'booster': 'gbtree', 'learning_rate': 0.2007929378102537, 'gamma': 0.02577642704787566, 'max_depth': 14, 'n_estimators': 3500.0, 'min_child_weight': 9}. Best is trial 144 with value: 0.578546311632883.\u001B[0m\n",
      "\u001B[32m[I 2022-10-05 13:11:43,020]\u001B[0m Trial 191 finished with value: 0.5775815202061974 and parameters: {'classsifer': 'XGBoost', 'booster': 'gbtree', 'learning_rate': 0.20831718219920173, 'gamma': 0.030374166143705115, 'max_depth': 14, 'n_estimators': 3500.0, 'min_child_weight': 9}. Best is trial 144 with value: 0.578546311632883.\u001B[0m\n",
      "\u001B[32m[I 2022-10-05 13:12:19,638]\u001B[0m Trial 193 finished with value: 0.5771265383911622 and parameters: {'classsifer': 'XGBoost', 'booster': 'gbtree', 'learning_rate': 0.20427954470794285, 'gamma': 0.02809688952284016, 'max_depth': 9, 'n_estimators': 3500.0, 'min_child_weight': 9}. Best is trial 144 with value: 0.578546311632883.\u001B[0m\n",
      "\u001B[32m[I 2022-10-05 13:12:29,661]\u001B[0m Trial 189 finished with value: 0.5777033736994974 and parameters: {'classsifer': 'XGBoost', 'booster': 'gbtree', 'learning_rate': 0.204700639221629, 'gamma': 0.026022473598641876, 'max_depth': 14, 'n_estimators': 3500.0, 'min_child_weight': 9}. Best is trial 144 with value: 0.578546311632883.\u001B[0m\n",
      "\u001B[32m[I 2022-10-05 13:12:37,717]\u001B[0m Trial 188 finished with value: 0.5774490675705654 and parameters: {'classsifer': 'XGBoost', 'booster': 'gbtree', 'learning_rate': 0.21578151382868177, 'gamma': 0.022523759474487315, 'max_depth': 14, 'n_estimators': 3500.0, 'min_child_weight': 9}. Best is trial 144 with value: 0.578546311632883.\u001B[0m\n",
      "\u001B[32m[I 2022-10-05 13:12:38,808]\u001B[0m Trial 195 finished with value: 0.5771868999641752 and parameters: {'classsifer': 'XGBoost', 'booster': 'gbtree', 'learning_rate': 0.21596797003325818, 'gamma': 0.030437029142820742, 'max_depth': 9, 'n_estimators': 3500.0, 'min_child_weight': 9}. Best is trial 144 with value: 0.578546311632883.\u001B[0m\n",
      "\u001B[32m[I 2022-10-05 13:12:52,513]\u001B[0m Trial 190 finished with value: 0.5772036006109792 and parameters: {'classsifer': 'XGBoost', 'booster': 'gbtree', 'learning_rate': 0.20490553308271534, 'gamma': 0.024628679619686438, 'max_depth': 14, 'n_estimators': 3500.0, 'min_child_weight': 9}. Best is trial 144 with value: 0.578546311632883.\u001B[0m\n",
      "\u001B[32m[I 2022-10-05 13:13:20,805]\u001B[0m Trial 197 finished with value: 0.5770524970979595 and parameters: {'classsifer': 'XGBoost', 'booster': 'gbtree', 'learning_rate': 0.21290343041074333, 'gamma': 0.03181714164607827, 'max_depth': 9, 'n_estimators': 3500.0, 'min_child_weight': 9}. Best is trial 144 with value: 0.578546311632883.\u001B[0m\n",
      "\u001B[32m[I 2022-10-05 13:13:32,349]\u001B[0m Trial 194 finished with value: 0.577145010653863 and parameters: {'classsifer': 'XGBoost', 'booster': 'gbtree', 'learning_rate': 0.17539663123196306, 'gamma': 0.02966407220664247, 'max_depth': 9, 'n_estimators': 3500.0, 'min_child_weight': 9}. Best is trial 144 with value: 0.578546311632883.\u001B[0m\n",
      "\u001B[32m[I 2022-10-05 13:13:41,712]\u001B[0m Trial 196 finished with value: 0.5768174746020202 and parameters: {'classsifer': 'XGBoost', 'booster': 'gbtree', 'learning_rate': 0.2059889017241372, 'gamma': 0.027400146897524267, 'max_depth': 9, 'n_estimators': 3500.0, 'min_child_weight': 9}. Best is trial 144 with value: 0.578546311632883.\u001B[0m\n",
      "\u001B[32m[I 2022-10-05 13:13:43,471]\u001B[0m Trial 198 finished with value: 0.5778886558338117 and parameters: {'classsifer': 'XGBoost', 'booster': 'gbtree', 'learning_rate': 0.20710961347290063, 'gamma': 0.029234726126230223, 'max_depth': 9, 'n_estimators': 3500.0, 'min_child_weight': 9}. Best is trial 144 with value: 0.578546311632883.\u001B[0m\n",
      "\u001B[32m[I 2022-10-05 13:14:04,172]\u001B[0m Trial 199 finished with value: 0.5769875753625224 and parameters: {'classsifer': 'XGBoost', 'booster': 'gbtree', 'learning_rate': 0.1786635621494917, 'gamma': 0.04012089522107521, 'max_depth': 13, 'n_estimators': 3500.0, 'min_child_weight': 9}. Best is trial 144 with value: 0.578546311632883.\u001B[0m\n",
      "\u001B[32m[I 2022-10-05 13:14:13,037]\u001B[0m Trial 79 finished with value: 0.5783664974791012 and parameters: {'classsifer': 'XGBoost', 'booster': 'gbtree', 'learning_rate': 0.24679768045791228, 'gamma': 0.0007097081803388305, 'max_depth': 14, 'n_estimators': 4000.0, 'min_child_weight': 12}. Best is trial 144 with value: 0.578546311632883.\u001B[0m\n",
      "\u001B[32m[I 2022-10-05 13:15:39,462]\u001B[0m Trial 156 finished with value: 0.5782936012888148 and parameters: {'classsifer': 'XGBoost', 'booster': 'gbtree', 'learning_rate': 0.25386537111172924, 'gamma': 0.0014426604996971232, 'max_depth': 9, 'n_estimators': 3000.0, 'min_child_weight': 3}. Best is trial 144 with value: 0.578546311632883.\u001B[0m\n",
      "\u001B[32m[I 2022-10-05 13:15:59,094]\u001B[0m Trial 141 finished with value: 0.5780488020415144 and parameters: {'classsifer': 'XGBoost', 'booster': 'gbtree', 'learning_rate': 0.21152209389379095, 'gamma': 0.000568145834296244, 'max_depth': 14, 'n_estimators': 3500.0, 'min_child_weight': 9}. Best is trial 144 with value: 0.578546311632883.\u001B[0m\n"
     ]
    },
    {
     "name": "stdout",
     "output_type": "stream",
     "text": [
      "Best parameters: {'booster': 'gbtree', 'classsifer': 'XGBoost', 'gamma': 0.0030372391921170755, 'learning_rate': 0.27910423942121965, 'max_depth': 9, 'min_child_weight': 9, 'n_estimators': 2000}\n",
      "Best score (mean balanced_accuracy after 5-fold Cross Validation): 0.578546311632883\n"
     ]
    }
   ],
   "source": [
    "test_cls.optimize()"
   ]
  },
  {
   "cell_type": "code",
   "execution_count": 19,
   "id": "f7cf4e20-5ea7-4410-965e-4ec24f3adff6",
   "metadata": {},
   "outputs": [
    {
     "data": {
      "text/plain": [
       "0.578546311632883"
      ]
     },
     "execution_count": 19,
     "metadata": {},
     "output_type": "execute_result"
    }
   ],
   "source": [
    "test_cls.best_opt_metric"
   ]
  },
  {
   "cell_type": "code",
   "execution_count": 20,
   "id": "d060a57c-df9a-45db-89ef-ae87e9a06582",
   "metadata": {},
   "outputs": [
    {
     "data": {
      "text/plain": [
       "{'booster': 'gbtree',\n",
       " 'classsifer': 'XGBoost',\n",
       " 'gamma': 0.0030372391921170755,\n",
       " 'learning_rate': 0.27910423942121965,\n",
       " 'max_depth': 9,\n",
       " 'min_child_weight': 9,\n",
       " 'n_estimators': 2000}"
      ]
     },
     "execution_count": 20,
     "metadata": {},
     "output_type": "execute_result"
    }
   ],
   "source": [
    "test_cls._best_params"
   ]
  },
  {
   "cell_type": "code",
   "execution_count": 21,
   "id": "81b5310a-3404-4a75-9787-10040dd15fd5",
   "metadata": {},
   "outputs": [
    {
     "name": "stdout",
     "output_type": "stream",
     "text": [
      "{'booster': 'gbtree', 'gamma': 0.0030372391921170755, 'learning_rate': 0.27910423942121965, 'max_depth': 9, 'min_child_weight': 9, 'n_estimators': 2000}\n",
      "Best model initialized with balanced accuracy: 0.579 \n",
      "\n"
     ]
    }
   ],
   "source": [
    "test_cls.best_model()"
   ]
  },
  {
   "cell_type": "code",
   "execution_count": 65,
   "id": "4cccf721-6b56-40eb-b504-fc83e812a720",
   "metadata": {},
   "outputs": [],
   "source": [
    "test_cls.load_model('./xgboost_615.pkl')"
   ]
  },
  {
   "cell_type": "code",
   "execution_count": 22,
   "id": "797fd9ff-9995-4226-b7cf-d8e39bb71d88",
   "metadata": {},
   "outputs": [],
   "source": [
    "test_cls.save_model('./XGBoost-space-deactivate_579.pkl')"
   ]
  },
  {
   "cell_type": "code",
   "execution_count": 23,
   "id": "17b2fa86-0a78-42b3-99e5-3b0ad8fd8858",
   "metadata": {},
   "outputs": [],
   "source": [
    "test_cls._evaluate(test_features, test_label)"
   ]
  },
  {
   "cell_type": "code",
   "execution_count": 24,
   "id": "9a314885-5553-4986-a849-533edaf9638d",
   "metadata": {},
   "outputs": [
    {
     "data": {
      "text/plain": [
       "array([[ 2202,   985],\n",
       "       [ 9659, 57430]])"
      ]
     },
     "execution_count": 24,
     "metadata": {},
     "output_type": "execute_result"
    }
   ],
   "source": [
    "test_cls.compute_confusion_matrix()"
   ]
  },
  {
   "cell_type": "code",
   "execution_count": 25,
   "id": "edb6c4ec-6f39-48fa-94b3-ab1d945dd606",
   "metadata": {},
   "outputs": [
    {
     "data": {
      "image/png": "[encoded data removed]",
      "text/plain": [
       "<Figure size 640x480 with 1 Axes>"
      ]
     },
     "metadata": {},
     "output_type": "display_data"
    }
   ],
   "source": [
    "test_cls.plot_confusion_matrix()"
   ]
  },
  {
   "cell_type": "code",
   "execution_count": 26,
   "id": "09d0c786-a61e-4cf2-8ca8-7a9a384596d8",
   "metadata": {},
   "outputs": [
    {
     "name": "stdout",
     "output_type": "stream",
     "text": [
      "The accuracy of model is 0.849\n",
      "For the positive case, the precision is 0.691, the recall is 0.186 and the F1 score is 0.293\n",
      "For the negative case, the precision is 0.856, the recall is 0.983 and the F1 score is 0.915\n"
     ]
    },
    {
     "data": {
      "text/plain": [
       "{'accuracy': 0.8485400421196425,\n",
       " 'precision_positive': 0.6909319108879824,\n",
       " 'recall_positive': 0.18565045105808953,\n",
       " 'F1_score_positive': 0.2926634768740032,\n",
       " 'precision_negative': 0.8560270685209199,\n",
       " 'recall_negative': 0.9831378926645553,\n",
       " 'F1_score_negative': 0.9151899541050484}"
      ]
     },
     "execution_count": 26,
     "metadata": {},
     "output_type": "execute_result"
    }
   ],
   "source": [
    "test_cls.compute_score()"
   ]
  },
  {
   "cell_type": "markdown",
   "id": "9730a83b-62d5-437b-92a1-e8145f331bb5",
   "metadata": {},
   "source": [
    "# Feature importance analysis"
   ]
  },
  {
   "cell_type": "code",
   "execution_count": 27,
   "id": "9b936724-61d4-4cd1-b5eb-bfbbd328289b",
   "metadata": {},
   "outputs": [
    {
     "data": {
      "text/html": [
       "<div>\n",
       "<style scoped>\n",
       "    .dataframe tbody tr th:only-of-type {\n",
       "        vertical-align: middle;\n",
       "    }\n",
       "\n",
       "    .dataframe tbody tr th {\n",
       "        vertical-align: top;\n",
       "    }\n",
       "\n",
       "    .dataframe thead th {\n",
       "        text-align: right;\n",
       "    }\n",
       "</style>\n",
       "<table border=\"1\" class=\"dataframe\">\n",
       "  <thead>\n",
       "    <tr style=\"text-align: right;\">\n",
       "      <th></th>\n",
       "      <th>feature</th>\n",
       "      <th>feature_importance</th>\n",
       "    </tr>\n",
       "  </thead>\n",
       "  <tbody>\n",
       "    <tr>\n",
       "      <th>207</th>\n",
       "      <td>LU3_LU243</td>\n",
       "      <td>0.156651</td>\n",
       "    </tr>\n",
       "    <tr>\n",
       "      <th>218</th>\n",
       "      <td>LU3_LU424</td>\n",
       "      <td>0.114366</td>\n",
       "    </tr>\n",
       "    <tr>\n",
       "      <th>13</th>\n",
       "      <td>LC1_LC41</td>\n",
       "      <td>0.092136</td>\n",
       "    </tr>\n",
       "    <tr>\n",
       "      <th>210</th>\n",
       "      <td>LU3_LU303</td>\n",
       "      <td>0.042752</td>\n",
       "    </tr>\n",
       "    <tr>\n",
       "      <th>65</th>\n",
       "      <td>LC3_LC34</td>\n",
       "      <td>0.042572</td>\n",
       "    </tr>\n",
       "  </tbody>\n",
       "</table>\n",
       "</div>"
      ],
      "text/plain": [
       "       feature  feature_importance\n",
       "207  LU3_LU243            0.156651\n",
       "218  LU3_LU424            0.114366\n",
       "13    LC1_LC41            0.092136\n",
       "210  LU3_LU303            0.042752\n",
       "65    LC3_LC34            0.042572"
      ]
     },
     "execution_count": 27,
     "metadata": {},
     "output_type": "execute_result"
    }
   ],
   "source": [
    "feature_imp = pd.DataFrame([[f, imp] for f, imp in zip(train_features.columns, test_cls.best_model.feature_importances_)], columns=['feature', 'feature_importance'])\n",
    "feature_imp.sort_values('feature_importance', inplace=True, ascending=False)\n",
    "feature_imp = feature_imp.query('feature_importance > 0')\n",
    "feature_imp.head()"
   ]
  },
  {
   "cell_type": "code",
   "execution_count": 28,
   "id": "e325dee1-168f-41a7-b755-60cd7295fa08",
   "metadata": {},
   "outputs": [
    {
     "data": {
      "text/html": [
       "<div>\n",
       "<style scoped>\n",
       "    .dataframe tbody tr th:only-of-type {\n",
       "        vertical-align: middle;\n",
       "    }\n",
       "\n",
       "    .dataframe tbody tr th {\n",
       "        vertical-align: top;\n",
       "    }\n",
       "\n",
       "    .dataframe thead th {\n",
       "        text-align: right;\n",
       "    }\n",
       "</style>\n",
       "<table border=\"1\" class=\"dataframe\">\n",
       "  <thead>\n",
       "    <tr style=\"text-align: right;\">\n",
       "      <th></th>\n",
       "      <th>feature</th>\n",
       "      <th>feature_importance</th>\n",
       "    </tr>\n",
       "  </thead>\n",
       "  <tbody>\n",
       "    <tr>\n",
       "      <th>207</th>\n",
       "      <td>LU3_LU243</td>\n",
       "      <td>0.156651</td>\n",
       "    </tr>\n",
       "    <tr>\n",
       "      <th>218</th>\n",
       "      <td>LU3_LU424</td>\n",
       "      <td>0.114366</td>\n",
       "    </tr>\n",
       "    <tr>\n",
       "      <th>13</th>\n",
       "      <td>LC1_LC41</td>\n",
       "      <td>0.092136</td>\n",
       "    </tr>\n",
       "    <tr>\n",
       "      <th>210</th>\n",
       "      <td>LU3_LU303</td>\n",
       "      <td>0.042752</td>\n",
       "    </tr>\n",
       "    <tr>\n",
       "      <th>65</th>\n",
       "      <td>LC3_LC34</td>\n",
       "      <td>0.042572</td>\n",
       "    </tr>\n",
       "    <tr>\n",
       "      <th>74</th>\n",
       "      <td>LC3_LC51</td>\n",
       "      <td>0.034347</td>\n",
       "    </tr>\n",
       "    <tr>\n",
       "      <th>205</th>\n",
       "      <td>LU3_LU241</td>\n",
       "      <td>0.032125</td>\n",
       "    </tr>\n",
       "    <tr>\n",
       "      <th>47</th>\n",
       "      <td>LC2_LC51</td>\n",
       "      <td>0.029775</td>\n",
       "    </tr>\n",
       "    <tr>\n",
       "      <th>208</th>\n",
       "      <td>LU3_LU301</td>\n",
       "      <td>0.028439</td>\n",
       "    </tr>\n",
       "    <tr>\n",
       "      <th>71</th>\n",
       "      <td>LC3_LC45</td>\n",
       "      <td>0.025312</td>\n",
       "    </tr>\n",
       "  </tbody>\n",
       "</table>\n",
       "</div>"
      ],
      "text/plain": [
       "       feature  feature_importance\n",
       "207  LU3_LU243            0.156651\n",
       "218  LU3_LU424            0.114366\n",
       "13    LC1_LC41            0.092136\n",
       "210  LU3_LU303            0.042752\n",
       "65    LC3_LC34            0.042572\n",
       "74    LC3_LC51            0.034347\n",
       "205  LU3_LU241            0.032125\n",
       "47    LC2_LC51            0.029775\n",
       "208  LU3_LU301            0.028439\n",
       "71    LC3_LC45            0.025312"
      ]
     },
     "execution_count": 28,
     "metadata": {},
     "output_type": "execute_result"
    }
   ],
   "source": [
    "feature_imp.head(10)"
   ]
  },
  {
   "cell_type": "markdown",
   "id": "b6ba71ff-0f4a-4fea-ad4c-0443a0e51636",
   "metadata": {},
   "source": [
    "## Compare feature importance from self and neighbors "
   ]
  },
  {
   "cell_type": "code",
   "execution_count": 29,
   "id": "9a867ee1-cc19-45bb-a367-02266e2a626a",
   "metadata": {},
   "outputs": [],
   "source": [
    "super_f = []\n",
    "time_space = []\n",
    "for ind, f in feature_imp.iterrows():\n",
    "    super_f.append('_'.join(f['feature'].split('_')[:-1]))\n",
    "    if f['feature'].startswith('nbr'):\n",
    "        time_space.append('neighour')\n",
    "    else:\n",
    "        time_space.append('self')\n",
    "\n",
    "feature_imp['super_feat'] = super_f\n",
    "feature_imp['time_space'] = time_space"
   ]
  },
  {
   "cell_type": "code",
   "execution_count": 30,
   "id": "edaedbb3-e256-4e12-861c-cc9eb0a57a3c",
   "metadata": {},
   "outputs": [
    {
     "data": {
      "text/html": [
       "<div>\n",
       "<style scoped>\n",
       "    .dataframe tbody tr th:only-of-type {\n",
       "        vertical-align: middle;\n",
       "    }\n",
       "\n",
       "    .dataframe tbody tr th {\n",
       "        vertical-align: top;\n",
       "    }\n",
       "\n",
       "    .dataframe thead th {\n",
       "        text-align: right;\n",
       "    }\n",
       "</style>\n",
       "<table border=\"1\" class=\"dataframe\">\n",
       "  <thead>\n",
       "    <tr style=\"text-align: right;\">\n",
       "      <th></th>\n",
       "      <th>feature_importance</th>\n",
       "    </tr>\n",
       "    <tr>\n",
       "      <th>super_feat</th>\n",
       "      <th></th>\n",
       "    </tr>\n",
       "  </thead>\n",
       "  <tbody>\n",
       "    <tr>\n",
       "      <th>self</th>\n",
       "      <td>1.0</td>\n",
       "    </tr>\n",
       "  </tbody>\n",
       "</table>\n",
       "</div>"
      ],
      "text/plain": [
       "            feature_importance\n",
       "super_feat                    \n",
       "self                       1.0"
      ]
     },
     "execution_count": 30,
     "metadata": {},
     "output_type": "execute_result"
    }
   ],
   "source": [
    "df_ts = feature_imp.groupby(['time_space']).sum()\n",
    "df_ts.index.name = 'super_feat'\n",
    "df_ts"
   ]
  },
  {
   "cell_type": "markdown",
   "id": "c0ad0ff7-3f11-4c54-a7a7-c0df6ccd0ddd",
   "metadata": {},
   "source": [
    "## Compare feature importance w.r.t neighboring tiles and surveys"
   ]
  },
  {
   "cell_type": "code",
   "execution_count": 31,
   "id": "1a8321cf-97f4-46cb-8fbf-1869bcb24d75",
   "metadata": {},
   "outputs": [],
   "source": [
    "df_feat = feature_imp.groupby(['super_feat']).sum()\n",
    "df_feat = pd.concat([df_feat,df_ts])\n",
    "df_feat.sort_values('feature_importance', inplace=True, ascending=False)"
   ]
  },
  {
   "cell_type": "code",
   "execution_count": 32,
   "id": "5a2c982d-1443-452c-ae01-e6fc5d52b179",
   "metadata": {},
   "outputs": [
    {
     "data": {
      "text/html": [
       "<div>\n",
       "<style scoped>\n",
       "    .dataframe tbody tr th:only-of-type {\n",
       "        vertical-align: middle;\n",
       "    }\n",
       "\n",
       "    .dataframe tbody tr th {\n",
       "        vertical-align: top;\n",
       "    }\n",
       "\n",
       "    .dataframe thead th {\n",
       "        text-align: right;\n",
       "    }\n",
       "</style>\n",
       "<table border=\"1\" class=\"dataframe\">\n",
       "  <thead>\n",
       "    <tr style=\"text-align: right;\">\n",
       "      <th></th>\n",
       "      <th>feature_importance</th>\n",
       "    </tr>\n",
       "    <tr>\n",
       "      <th>super_feat</th>\n",
       "      <th></th>\n",
       "    </tr>\n",
       "  </thead>\n",
       "  <tbody>\n",
       "    <tr>\n",
       "      <th>self</th>\n",
       "      <td>1.000000</td>\n",
       "    </tr>\n",
       "    <tr>\n",
       "      <th>LU3</th>\n",
       "      <td>0.511470</td>\n",
       "    </tr>\n",
       "    <tr>\n",
       "      <th>LC3</th>\n",
       "      <td>0.220944</td>\n",
       "    </tr>\n",
       "    <tr>\n",
       "      <th>LC1</th>\n",
       "      <td>0.136297</td>\n",
       "    </tr>\n",
       "    <tr>\n",
       "      <th>LC2</th>\n",
       "      <td>0.072095</td>\n",
       "    </tr>\n",
       "  </tbody>\n",
       "</table>\n",
       "</div>"
      ],
      "text/plain": [
       "            feature_importance\n",
       "super_feat                    \n",
       "self                  1.000000\n",
       "LU3                   0.511470\n",
       "LC3                   0.220944\n",
       "LC1                   0.136297\n",
       "LC2                   0.072095"
      ]
     },
     "execution_count": 32,
     "metadata": {},
     "output_type": "execute_result"
    }
   ],
   "source": [
    "df_feat.head()"
   ]
  },
  {
   "cell_type": "code",
   "execution_count": 33,
   "id": "37969359-2845-4529-8e51-57aacc4db93b",
   "metadata": {},
   "outputs": [
    {
     "data": {
      "text/plain": [
       "Text(0.5, 0, 'Space-deactivation Feature Importance')"
      ]
     },
     "execution_count": 33,
     "metadata": {},
     "output_type": "execute_result"
    },
    {
     "data": {
      "image/png": "[encoded data removed]",
      "text/plain": [
       "<Figure size 640x480 with 1 Axes>"
      ]
     },
     "metadata": {},
     "output_type": "display_data"
    }
   ],
   "source": [
    "plt.barh(df_feat.index.values[::-1][-15:], df_feat.feature_importance.values[::-1][-15:])\n",
    "# plt.xlabel(\"Random Forest Feature Importance\")\n",
    "plt.xlabel(\"Space-deactivation Feature Importance\")"
   ]
  },
  {
   "cell_type": "markdown",
   "id": "3c31c353-d857-4aed-ac9d-093a39dd459c",
   "metadata": {},
   "source": [
    "## Compare feature importance w.r.t neighboring tiles, surveys and classes"
   ]
  },
  {
   "cell_type": "code",
   "execution_count": 79,
   "id": "2bccedcc-70a3-402a-aff7-51e9b3d18975",
   "metadata": {},
   "outputs": [
    {
     "data": {
      "text/plain": [
       "Text(0.5, 0, 'XGBoost Feature Importance')"
      ]
     },
     "execution_count": 79,
     "metadata": {},
     "output_type": "execute_result"
    },
    {
     "data": {
      "image/png": "[encoded data removed]",
      "text/plain": [
       "<Figure size 640x480 with 1 Axes>"
      ]
     },
     "metadata": {},
     "output_type": "display_data"
    }
   ],
   "source": [
    "feature_imp.sort_values('feature_importance', inplace=True, ascending=False)\n",
    "plt.barh(feature_imp.feature.values[::-1][-15:], feature_imp.feature_importance.values[::-1][-15:])\n",
    "# plt.xlabel(\"Random Forest Feature Importance\")\n",
    "plt.xlabel(\"XGBoost Feature Importance\")"
   ]
  }
 ],
 "metadata": {
  "kernelspec": {
   "display_name": "Python [conda env:landstats] *",
   "language": "python",
   "name": "conda-env-landstats-py"
  },
  "language_info": {
   "codemirror_mode": {
    "name": "ipython",
    "version": 3
   },
   "file_extension": ".py",
   "mimetype": "text/x-python",
   "name": "python",
   "nbconvert_exporter": "python",
   "pygments_lexer": "ipython3",
   "version": "3.10.4"
  }
 },
 "nbformat": 4,
 "nbformat_minor": 5
}
