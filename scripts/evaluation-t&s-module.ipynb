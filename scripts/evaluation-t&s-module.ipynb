{
 "cells": [
  {
   "cell_type": "code",
   "execution_count": 30,
   "id": "1aa21903-a45f-44bb-860a-5fbc8ae22c05",
   "metadata": {},
   "outputs": [
    {
     "name": "stdout",
     "output_type": "stream",
     "text": [
      "Using cuda device\n"
     ]
    }
   ],
   "source": [
    "import os \n",
    "import math\n",
    "import torch\n",
    "import pickle\n",
    "import pandas as pd\n",
    "import numpy as np\n",
    "from tqdm import tqdm\n",
    "from torch import nn\n",
    "import matplotlib.pyplot as plt\n",
    "from sklearn.linear_model import LogisticRegression, LogisticRegressionCV\n",
    "from sklearn.model_selection import cross_val_predict\n",
    "from sklearn.model_selection import cross_val_score\n",
    "from sklearn.metrics import mean_squared_error, auc, roc_curve, balanced_accuracy_score\n",
    "import seaborn as sn\n",
    "%matplotlib inline\n",
    "\n",
    "import sys\n",
    "sys.path.append(\"..\")\n",
    "from metric.metric import metric\n",
    "\n",
    "data_folder = '../data/'\n",
    "np.random.seed(2022)\n",
    "\n",
    "device = \"cuda\" if torch.cuda.is_available() else \"cpu\"\n",
    "print(f\"Using {device} device\")"
   ]
  },
  {
   "cell_type": "markdown",
   "id": "2c685db3-2c50-4dce-813f-fa84bc83f10e",
   "metadata": {},
   "source": [
    "### 8-neighbors "
   ]
  },
  {
   "cell_type": "code",
   "execution_count": 31,
   "id": "318935c9-a2b2-46f1-a24f-f145dbf54f11",
   "metadata": {},
   "outputs": [],
   "source": [
    "columns = ['LU4', 'LC4', 'LU3', 'LC3', 'LU2', 'LC2', 'LU1', 'LC1', 'nbr1_LU3', 'nbr1_LC3', 'nbr1_LU2', 'nbr1_LC2', 'nbr1_LU1',\n",
    "           'nbr1_LC1', 'nbr2_LU3', 'nbr2_LC3', 'nbr2_LU2', 'nbr2_LC2', 'nbr2_LU1', 'nbr2_LC1', 'nbr3_LU3', 'nbr3_LC3',\n",
    "           'nbr3_LU2', 'nbr3_LC2', 'nbr3_LU1', 'nbr3_LC1', 'nbr4_LU3', 'nbr4_LC3', 'nbr4_LU2', 'nbr4_LC2', 'nbr4_LU1',\n",
    "           'nbr4_LC1', 'nbr5_LU3', 'nbr5_LC3', 'nbr5_LU2', 'nbr5_LC2', 'nbr5_LU1', 'nbr5_LC1', 'nbr6_LU3', 'nbr6_LC3',\n",
    "           'nbr6_LU2', 'nbr6_LC2', 'nbr6_LU1', 'nbr6_LC1', 'nbr7_LU3', 'nbr7_LC3', 'nbr7_LU2', 'nbr7_LC2', 'nbr7_LU1',\n",
    "           'nbr7_LC1', 'nbr8_LU3', 'nbr8_LC3', 'nbr8_LU2', 'nbr8_LC2', 'nbr8_LU1', 'nbr8_LC1']\n"
   ]
  },
  {
   "cell_type": "markdown",
   "id": "7c82688f-4721-4df4-936a-a4f095de316b",
   "metadata": {
    "tags": []
   },
   "source": [
    "### Data loading"
   ]
  },
  {
   "cell_type": "code",
   "execution_count": 32,
   "id": "0cc60e29-32a1-4b96-8f6c-bcf6f35b1d30",
   "metadata": {},
   "outputs": [
    {
     "data": {
      "text/html": [
       "<div>\n",
       "<style scoped>\n",
       "    .dataframe tbody tr th:only-of-type {\n",
       "        vertical-align: middle;\n",
       "    }\n",
       "\n",
       "    .dataframe tbody tr th {\n",
       "        vertical-align: top;\n",
       "    }\n",
       "\n",
       "    .dataframe thead th {\n",
       "        text-align: right;\n",
       "    }\n",
       "</style>\n",
       "<table border=\"1\" class=\"dataframe\">\n",
       "  <thead>\n",
       "    <tr style=\"text-align: right;\">\n",
       "      <th></th>\n",
       "      <th>LU4</th>\n",
       "      <th>LC4</th>\n",
       "      <th>LU3</th>\n",
       "      <th>LC3</th>\n",
       "      <th>LU2</th>\n",
       "      <th>LC2</th>\n",
       "      <th>LU1</th>\n",
       "      <th>LC1</th>\n",
       "      <th>nbr1_LU3</th>\n",
       "      <th>nbr1_LC3</th>\n",
       "      <th>...</th>\n",
       "      <th>nbr7_LU2</th>\n",
       "      <th>nbr7_LC2</th>\n",
       "      <th>nbr7_LU1</th>\n",
       "      <th>nbr7_LC1</th>\n",
       "      <th>nbr8_LU3</th>\n",
       "      <th>nbr8_LC3</th>\n",
       "      <th>nbr8_LU2</th>\n",
       "      <th>nbr8_LC2</th>\n",
       "      <th>nbr8_LU1</th>\n",
       "      <th>nbr8_LC1</th>\n",
       "    </tr>\n",
       "    <tr>\n",
       "      <th>RELI</th>\n",
       "      <th></th>\n",
       "      <th></th>\n",
       "      <th></th>\n",
       "      <th></th>\n",
       "      <th></th>\n",
       "      <th></th>\n",
       "      <th></th>\n",
       "      <th></th>\n",
       "      <th></th>\n",
       "      <th></th>\n",
       "      <th></th>\n",
       "      <th></th>\n",
       "      <th></th>\n",
       "      <th></th>\n",
       "      <th></th>\n",
       "      <th></th>\n",
       "      <th></th>\n",
       "      <th></th>\n",
       "      <th></th>\n",
       "      <th></th>\n",
       "      <th></th>\n",
       "    </tr>\n",
       "  </thead>\n",
       "  <tbody>\n",
       "    <tr>\n",
       "      <th>48561099</th>\n",
       "      <td>LU301</td>\n",
       "      <td>LC41</td>\n",
       "      <td>LU301</td>\n",
       "      <td>LC41</td>\n",
       "      <td>LU301</td>\n",
       "      <td>LC41</td>\n",
       "      <td>LU301</td>\n",
       "      <td>LC41</td>\n",
       "      <td>LU301</td>\n",
       "      <td>LC41</td>\n",
       "      <td>...</td>\n",
       "      <td>LU221</td>\n",
       "      <td>LC21</td>\n",
       "      <td>LU221</td>\n",
       "      <td>LC21</td>\n",
       "      <td>LU301</td>\n",
       "      <td>LC41</td>\n",
       "      <td>LU301</td>\n",
       "      <td>LC41</td>\n",
       "      <td>LU301</td>\n",
       "      <td>LC41</td>\n",
       "    </tr>\n",
       "    <tr>\n",
       "      <th>48611112</th>\n",
       "      <td>LU402</td>\n",
       "      <td>LC61</td>\n",
       "      <td>LU402</td>\n",
       "      <td>LC61</td>\n",
       "      <td>LU402</td>\n",
       "      <td>LC61</td>\n",
       "      <td>LU402</td>\n",
       "      <td>LC61</td>\n",
       "      <td>LU402</td>\n",
       "      <td>LC61</td>\n",
       "      <td>...</td>\n",
       "      <td>LU221</td>\n",
       "      <td>LC21</td>\n",
       "      <td>LU221</td>\n",
       "      <td>LC21</td>\n",
       "      <td>LU221</td>\n",
       "      <td>LC21</td>\n",
       "      <td>LU221</td>\n",
       "      <td>LC21</td>\n",
       "      <td>LU221</td>\n",
       "      <td>LC21</td>\n",
       "    </tr>\n",
       "    <tr>\n",
       "      <th>48621113</th>\n",
       "      <td>LU103</td>\n",
       "      <td>LC47</td>\n",
       "      <td>LU103</td>\n",
       "      <td>LC47</td>\n",
       "      <td>LU421</td>\n",
       "      <td>LC31</td>\n",
       "      <td>LU421</td>\n",
       "      <td>LC31</td>\n",
       "      <td>LU106</td>\n",
       "      <td>LC12</td>\n",
       "      <td>...</td>\n",
       "      <td>LU222</td>\n",
       "      <td>LC21</td>\n",
       "      <td>LU222</td>\n",
       "      <td>LC21</td>\n",
       "      <td>LU402</td>\n",
       "      <td>LC61</td>\n",
       "      <td>LU402</td>\n",
       "      <td>LC61</td>\n",
       "      <td>LU402</td>\n",
       "      <td>LC61</td>\n",
       "    </tr>\n",
       "    <tr>\n",
       "      <th>48621114</th>\n",
       "      <td>LU106</td>\n",
       "      <td>LC12</td>\n",
       "      <td>LU106</td>\n",
       "      <td>LC12</td>\n",
       "      <td>LU106</td>\n",
       "      <td>LC12</td>\n",
       "      <td>LU106</td>\n",
       "      <td>LC12</td>\n",
       "      <td>LU142</td>\n",
       "      <td>LC15</td>\n",
       "      <td>...</td>\n",
       "      <td>LU222</td>\n",
       "      <td>LC21</td>\n",
       "      <td>LU222</td>\n",
       "      <td>LC21</td>\n",
       "      <td>LU402</td>\n",
       "      <td>LC61</td>\n",
       "      <td>LU402</td>\n",
       "      <td>LC61</td>\n",
       "      <td>LU402</td>\n",
       "      <td>LC61</td>\n",
       "    </tr>\n",
       "    <tr>\n",
       "      <th>48621115</th>\n",
       "      <td>LU142</td>\n",
       "      <td>LC11</td>\n",
       "      <td>LU142</td>\n",
       "      <td>LC15</td>\n",
       "      <td>LU142</td>\n",
       "      <td>LC15</td>\n",
       "      <td>LU142</td>\n",
       "      <td>LC15</td>\n",
       "      <td>LU402</td>\n",
       "      <td>LC61</td>\n",
       "      <td>...</td>\n",
       "      <td>LU222</td>\n",
       "      <td>LC21</td>\n",
       "      <td>LU222</td>\n",
       "      <td>LC21</td>\n",
       "      <td>LU402</td>\n",
       "      <td>LC61</td>\n",
       "      <td>LU402</td>\n",
       "      <td>LC61</td>\n",
       "      <td>LU402</td>\n",
       "      <td>LC61</td>\n",
       "    </tr>\n",
       "  </tbody>\n",
       "</table>\n",
       "<p>5 rows × 56 columns</p>\n",
       "</div>"
      ],
      "text/plain": [
       "            LU4   LC4    LU3   LC3    LU2   LC2    LU1   LC1 nbr1_LU3  \\\n",
       "RELI                                                                    \n",
       "48561099  LU301  LC41  LU301  LC41  LU301  LC41  LU301  LC41    LU301   \n",
       "48611112  LU402  LC61  LU402  LC61  LU402  LC61  LU402  LC61    LU402   \n",
       "48621113  LU103  LC47  LU103  LC47  LU421  LC31  LU421  LC31    LU106   \n",
       "48621114  LU106  LC12  LU106  LC12  LU106  LC12  LU106  LC12    LU142   \n",
       "48621115  LU142  LC11  LU142  LC15  LU142  LC15  LU142  LC15    LU402   \n",
       "\n",
       "         nbr1_LC3  ... nbr7_LU2 nbr7_LC2 nbr7_LU1 nbr7_LC1 nbr8_LU3 nbr8_LC3  \\\n",
       "RELI               ...                                                         \n",
       "48561099     LC41  ...    LU221     LC21    LU221     LC21    LU301     LC41   \n",
       "48611112     LC61  ...    LU221     LC21    LU221     LC21    LU221     LC21   \n",
       "48621113     LC12  ...    LU222     LC21    LU222     LC21    LU402     LC61   \n",
       "48621114     LC15  ...    LU222     LC21    LU222     LC21    LU402     LC61   \n",
       "48621115     LC61  ...    LU222     LC21    LU222     LC21    LU402     LC61   \n",
       "\n",
       "         nbr8_LU2 nbr8_LC2 nbr8_LU1 nbr8_LC1  \n",
       "RELI                                          \n",
       "48561099    LU301     LC41    LU301     LC41  \n",
       "48611112    LU221     LC21    LU221     LC21  \n",
       "48621113    LU402     LC61    LU402     LC61  \n",
       "48621114    LU402     LC61    LU402     LC61  \n",
       "48621115    LU402     LC61    LU402     LC61  \n",
       "\n",
       "[5 rows x 56 columns]"
      ]
     },
     "execution_count": 32,
     "metadata": {},
     "output_type": "execute_result"
    }
   ],
   "source": [
    "original_data = pd.read_csv(os.path.join(data_folder, 'trainset_with_neighbour.csv'), index_col=0)\n",
    "original_data = original_data[columns]\n",
    "original_data.head()"
   ]
  },
  {
   "cell_type": "code",
   "execution_count": 5,
   "id": "3a6130e9-7a42-46ae-8b3c-a03a72a1f4e7",
   "metadata": {},
   "outputs": [
    {
     "name": "stdout",
     "output_type": "stream",
     "text": [
      "The length of the data with all rows is : 348474\n",
      "The length of the data without the rows with nan value is: 348474\n"
     ]
    }
   ],
   "source": [
    "print('The length of the data with all rows is : {}'.format(len(original_data)))\n",
    "original_data.dropna(inplace=True)\n",
    "print('The length of the data without the rows with nan value is: {}'.format(len(original_data)))"
   ]
  },
  {
   "cell_type": "code",
   "execution_count": 6,
   "id": "66ad79a3-ad39-477d-ab3f-3abfb946c037",
   "metadata": {},
   "outputs": [
    {
     "data": {
      "text/html": [
       "<div>\n",
       "<style scoped>\n",
       "    .dataframe tbody tr th:only-of-type {\n",
       "        vertical-align: middle;\n",
       "    }\n",
       "\n",
       "    .dataframe tbody tr th {\n",
       "        vertical-align: top;\n",
       "    }\n",
       "\n",
       "    .dataframe thead th {\n",
       "        text-align: right;\n",
       "    }\n",
       "</style>\n",
       "<table border=\"1\" class=\"dataframe\">\n",
       "  <thead>\n",
       "    <tr style=\"text-align: right;\">\n",
       "      <th></th>\n",
       "      <th>LU3</th>\n",
       "      <th>LC3</th>\n",
       "      <th>LU2</th>\n",
       "      <th>LC2</th>\n",
       "      <th>LU1</th>\n",
       "      <th>LC1</th>\n",
       "      <th>nbr1_LU3</th>\n",
       "      <th>nbr1_LC3</th>\n",
       "      <th>nbr1_LU2</th>\n",
       "      <th>nbr1_LC2</th>\n",
       "      <th>...</th>\n",
       "      <th>nbr7_LC2</th>\n",
       "      <th>nbr7_LU1</th>\n",
       "      <th>nbr7_LC1</th>\n",
       "      <th>nbr8_LU3</th>\n",
       "      <th>nbr8_LC3</th>\n",
       "      <th>nbr8_LU2</th>\n",
       "      <th>nbr8_LC2</th>\n",
       "      <th>nbr8_LU1</th>\n",
       "      <th>nbr8_LC1</th>\n",
       "      <th>changed</th>\n",
       "    </tr>\n",
       "    <tr>\n",
       "      <th>RELI</th>\n",
       "      <th></th>\n",
       "      <th></th>\n",
       "      <th></th>\n",
       "      <th></th>\n",
       "      <th></th>\n",
       "      <th></th>\n",
       "      <th></th>\n",
       "      <th></th>\n",
       "      <th></th>\n",
       "      <th></th>\n",
       "      <th></th>\n",
       "      <th></th>\n",
       "      <th></th>\n",
       "      <th></th>\n",
       "      <th></th>\n",
       "      <th></th>\n",
       "      <th></th>\n",
       "      <th></th>\n",
       "      <th></th>\n",
       "      <th></th>\n",
       "      <th></th>\n",
       "    </tr>\n",
       "  </thead>\n",
       "  <tbody>\n",
       "    <tr>\n",
       "      <th>48561099</th>\n",
       "      <td>LU301</td>\n",
       "      <td>LC41</td>\n",
       "      <td>LU301</td>\n",
       "      <td>LC41</td>\n",
       "      <td>LU301</td>\n",
       "      <td>LC41</td>\n",
       "      <td>LU301</td>\n",
       "      <td>LC41</td>\n",
       "      <td>LU301</td>\n",
       "      <td>LC41</td>\n",
       "      <td>...</td>\n",
       "      <td>LC21</td>\n",
       "      <td>LU221</td>\n",
       "      <td>LC21</td>\n",
       "      <td>LU301</td>\n",
       "      <td>LC41</td>\n",
       "      <td>LU301</td>\n",
       "      <td>LC41</td>\n",
       "      <td>LU301</td>\n",
       "      <td>LC41</td>\n",
       "      <td>0</td>\n",
       "    </tr>\n",
       "    <tr>\n",
       "      <th>48611112</th>\n",
       "      <td>LU402</td>\n",
       "      <td>LC61</td>\n",
       "      <td>LU402</td>\n",
       "      <td>LC61</td>\n",
       "      <td>LU402</td>\n",
       "      <td>LC61</td>\n",
       "      <td>LU402</td>\n",
       "      <td>LC61</td>\n",
       "      <td>LU402</td>\n",
       "      <td>LC61</td>\n",
       "      <td>...</td>\n",
       "      <td>LC21</td>\n",
       "      <td>LU221</td>\n",
       "      <td>LC21</td>\n",
       "      <td>LU221</td>\n",
       "      <td>LC21</td>\n",
       "      <td>LU221</td>\n",
       "      <td>LC21</td>\n",
       "      <td>LU221</td>\n",
       "      <td>LC21</td>\n",
       "      <td>0</td>\n",
       "    </tr>\n",
       "    <tr>\n",
       "      <th>48621113</th>\n",
       "      <td>LU103</td>\n",
       "      <td>LC47</td>\n",
       "      <td>LU421</td>\n",
       "      <td>LC31</td>\n",
       "      <td>LU421</td>\n",
       "      <td>LC31</td>\n",
       "      <td>LU106</td>\n",
       "      <td>LC12</td>\n",
       "      <td>LU106</td>\n",
       "      <td>LC12</td>\n",
       "      <td>...</td>\n",
       "      <td>LC21</td>\n",
       "      <td>LU222</td>\n",
       "      <td>LC21</td>\n",
       "      <td>LU402</td>\n",
       "      <td>LC61</td>\n",
       "      <td>LU402</td>\n",
       "      <td>LC61</td>\n",
       "      <td>LU402</td>\n",
       "      <td>LC61</td>\n",
       "      <td>0</td>\n",
       "    </tr>\n",
       "    <tr>\n",
       "      <th>48621114</th>\n",
       "      <td>LU106</td>\n",
       "      <td>LC12</td>\n",
       "      <td>LU106</td>\n",
       "      <td>LC12</td>\n",
       "      <td>LU106</td>\n",
       "      <td>LC12</td>\n",
       "      <td>LU142</td>\n",
       "      <td>LC15</td>\n",
       "      <td>LU142</td>\n",
       "      <td>LC15</td>\n",
       "      <td>...</td>\n",
       "      <td>LC21</td>\n",
       "      <td>LU222</td>\n",
       "      <td>LC21</td>\n",
       "      <td>LU402</td>\n",
       "      <td>LC61</td>\n",
       "      <td>LU402</td>\n",
       "      <td>LC61</td>\n",
       "      <td>LU402</td>\n",
       "      <td>LC61</td>\n",
       "      <td>0</td>\n",
       "    </tr>\n",
       "    <tr>\n",
       "      <th>48621115</th>\n",
       "      <td>LU142</td>\n",
       "      <td>LC15</td>\n",
       "      <td>LU142</td>\n",
       "      <td>LC15</td>\n",
       "      <td>LU142</td>\n",
       "      <td>LC15</td>\n",
       "      <td>LU402</td>\n",
       "      <td>LC61</td>\n",
       "      <td>LU402</td>\n",
       "      <td>LC61</td>\n",
       "      <td>...</td>\n",
       "      <td>LC21</td>\n",
       "      <td>LU222</td>\n",
       "      <td>LC21</td>\n",
       "      <td>LU402</td>\n",
       "      <td>LC61</td>\n",
       "      <td>LU402</td>\n",
       "      <td>LC61</td>\n",
       "      <td>LU402</td>\n",
       "      <td>LC61</td>\n",
       "      <td>1</td>\n",
       "    </tr>\n",
       "  </tbody>\n",
       "</table>\n",
       "<p>5 rows × 55 columns</p>\n",
       "</div>"
      ],
      "text/plain": [
       "            LU3   LC3    LU2   LC2    LU1   LC1 nbr1_LU3 nbr1_LC3 nbr1_LU2  \\\n",
       "RELI                                                                         \n",
       "48561099  LU301  LC41  LU301  LC41  LU301  LC41    LU301     LC41    LU301   \n",
       "48611112  LU402  LC61  LU402  LC61  LU402  LC61    LU402     LC61    LU402   \n",
       "48621113  LU103  LC47  LU421  LC31  LU421  LC31    LU106     LC12    LU106   \n",
       "48621114  LU106  LC12  LU106  LC12  LU106  LC12    LU142     LC15    LU142   \n",
       "48621115  LU142  LC15  LU142  LC15  LU142  LC15    LU402     LC61    LU402   \n",
       "\n",
       "         nbr1_LC2  ... nbr7_LC2 nbr7_LU1 nbr7_LC1 nbr8_LU3 nbr8_LC3 nbr8_LU2  \\\n",
       "RELI               ...                                                         \n",
       "48561099     LC41  ...     LC21    LU221     LC21    LU301     LC41    LU301   \n",
       "48611112     LC61  ...     LC21    LU221     LC21    LU221     LC21    LU221   \n",
       "48621113     LC12  ...     LC21    LU222     LC21    LU402     LC61    LU402   \n",
       "48621114     LC15  ...     LC21    LU222     LC21    LU402     LC61    LU402   \n",
       "48621115     LC61  ...     LC21    LU222     LC21    LU402     LC61    LU402   \n",
       "\n",
       "         nbr8_LC2 nbr8_LU1 nbr8_LC1 changed  \n",
       "RELI                                         \n",
       "48561099     LC41    LU301     LC41       0  \n",
       "48611112     LC21    LU221     LC21       0  \n",
       "48621113     LC61    LU402     LC61       0  \n",
       "48621114     LC61    LU402     LC61       0  \n",
       "48621115     LC61    LU402     LC61       1  \n",
       "\n",
       "[5 rows x 55 columns]"
      ]
     },
     "execution_count": 6,
     "metadata": {},
     "output_type": "execute_result"
    }
   ],
   "source": [
    "data_features = original_data.copy()\n",
    "data_features['changed'] = [0 if row['LU4'] == row['LU3'] and row['LC4'] == row['LC3'] else 1 for ind, row in data_features[['LU4', 'LC4', 'LU3', 'LC3']].iterrows()]\n",
    "data_features.drop(['LC4', 'LU4'], axis=1, inplace=True)\n",
    "data_features.head()"
   ]
  },
  {
   "cell_type": "code",
   "execution_count": 7,
   "id": "93598f62-9499-4706-8581-697f9a29c070",
   "metadata": {},
   "outputs": [
    {
     "name": "stdout",
     "output_type": "stream",
     "text": [
      "Total number of tiles that changed label in either Land Cover or Land Usage: 58737\n"
     ]
    }
   ],
   "source": [
    "print('Total number of tiles that changed label in either Land Cover or Land Usage: %d' % sum(data_features.changed))"
   ]
  },
  {
   "cell_type": "code",
   "execution_count": 8,
   "id": "47b34205-1ea3-47a0-b348-aa6c58b1d75a",
   "metadata": {},
   "outputs": [],
   "source": [
    "def split_set(data_to_split, ratio=0.8):\n",
    "    mask = np.random.rand(len(data_to_split)) < ratio\n",
    "    return [data_to_split[mask], data_to_split[~mask], mask]"
   ]
  },
  {
   "cell_type": "code",
   "execution_count": 9,
   "id": "ea1fd040-53fe-4e74-80db-14685b5ee093",
   "metadata": {},
   "outputs": [
    {
     "name": "stdout",
     "output_type": "stream",
     "text": [
      "Length of the train dataset : 222545\n",
      "Length of the validation dataset : 55653\n",
      "Length of the test dataset : 70276\n"
     ]
    }
   ],
   "source": [
    "train, test, mask = split_set(data_features)\n",
    "train, val, _ = split_set(train)\n",
    "\n",
    "# one-hot encoder to make categorical features as columns with 0-1\n",
    "# Make sure we use only the features available in the training set\n",
    "train_categorical = pd.get_dummies(train)\n",
    "val_categorical = pd.get_dummies(val)[train_categorical.columns]\n",
    "test_categorical = pd.get_dummies(test)[train_categorical.columns]\n",
    "\n",
    "train_label = train_categorical.changed\n",
    "train_features = train_categorical.drop('changed', axis=1)\n",
    "print('Length of the train dataset : {}'.format(len(train_label)))\n",
    "\n",
    "val_label = val_categorical.changed\n",
    "val_features = val_categorical.drop('changed', axis=1)\n",
    "print('Length of the validation dataset : {}'.format(len(val_label)))\n",
    "\n",
    "test_label=test_categorical.changed\n",
    "test_features = test_categorical.drop('changed', axis=1)\n",
    "print('Length of the test dataset : {}'.format(len(test_label)))"
   ]
  },
  {
   "cell_type": "markdown",
   "id": "fc63e24f-0090-4091-96b8-98c46dfd8efd",
   "metadata": {},
   "source": [
    "# Evaluation"
   ]
  },
  {
   "cell_type": "markdown",
   "id": "3a108a99-798c-4dbf-a3f0-938325b9b28e",
   "metadata": {},
   "source": [
    "## Logistic regression"
   ]
  },
  {
   "cell_type": "code",
   "execution_count": 36,
   "id": "4eee43a5-f8f8-40e8-9f86-5b8656864ee5",
   "metadata": {
    "tags": []
   },
   "outputs": [],
   "source": [
    "def compute_confusion_matrix(true_label, prediction_proba, decision_threshold=0.5): \n",
    "    \n",
    "    predict_label = (prediction_proba[:,1]>decision_threshold).astype(int)   \n",
    "    \n",
    "    TP = np.sum(np.logical_and(predict_label==1, true_label==1))\n",
    "    TN = np.sum(np.logical_and(predict_label==0, true_label==0))\n",
    "    FP = np.sum(np.logical_and(predict_label==1, true_label==0))\n",
    "    FN = np.sum(np.logical_and(predict_label==0, true_label==1))\n",
    "    \n",
    "    confusion_matrix = np.asarray([[TP, FP],\n",
    "                                    [FN, TN]])\n",
    "    return confusion_matrix\n",
    "\n",
    "\n",
    "def plot_confusion_matrix(confusion_matrix, thred, axs):\n",
    "    [[TP, FP],[FN, TN]] = confusion_matrix\n",
    "    label = np.asarray([['TP {}'.format(TP), 'FP {}'.format(FP)],\n",
    "                        ['FN {}'.format(FN), 'TN {}'.format(TN)]])\n",
    "    \n",
    "    df_cm = pd.DataFrame(confusion_matrix, index=['Yes', 'No'], columns=['Positive', 'Negative']) \n",
    "    \n",
    "    sn.heatmap(df_cm, cmap='YlOrRd', annot=label, annot_kws={\"size\": 16}, cbar=False, fmt='',ax=axs)\n",
    "    axs.set_xlabel('Actual')\n",
    "    axs.set_ylabel('Predicted')\n",
    "    axs.set_title('Confusion matrix for a {} threshold'.format(thred))\n",
    "    \n",
    "\n",
    "\n",
    "def compute_all_score(confusion_matrix, t=0.5):\n",
    "    \n",
    "    [[TP, FP],[FN, TN]] = confusion_matrix.astype(float)\n",
    "    \n",
    "    precision_positive = TP/(TP+FP) if (TP+FP) !=0 else np.nan\n",
    "    precision_negative = TN/(TN+FN) if (TN+FN) !=0 else np.nan\n",
    "    \n",
    "    recall_positive = TP/(TP+FN) if (TP+FN) !=0 else np.nan\n",
    "    recall_negative = TN/(TN+FP) if (TN+FP) !=0 else np.nan\n",
    "\n",
    "    F1_score_positive = 2 *(precision_positive*recall_positive)/(precision_positive+recall_positive) if (precision_positive+recall_positive) !=0 else np.nan\n",
    "    F1_score_negative = 2 *(precision_negative*recall_negative)/(precision_negative+recall_negative) if (precision_negative+recall_negative) !=0 else np.nan\n",
    "    \n",
    "    accuracy =  (TP+TN)/np.sum(confusion_matrix)\n",
    "    balanced_acc = (recall_negative + recall_positive) / 2\n",
    "\n",
    "    return [t, accuracy, balanced_acc, precision_positive, recall_positive, F1_score_positive, precision_negative, recall_negative, F1_score_negative]"
   ]
  },
  {
   "cell_type": "code",
   "execution_count": 33,
   "id": "cc75526d-fa2e-4aab-921e-979979bb1841",
   "metadata": {},
   "outputs": [],
   "source": [
    "# Load model weights if already trained \n",
    "# pkl_filename = \"./temp_results/logistic_regression_baseline.pkl\"\n",
    "pkl_filename = \"./temp_results/logistic_regression_macro.pkl\"\n",
    "with open(pkl_filename, 'rb') as file:\n",
    "    logistic = pickle.load(file)"
   ]
  },
  {
   "cell_type": "code",
   "execution_count": 34,
   "id": "7666a1c6-cf68-4f51-b26d-0d6ebc29a7a1",
   "metadata": {},
   "outputs": [],
   "source": [
    "prediction_proba = logistic.predict_proba(test_features)"
   ]
  },
  {
   "cell_type": "code",
   "execution_count": 37,
   "id": "9421b356-e5ff-4946-996d-148e31dd940b",
   "metadata": {},
   "outputs": [],
   "source": [
    "mat_test = compute_confusion_matrix(test_label, prediction_proba)"
   ]
  },
  {
   "cell_type": "code",
   "execution_count": 38,
   "id": "98062bb2-7264-434d-b79b-a8191f76f63e",
   "metadata": {},
   "outputs": [
    {
     "data": {
      "image/png": "[encoded data removed]",
      "text/plain": [
       "<Figure size 640x480 with 1 Axes>"
      ]
     },
     "metadata": {},
     "output_type": "display_data"
    }
   ],
   "source": [
    "axs = plt.subplot(111)\n",
    "plot_confusion_matrix(mat_test, thred=0.5, axs=axs)"
   ]
  },
  {
   "cell_type": "code",
   "execution_count": 39,
   "id": "636379e5-98f4-4355-bb26-d008334f59c5",
   "metadata": {},
   "outputs": [],
   "source": [
    "# build df_change for constant model\n",
    "df_change = pd.DataFrame(test_label)\n",
    "df_change['proba_change'] = np.zeros_like(prediction_proba[:,1])\n",
    "df_change.reset_index(inplace=True)"
   ]
  },
  {
   "cell_type": "code",
   "execution_count": 40,
   "id": "d90ed353-c360-4c6e-9235-58c3780effb6",
   "metadata": {},
   "outputs": [],
   "source": [
    "# build df_change for ML model\n",
    "df_change = pd.DataFrame(test_label)\n",
    "df_change['proba_change'] = prediction_proba[:,1]\n",
    "df_change.reset_index(inplace=True)"
   ]
  },
  {
   "cell_type": "code",
   "execution_count": 41,
   "id": "7b588af3-9902-4ebd-82d6-38b0403131a6",
   "metadata": {},
   "outputs": [
    {
     "name": "stdout",
     "output_type": "stream",
     "text": [
      "Length of filtered data: 47482\n",
      "balanced accuracy: 0.685\n",
      "recall: 0.965\n",
      "true negative rate: 0.405\n",
      "missed changes: 269\n",
      "missed changes w.r.t total changes: 0.035\n",
      "missed weighted change: 10843\n",
      "missed weighted changes w.r.t total weighted changes: 0.020\n",
      "automatized points: 16410\n",
      "automatized capacity: 0.412\n",
      "raw metric: 0.266\n",
      "weighted metric: 0.329\n"
     ]
    },
    {
     "data": {
      "text/plain": [
       "[0.5,\n",
       " 0.6847139011131885,\n",
       " 0.9646378335743394,\n",
       " 0.4047899686520376,\n",
       " 269,\n",
       " 0.03536216642566058,\n",
       " 10843.0,\n",
       " 0.019988754827589387,\n",
       " 16410,\n",
       " 0.41153605015673983,\n",
       " 0.26600798719872354,\n",
       " 0.3292751180637638]"
      ]
     },
     "execution_count": 41,
     "metadata": {},
     "output_type": "execute_result"
    }
   ],
   "source": [
    "pred_lc = pd.read_csv(os.path.join(data_folder, 'predictions_lc_area4.csv'), index_col=0)\n",
    "pred_lc.rename(columns={\"prediction\": \"prediction_lc\", \"confidence\": \"confidence_lc\"}, inplace=True)\n",
    "pred_lu = pd.read_csv(os.path.join(data_folder, 'predictions_lu_area4.csv'), index_col=0)\n",
    "pred_lu.rename(columns={\"prediction\": \"prediction_lu\", \"confidence\": \"confidence_lu\"}, inplace=True)\n",
    "metric(mode='multi', PROBABILITY_THRESHOLD=0.5, change_pred=df_change, lc_pred=pred_lc.reset_index(), lu_pred=pred_lu.reset_index())"
   ]
  },
  {
   "cell_type": "code",
   "execution_count": 42,
   "id": "95b9e02b-e1a6-4464-879c-9413e15cd52b",
   "metadata": {},
   "outputs": [
    {
     "name": "stdout",
     "output_type": "stream",
     "text": [
      "Length of filtered data: 47491\n",
      "balanced accuracy: 0.655\n",
      "recall: 0.954\n",
      "true negative rate: 0.355\n",
      "missed changes: 349\n",
      "missed changes w.r.t total changes: 0.046\n",
      "missed weighted change: 18995\n",
      "missed weighted changes w.r.t total weighted changes: 0.035\n",
      "automatized points: 14516\n",
      "automatized capacity: 0.364\n",
      "raw metric: 0.197\n",
      "weighted metric: 0.237\n"
     ]
    },
    {
     "data": {
      "text/plain": [
       "[0.22,\n",
       " 0.6546631494644579,\n",
       " 0.9541212041540686,\n",
       " 0.3552050947748471,\n",
       " 349,\n",
       " 0.04587879584593138,\n",
       " 18995.0,\n",
       " 0.0350167294982994,\n",
       " 14516,\n",
       " 0.36395547086551,\n",
       " 0.1969770834170244,\n",
       " 0.23651016813827253]"
      ]
     },
     "execution_count": 42,
     "metadata": {},
     "output_type": "execute_result"
    }
   ],
   "source": [
    "# Metric mode 'binary' uses only change probability as input together \n",
    "metric(mode='binary', PROBABILITY_THRESHOLD=0.22, change_pred=df_change)"
   ]
  },
  {
   "cell_type": "code",
   "execution_count": 44,
   "id": "3e7616e7-ce08-440b-abc5-2aa6ca65a085",
   "metadata": {},
   "outputs": [],
   "source": [
    "threshold = np.linspace(0, 1, 101)\n",
    "columns_score_name = ['Threshold', 'balanced_acc', 'true_pos_rate', 'true_neg_rate', 'miss_changes', 'miss_changed_ratio', 'miss_weighted_changes', 'miss_weighted_changed_ratio', \n",
    "            'automatized_points', 'automatized_capacity', 'raw_metric', 'weighted_metric']\n",
    "threshold_score = pd.concat([pd.DataFrame([metric(mode='binary', PROBABILITY_THRESHOLD=t, change_pred=df_change, print_log=False)], columns=columns_score_name) for t in threshold],\n",
    "                            ignore_index=True)\n",
    "threshold_score.set_index('Threshold', inplace=True)"
   ]
  },
  {
   "cell_type": "code",
   "execution_count": 45,
   "id": "d51a95fe-9902-4680-859b-b798e19a9f86",
   "metadata": {},
   "outputs": [
    {
     "data": {
      "text/plain": [
       "Text(0.5, 1.0, 'weighted_metric')"
      ]
     },
     "execution_count": 45,
     "metadata": {},
     "output_type": "execute_result"
    },
    {
     "data": {
      "image/png": "[encoded data removed]",
      "text/plain": [
       "<Figure size 640x480 with 1 Axes>"
      ]
     },
     "metadata": {},
     "output_type": "display_data"
    }
   ],
   "source": [
    "threshold_score['weighted_metric'].plot(grid=True, ylim=[0,1]).set_title('weighted_metric')"
   ]
  },
  {
   "cell_type": "code",
   "execution_count": 46,
   "id": "5e5c55f1-dd7d-4ba6-8cdf-5d434822fb3b",
   "metadata": {},
   "outputs": [
    {
     "data": {
      "text/plain": [
       "balanced_acc                       0.647662\n",
       "true_pos_rate                      0.958722\n",
       "true_neg_rate                      0.336601\n",
       "miss_changes                     314.000000\n",
       "miss_changed_ratio                 0.041278\n",
       "miss_weighted_changes          16813.000000\n",
       "miss_weighted_changed_ratio        0.030994\n",
       "automatized_points             13739.000000\n",
       "automatized_capacity               0.344474\n",
       "raw_metric                         0.202283\n",
       "weighted_metric                    0.237707\n",
       "Name: 0.21, dtype: float64"
      ]
     },
     "execution_count": 46,
     "metadata": {},
     "output_type": "execute_result"
    }
   ],
   "source": [
    "threshold_score.iloc[threshold_score['weighted_metric'].argmax()]"
   ]
  },
  {
   "cell_type": "code",
   "execution_count": 47,
   "id": "42404eb5-0ebb-43c7-83a6-1ab6950ff421",
   "metadata": {},
   "outputs": [
    {
     "data": {
      "text/plain": [
       "0.21"
      ]
     },
     "execution_count": 47,
     "metadata": {},
     "output_type": "execute_result"
    }
   ],
   "source": [
    "thred = threshold_score.iloc[threshold_score['weighted_metric'].argmax()].name\n",
    "thred"
   ]
  },
  {
   "cell_type": "code",
   "execution_count": 53,
   "id": "b1b1b570-cb40-4398-9ff2-951f2a4a90fe",
   "metadata": {},
   "outputs": [
    {
     "data": {
      "image/png": "[encoded data removed]",
      "text/plain": [
       "<Figure size 1000x500 with 6 Axes>"
      ]
     },
     "metadata": {},
     "output_type": "display_data"
    }
   ],
   "source": [
    "fig, axs = plt.subplots(nrows=2, ncols=3, sharex=True, sharey=True, figsize=(10,5))\n",
    "\n",
    "col_plot = ['miss_changes', 'miss_weighted_changes', 'automatized_points',\n",
    "            'miss_changed_ratio','miss_weighted_changed_ratio',  'automatized_capacity']\n",
    "\n",
    "major_ticks = np.linspace(0,1,5)\n",
    "\n",
    "for axe, col in zip(axs.flat, col_plot):\n",
    "    threshold_score[col].plot(ax=axe, grid = True)\n",
    "    axe.set_title(col)\n",
    "    axe.set_xticks(major_ticks)    \n",
    "    axe.grid(which='major', alpha=0.5)"
   ]
  },
  {
   "cell_type": "markdown",
   "id": "08152bf1-eb32-4582-8a87-d87b8ce96169",
   "metadata": {},
   "source": [
    "## Extract features"
   ]
  },
  {
   "cell_type": "code",
   "execution_count": 40,
   "id": "67d85e01-5df8-4099-a009-148931cc7577",
   "metadata": {},
   "outputs": [
    {
     "data": {
      "text/html": [
       "<div>\n",
       "<style scoped>\n",
       "    .dataframe tbody tr th:only-of-type {\n",
       "        vertical-align: middle;\n",
       "    }\n",
       "\n",
       "    .dataframe tbody tr th {\n",
       "        vertical-align: top;\n",
       "    }\n",
       "\n",
       "    .dataframe thead th {\n",
       "        text-align: right;\n",
       "    }\n",
       "</style>\n",
       "<table border=\"1\" class=\"dataframe\">\n",
       "  <thead>\n",
       "    <tr style=\"text-align: right;\">\n",
       "      <th></th>\n",
       "      <th>p_unchage</th>\n",
       "      <th>p_change</th>\n",
       "      <th>changed</th>\n",
       "      <th>LC3</th>\n",
       "      <th>LU3</th>\n",
       "    </tr>\n",
       "    <tr>\n",
       "      <th>RELI</th>\n",
       "      <th></th>\n",
       "      <th></th>\n",
       "      <th></th>\n",
       "      <th></th>\n",
       "      <th></th>\n",
       "    </tr>\n",
       "  </thead>\n",
       "  <tbody>\n",
       "    <tr>\n",
       "      <th>48561099</th>\n",
       "      <td>0.319364</td>\n",
       "      <td>0.680636</td>\n",
       "      <td>0</td>\n",
       "      <td>LC41</td>\n",
       "      <td>LU301</td>\n",
       "    </tr>\n",
       "    <tr>\n",
       "      <th>48611112</th>\n",
       "      <td>0.847969</td>\n",
       "      <td>0.152031</td>\n",
       "      <td>0</td>\n",
       "      <td>LC61</td>\n",
       "      <td>LU402</td>\n",
       "    </tr>\n",
       "    <tr>\n",
       "      <th>48621113</th>\n",
       "      <td>0.356399</td>\n",
       "      <td>0.643601</td>\n",
       "      <td>0</td>\n",
       "      <td>LC47</td>\n",
       "      <td>LU103</td>\n",
       "    </tr>\n",
       "    <tr>\n",
       "      <th>48621114</th>\n",
       "      <td>0.876144</td>\n",
       "      <td>0.123856</td>\n",
       "      <td>0</td>\n",
       "      <td>LC12</td>\n",
       "      <td>LU106</td>\n",
       "    </tr>\n",
       "    <tr>\n",
       "      <th>48621115</th>\n",
       "      <td>0.339232</td>\n",
       "      <td>0.660768</td>\n",
       "      <td>1</td>\n",
       "      <td>LC15</td>\n",
       "      <td>LU142</td>\n",
       "    </tr>\n",
       "  </tbody>\n",
       "</table>\n",
       "</div>"
      ],
      "text/plain": [
       "          p_unchage  p_change  changed   LC3    LU3\n",
       "RELI                                               \n",
       "48561099   0.319364  0.680636        0  LC41  LU301\n",
       "48611112   0.847969  0.152031        0  LC61  LU402\n",
       "48621113   0.356399  0.643601        0  LC47  LU103\n",
       "48621114   0.876144  0.123856        0  LC12  LU106\n",
       "48621115   0.339232  0.660768        1  LC15  LU142"
      ]
     },
     "execution_count": 40,
     "metadata": {},
     "output_type": "execute_result"
    }
   ],
   "source": [
    "train_proba = logistic.predict_proba(train_features)\n",
    "train_proba_df = pd.DataFrame(train_proba, index=train.index, columns=['p_unchage', 'p_change'])\n",
    "train_proba_df = pd.concat([train_proba_df, train_label], axis=1)\n",
    "test_proba_df = pd.DataFrame(prediction_proba, index=test.index, columns=['p_unchage', 'p_change'])\n",
    "test_proba_df = pd.concat([test_proba_df, test_label], axis=1)\n",
    "logreg_proba = pd.concat([train_proba_df, test_proba_df], axis=0)\n",
    "logreg_proba.sort_index(inplace=True)\n",
    "logreg_proba = logreg_proba.merge(data_features[['LC3', 'LU3']], on='RELI')\n",
    "logreg_proba.head()"
   ]
  },
  {
   "cell_type": "code",
   "execution_count": 41,
   "id": "732d68d6-9bd4-4647-81e6-8ca8520910a9",
   "metadata": {},
   "outputs": [],
   "source": [
    "with open('./temp_results/temporal_spatial_proba_lr.pkl', 'wb') as file:\n",
    "    pickle.dump(logreg_proba, file)"
   ]
  },
  {
   "cell_type": "markdown",
   "id": "fbdb6e0a-5a1a-46bf-b0cd-1a3b4803f230",
   "metadata": {},
   "source": [
    "# Pytorch model"
   ]
  },
  {
   "cell_type": "code",
   "execution_count": 20,
   "id": "0ab98d28-9e43-4431-b3d2-63897a56cabb",
   "metadata": {},
   "outputs": [],
   "source": [
    "X_train = torch.Tensor(train_features.values).cuda()\n",
    "y_train = torch.Tensor(train_label.values).cuda()\n",
    "\n",
    "X_val = torch.Tensor(val_features.values).cuda()\n",
    "y_val = torch.Tensor(val_label.values).cuda()\n",
    "\n",
    "X_test = torch.Tensor(test_features.values).cuda()\n",
    "y_test = torch.Tensor(test_label.values).cuda()"
   ]
  },
  {
   "cell_type": "code",
   "execution_count": 21,
   "id": "b4750556-eb6c-441b-a909-0d0d8bef40a8",
   "metadata": {
    "tags": []
   },
   "outputs": [],
   "source": [
    "def compute_confusion_matrix(true_label, prediction_proba, decision_threshold=0.5): \n",
    "    \n",
    "    predict_label = torch.where(prediction_proba>decision_threshold,torch.ones_like(prediction_proba),torch.zeros_like(prediction_proba))\n",
    "    \n",
    "    TP = torch.sum(torch.logical_and(predict_label==1, true_label==1)).cpu()\n",
    "    TN = torch.sum(torch.logical_and(predict_label==0, true_label==0)).cpu()\n",
    "    FP = torch.sum(torch.logical_and(predict_label==1, true_label==0)).cpu()\n",
    "    FN = torch.sum(torch.logical_and(predict_label==0, true_label==1)).cpu()\n",
    "    \n",
    "    confusion_matrix = np.asarray([[TP, FP],\n",
    "                                    [FN, TN]])\n",
    "    return confusion_matrix\n",
    "\n",
    "\n",
    "def plot_confusion_matrix(confusion_matrix):\n",
    "    [[TP, FP],[FN, TN]] = confusion_matrix\n",
    "    label = np.asarray([['TP {}'.format(TP), 'FP {}'.format(FP)],\n",
    "                        ['FN {}'.format(FN), 'TN {}'.format(TN)]])\n",
    "\n",
    "    df_cm = pd.DataFrame(confusion_matrix, index=['Yes', 'No'], columns=['Positive', 'Negative']) \n",
    "\n",
    "    sn.heatmap(df_cm, cmap='YlOrRd', annot=label, annot_kws={\"size\": 16}, cbar=False, fmt='')\n",
    "    plt.xlabel('Actual')\n",
    "    plt.ylabel('Predicted')\n",
    "    plt.title('Confusion matrix')\n",
    "    \n",
    "\n",
    "\n",
    "def compute_all_score(confusion_matrix, t=0.5):\n",
    "    \n",
    "    [[TP, FP],[FN, TN]] = confusion_matrix.astype('float')\n",
    "    \n",
    "    precision_positive = TP/(TP+FP) if (TP+FP) !=0 else np.nan\n",
    "    precision_negative = TN/(TN+FN) if (TN+FN) !=0 else np.nan\n",
    "    \n",
    "    recall_positive = TP/(TP+FN) if (TP+FN) !=0 else np.nan\n",
    "    recall_negative = TN/(TN+FP) if (TN+FP) !=0 else np.nan\n",
    "\n",
    "    F1_score_positive = 2 *(precision_positive*recall_positive)/(precision_positive+recall_positive) if (precision_positive+recall_positive) !=0 else np.nan\n",
    "    F1_score_negative = 2 *(precision_negative*recall_negative)/(precision_negative+recall_negative) if (precision_negative+recall_negative) !=0 else np.nan\n",
    "    \n",
    "    accuracy =  (TP+TN)/np.sum(confusion_matrix)\n",
    "    balanced_acc = (recall_negative + recall_positive) / 2\n",
    "    precision_metrix = FN / (FN +TN)\n",
    "\n",
    "    return [t, accuracy, balanced_acc, precision_positive, recall_positive, F1_score_positive, precision_negative, recall_negative, F1_score_negative, precision_metrix]"
   ]
  },
  {
   "cell_type": "code",
   "execution_count": 25,
   "id": "4636e97a-cd21-4e8c-b2f1-eb78d8d533d6",
   "metadata": {},
   "outputs": [],
   "source": [
    "class FCN(nn.Module):\n",
    "    def __init__(self, input_dim, output_dim):\n",
    "        super(FCN, self).__init__()\n",
    "        self.fc1 = nn.Linear(input_dim, 2048)\n",
    "        self.fc2 = nn.Linear(2048, 2048)\n",
    "        self.fc5 = nn.Linear(2048, 1024)\n",
    "        self.fc6 = nn.Linear(1024, 512)\n",
    "        self.fc7 = nn.Linear(512, output_dim)\n",
    "\n",
    "\n",
    "    def forward(self, x):\n",
    "        x = torch.relu(self.fc1(x))\n",
    "        x = torch.relu(self.fc2(x))\n",
    "        x = torch.relu(self.fc5(x))\n",
    "        x = torch.relu(self.fc6(x))\n",
    "        x = torch.sigmoid(self.fc7(x))   \n",
    "        \n",
    "        return x\n"
   ]
  },
  {
   "cell_type": "code",
   "execution_count": 26,
   "id": "6ea835c5-c662-4f1a-afa3-49c820e277fa",
   "metadata": {},
   "outputs": [],
   "source": [
    "network_in = './temporal_spatial/ckpt-Focal_loss-0.95-3-lr2e-06/ckpt-59.pth'\n",
    "\n",
    "input_dim = len(test_features.columns)\n",
    "output_dim = 1 \n",
    "\n",
    "model = FCN(input_dim, output_dim).cuda()\n",
    "# model = IntegrateNet(input_dim, output_dim).cuda()\n",
    "\n",
    "model.load_state_dict(torch.load(network_in), strict=True)\n",
    "model = model.cuda()\n",
    "\n",
    "# Calculating the loss and accuracy for the validation dataset\n",
    "outputs_test = torch.squeeze(model(X_test))\n",
    "mat_test = compute_confusion_matrix(y_test, outputs_test)\n"
   ]
  },
  {
   "cell_type": "code",
   "execution_count": 27,
   "id": "c622b7bc-a496-475e-bf19-1f8f687c54a7",
   "metadata": {},
   "outputs": [],
   "source": [
    "df_change = pd.DataFrame(test_label)\n",
    "df_change['proba_change'] = outputs_test.cpu().detach().numpy()\n",
    "df_change.reset_index(inplace=True)"
   ]
  },
  {
   "cell_type": "code",
   "execution_count": 28,
   "id": "9b92b8a9-0afe-480b-b38d-1975ba2de4ec",
   "metadata": {},
   "outputs": [
    {
     "data": {
      "image/png": "[encoded data removed]",
      "text/plain": [
       "<Figure size 640x480 with 1 Axes>"
      ]
     },
     "metadata": {},
     "output_type": "display_data"
    }
   ],
   "source": [
    "plot_confusion_matrix(mat_test)"
   ]
  },
  {
   "cell_type": "code",
   "execution_count": 29,
   "id": "acb3c3fa-5651-4e3d-9f28-60bf3c7eef8a",
   "metadata": {},
   "outputs": [
    {
     "name": "stdout",
     "output_type": "stream",
     "text": [
      "Length of filtered data: 47491\n",
      "balanced accuracy: 0.656\n",
      "recall: 0.958\n",
      "true negative rate: 0.355\n",
      "missed changes: 322\n",
      "missed changes w.r.t total changes: 0.042\n",
      "missed weighted change: 15563\n",
      "missed weighted changes w.r.t total weighted changes: 0.029\n",
      "automatized points: 14490\n",
      "automatized capacity: 0.363\n",
      "raw metric: 0.210\n",
      "weighted metric: 0.259\n"
     ]
    },
    {
     "data": {
      "text/plain": [
       "[0.5,\n",
       " 0.6564503670345593,\n",
       " 0.95767056658341,\n",
       " 0.35523016748570857,\n",
       " 322,\n",
       " 0.042329433416589984,\n",
       " 15563.0,\n",
       " 0.028689937414163386,\n",
       " 14490,\n",
       " 0.363303580383111,\n",
       " 0.20951923322475455,\n",
       " 0.25907201054778173]"
      ]
     },
     "execution_count": 29,
     "metadata": {},
     "output_type": "execute_result"
    }
   ],
   "source": [
    "metric(mode='binary', PROBABILITY_THRESHOLD=0.5, change_pred=df_change)"
   ]
  },
  {
   "cell_type": "markdown",
   "id": "57a33077-6af0-43d5-b270-4a34f9c34b53",
   "metadata": {},
   "source": [
    "# Extract features"
   ]
  },
  {
   "cell_type": "code",
   "execution_count": 19,
   "id": "a392736f-37c4-4902-b7f5-9f27e9bc9ed7",
   "metadata": {},
   "outputs": [
    {
     "data": {
      "text/html": [
       "<div>\n",
       "<style scoped>\n",
       "    .dataframe tbody tr th:only-of-type {\n",
       "        vertical-align: middle;\n",
       "    }\n",
       "\n",
       "    .dataframe tbody tr th {\n",
       "        vertical-align: top;\n",
       "    }\n",
       "\n",
       "    .dataframe thead th {\n",
       "        text-align: right;\n",
       "    }\n",
       "</style>\n",
       "<table border=\"1\" class=\"dataframe\">\n",
       "  <thead>\n",
       "    <tr style=\"text-align: right;\">\n",
       "      <th></th>\n",
       "      <th>p_unchage</th>\n",
       "      <th>p_change</th>\n",
       "      <th>changed</th>\n",
       "      <th>LC3</th>\n",
       "      <th>LU3</th>\n",
       "    </tr>\n",
       "    <tr>\n",
       "      <th>RELI</th>\n",
       "      <th></th>\n",
       "      <th></th>\n",
       "      <th></th>\n",
       "      <th></th>\n",
       "      <th></th>\n",
       "    </tr>\n",
       "  </thead>\n",
       "  <tbody>\n",
       "    <tr>\n",
       "      <th>48561099</th>\n",
       "      <td>0.339599</td>\n",
       "      <td>0.660401</td>\n",
       "      <td>0</td>\n",
       "      <td>LC41</td>\n",
       "      <td>LU301</td>\n",
       "    </tr>\n",
       "    <tr>\n",
       "      <th>48611112</th>\n",
       "      <td>0.552779</td>\n",
       "      <td>0.447221</td>\n",
       "      <td>0</td>\n",
       "      <td>LC61</td>\n",
       "      <td>LU402</td>\n",
       "    </tr>\n",
       "    <tr>\n",
       "      <th>48621113</th>\n",
       "      <td>0.349247</td>\n",
       "      <td>0.650753</td>\n",
       "      <td>0</td>\n",
       "      <td>LC47</td>\n",
       "      <td>LU103</td>\n",
       "    </tr>\n",
       "    <tr>\n",
       "      <th>48621114</th>\n",
       "      <td>0.563225</td>\n",
       "      <td>0.436775</td>\n",
       "      <td>0</td>\n",
       "      <td>LC12</td>\n",
       "      <td>LU106</td>\n",
       "    </tr>\n",
       "    <tr>\n",
       "      <th>48621115</th>\n",
       "      <td>0.387474</td>\n",
       "      <td>0.612526</td>\n",
       "      <td>1</td>\n",
       "      <td>LC15</td>\n",
       "      <td>LU142</td>\n",
       "    </tr>\n",
       "  </tbody>\n",
       "</table>\n",
       "</div>"
      ],
      "text/plain": [
       "          p_unchage  p_change  changed   LC3    LU3\n",
       "RELI                                               \n",
       "48561099   0.339599  0.660401        0  LC41  LU301\n",
       "48611112   0.552779  0.447221        0  LC61  LU402\n",
       "48621113   0.349247  0.650753        0  LC47  LU103\n",
       "48621114   0.563225  0.436775        0  LC12  LU106\n",
       "48621115   0.387474  0.612526        1  LC15  LU142"
      ]
     },
     "execution_count": 19,
     "metadata": {},
     "output_type": "execute_result"
    }
   ],
   "source": [
    "train_proba = torch.squeeze(model(X_train)).cpu().detach().numpy()\n",
    "train_proba_df = pd.DataFrame([[p_not, p] for p_not, p in zip(1-train_proba, train_proba)], index=train.index, columns=['p_unchage', 'p_change'])\n",
    "train_proba_df = pd.concat([train_proba_df, train_label], axis=1)\n",
    "\n",
    "val_proba = torch.squeeze(model(X_val)).cpu().detach().numpy()\n",
    "val_proba_df = pd.DataFrame([[p_not, p] for p_not, p in zip(1-val_proba, val_proba)], index=val.index, columns=['p_unchage', 'p_change'])\n",
    "val_proba_df = pd.concat([val_proba_df, val_label], axis=1)\n",
    "\n",
    "test_proba = torch.squeeze(model(X_test)).cpu().detach().numpy()\n",
    "test_proba_df = pd.DataFrame([[p_not, p] for p_not, p in zip(1-test_proba, test_proba)], index=test.index, columns=['p_unchage', 'p_change'])\n",
    "test_proba_df = pd.concat([test_proba_df, test_label], axis=1)\n",
    "\n",
    "proba_df = pd.concat([train_proba_df, val_proba_df, test_proba_df], axis=0)\n",
    "proba_df.sort_index(inplace=True)\n",
    "proba_df = proba_df.merge(data_features[['LC3', 'LU3']], on='RELI')\n",
    "proba_df.head()"
   ]
  },
  {
   "cell_type": "code",
   "execution_count": 20,
   "id": "5a5ea832-6d7a-4d1f-830b-aaf812070f36",
   "metadata": {},
   "outputs": [],
   "source": [
    "# Save to file\n",
    "with open('./temp_results/temporal_spatial_proba_FCN.pkl', 'wb') as file:\n",
    "    pickle.dump(proba_df, file)"
   ]
  }
 ],
 "metadata": {
  "kernelspec": {
   "display_name": "Python [conda env:landstats] *",
   "language": "python",
   "name": "conda-env-landstats-py"
  },
  "language_info": {
   "codemirror_mode": {
    "name": "ipython",
    "version": 3
   },
   "file_extension": ".py",
   "mimetype": "text/x-python",
   "name": "python",
   "nbconvert_exporter": "python",
   "pygments_lexer": "ipython3",
   "version": "3.10.4"
  }
 },
 "nbformat": 4,
 "nbformat_minor": 5
}
