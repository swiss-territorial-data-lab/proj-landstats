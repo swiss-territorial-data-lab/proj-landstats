{
 "cells": [
  {
   "cell_type": "code",
   "execution_count": 1,
   "id": "1aa21903-a45f-44bb-860a-5fbc8ae22c05",
   "metadata": {},
   "outputs": [],
   "source": [
    "import os \n",
    "import math\n",
    "import pickle\n",
    "import pandas as pd\n",
    "import numpy as np\n",
    "from tqdm import tqdm\n",
    "\n",
    "import matplotlib.pyplot as plt\n",
    "from sklearn.linear_model import LogisticRegression, LogisticRegressionCV\n",
    "from sklearn.model_selection import cross_val_predict\n",
    "from sklearn.model_selection import cross_val_score\n",
    "from sklearn.metrics import mean_squared_error, auc, roc_curve\n",
    "import seaborn as sn\n",
    "%matplotlib inline\n",
    "\n",
    "data_folder = '../data/'"
   ]
  },
  {
   "cell_type": "markdown",
   "id": "60505cdb-f71f-44c7-8bf6-3b2043a8fbc7",
   "metadata": {
    "tags": []
   },
   "source": [
    "# Data Description\n",
    "Plot the data points location distribution"
   ]
  },
  {
   "cell_type": "code",
   "execution_count": 2,
   "id": "cf95bc05-1427-4893-93a9-b29706e1b601",
   "metadata": {},
   "outputs": [
    {
     "data": {
      "text/html": [
       "<div>\n",
       "<style scoped>\n",
       "    .dataframe tbody tr th:only-of-type {\n",
       "        vertical-align: middle;\n",
       "    }\n",
       "\n",
       "    .dataframe tbody tr th {\n",
       "        vertical-align: top;\n",
       "    }\n",
       "\n",
       "    .dataframe thead th {\n",
       "        text-align: right;\n",
       "    }\n",
       "</style>\n",
       "<table border=\"1\" class=\"dataframe\">\n",
       "  <thead>\n",
       "    <tr style=\"text-align: right;\">\n",
       "      <th></th>\n",
       "      <th>EAST</th>\n",
       "      <th>NORTH</th>\n",
       "    </tr>\n",
       "    <tr>\n",
       "      <th>RELI</th>\n",
       "      <th></th>\n",
       "      <th></th>\n",
       "    </tr>\n",
       "  </thead>\n",
       "  <tbody>\n",
       "    <tr>\n",
       "      <th>48561099</th>\n",
       "      <td>2485600</td>\n",
       "      <td>1109900</td>\n",
       "    </tr>\n",
       "    <tr>\n",
       "      <th>48611112</th>\n",
       "      <td>2486100</td>\n",
       "      <td>1111200</td>\n",
       "    </tr>\n",
       "    <tr>\n",
       "      <th>48621113</th>\n",
       "      <td>2486200</td>\n",
       "      <td>1111300</td>\n",
       "    </tr>\n",
       "    <tr>\n",
       "      <th>48621114</th>\n",
       "      <td>2486200</td>\n",
       "      <td>1111400</td>\n",
       "    </tr>\n",
       "    <tr>\n",
       "      <th>48621115</th>\n",
       "      <td>2486200</td>\n",
       "      <td>1111500</td>\n",
       "    </tr>\n",
       "  </tbody>\n",
       "</table>\n",
       "</div>"
      ],
      "text/plain": [
       "             EAST    NORTH\n",
       "RELI                      \n",
       "48561099  2485600  1109900\n",
       "48611112  2486100  1111200\n",
       "48621113  2486200  1111300\n",
       "48621114  2486200  1111400\n",
       "48621115  2486200  1111500"
      ]
     },
     "execution_count": 2,
     "metadata": {},
     "output_type": "execute_result"
    }
   ],
   "source": [
    "columns = ['RELI', 'EAST', 'NORTH']\n",
    "\n",
    "trainset_data = pd.read_csv(os.path.join(data_folder, 'trainset_with_neighbour.csv'), usecols=columns)\n",
    "trainset_data.set_index('RELI', inplace=True)\n",
    "trainset_data.head()"
   ]
  },
  {
   "cell_type": "code",
   "execution_count": 3,
   "id": "c45127d0-95fc-452a-812f-14274ad71693",
   "metadata": {},
   "outputs": [
    {
     "data": {
      "text/plain": [
       "<AxesSubplot:xlabel='EAST', ylabel='NORTH'>"
      ]
     },
     "execution_count": 3,
     "metadata": {},
     "output_type": "execute_result"
    },
    {
     "data": {
      "image/png": "[encoded data removed]",
      "text/plain": [
       "<Figure size 640x480 with 1 Axes>"
      ]
     },
     "metadata": {},
     "output_type": "display_data"
    }
   ],
   "source": [
    "trainset_data.plot(x='EAST', y='NORTH', kind='scatter')"
   ]
  },
  {
   "cell_type": "markdown",
   "id": "097a96a0-e2b6-4812-b37f-b66b6e33b453",
   "metadata": {},
   "source": [
    "### Neighbor count matrix for Land Usage"
   ]
  },
  {
   "cell_type": "markdown",
   "id": "a2488d6c-1cb8-464a-bc14-2dd01ec12ee2",
   "metadata": {},
   "source": [
    "<img src='../img/Land_Uasge_matrix.png'>"
   ]
  },
  {
   "cell_type": "markdown",
   "id": "0bf2fd61-3346-4c77-985d-a36c9299d6fe",
   "metadata": {},
   "source": [
    "# Logistic Regression"
   ]
  },
  {
   "cell_type": "markdown",
   "id": "0f0b5532-e1aa-4399-89b1-774de64f13c6",
   "metadata": {},
   "source": [
    "### A) Load the dataset and convert categorical features to a suitable numerical representation (use dummy-variable encoding). \n",
    "- Split the data into a training set (80%) and a test set (20%). Pair each feature vector with the corresponding label, i.e., whether the outcome_type is adoption or not. \n",
    "- Standardize the values of each feature in the data to have mean 0 and variance 1."
   ]
  },
  {
   "cell_type": "markdown",
   "id": "6d01427f-b038-48ee-83d9-0095f12ba0e2",
   "metadata": {},
   "source": [
    "### 8-neighbors "
   ]
  },
  {
   "cell_type": "code",
   "execution_count": 4,
   "id": "e1d401f8-8285-4cf6-b54b-ce7f74643da1",
   "metadata": {},
   "outputs": [],
   "source": [
    "columns = ['LU4', 'LC4', 'LU3', 'LC3', 'LU2', 'LC2', 'LU1', 'LC1', 'nbr1_LU3', 'nbr1_LC3', 'nbr1_LU2', 'nbr1_LC2', 'nbr1_LU1',\n",
    "           'nbr1_LC1', 'nbr2_LU3', 'nbr2_LC3', 'nbr2_LU2', 'nbr2_LC2', 'nbr2_LU1', 'nbr2_LC1', 'nbr3_LU3', 'nbr3_LC3',\n",
    "           'nbr3_LU2', 'nbr3_LC2', 'nbr3_LU1', 'nbr3_LC1', 'nbr4_LU3', 'nbr4_LC3', 'nbr4_LU2', 'nbr4_LC2', 'nbr4_LU1',\n",
    "           'nbr4_LC1', 'nbr5_LU3', 'nbr5_LC3', 'nbr5_LU2', 'nbr5_LC2', 'nbr5_LU1', 'nbr5_LC1', 'nbr6_LU3', 'nbr6_LC3',\n",
    "           'nbr6_LU2', 'nbr6_LC2', 'nbr6_LU1', 'nbr6_LC1', 'nbr7_LU3', 'nbr7_LC3', 'nbr7_LU2', 'nbr7_LC2', 'nbr7_LU1',\n",
    "           'nbr7_LC1', 'nbr8_LU3', 'nbr8_LC3', 'nbr8_LU2', 'nbr8_LC2', 'nbr8_LU1', 'nbr8_LC1']\n"
   ]
  },
  {
   "cell_type": "markdown",
   "id": "9374994f-0c61-4987-a909-2938c9b22724",
   "metadata": {},
   "source": [
    "### 4-neighbors "
   ]
  },
  {
   "cell_type": "code",
   "execution_count": 4,
   "id": "072fb15b-115c-4309-a7c0-96780430880c",
   "metadata": {},
   "outputs": [],
   "source": [
    "columns = ['LU4', 'LC4', 'LU3', 'LC3', 'LU2', 'LC2', 'LU1', 'LC1', 'nbr1_LU3', 'nbr1_LC3', 'nbr1_LU2', 'nbr1_LC2', 'nbr1_LU1',\n",
    "           'nbr1_LC1', 'nbr2_LU3', 'nbr2_LC3', 'nbr2_LU2', 'nbr2_LC2', 'nbr2_LU1', 'nbr2_LC1', 'nbr3_LU3', 'nbr3_LC3',\n",
    "           'nbr3_LU2', 'nbr3_LC2', 'nbr3_LU1', 'nbr3_LC1', 'nbr4_LU3', 'nbr4_LC3', 'nbr4_LU2', 'nbr4_LC2', 'nbr4_LU1',\n",
    "           'nbr4_LC1']"
   ]
  },
  {
   "cell_type": "markdown",
   "id": "1f6de698-9042-4ce5-967e-10c64a5de685",
   "metadata": {},
   "source": [
    "### Time-deactivation"
   ]
  },
  {
   "cell_type": "code",
   "execution_count": null,
   "id": "6f23d241-1d47-4070-b212-800bf3b229c7",
   "metadata": {},
   "outputs": [],
   "source": [
    "columns = ['LU4', 'LC4', 'LU3', 'LC3', 'nbr1_LU3', 'nbr1_LC3', 'nbr2_LU3', 'nbr2_LC3', 'nbr3_LU3', 'nbr3_LC3',\n",
    "           'nbr4_LU3', 'nbr4_LC3', 'nbr5_LU3', 'nbr5_LC3', 'nbr6_LU3', 'nbr6_LC3', 'nbr7_LU3', 'nbr7_LC3',\n",
    "           'nbr8_LU3', 'nbr8_LC3']"
   ]
  },
  {
   "cell_type": "markdown",
   "id": "74bf0a8f-3304-4aee-8ec2-4cb90128d068",
   "metadata": {},
   "source": [
    "### Space-deactivation"
   ]
  },
  {
   "cell_type": "code",
   "execution_count": null,
   "id": "4df5f958-a765-4366-bf81-3a42cd01ddde",
   "metadata": {},
   "outputs": [],
   "source": [
    "columns = ['LU4', 'LC4', 'LU3', 'LC3', 'LU2', 'LC2', 'LU1', 'LC1']"
   ]
  },
  {
   "cell_type": "markdown",
   "id": "f9006e8d-7dbf-4def-8387-a0c029507d3a",
   "metadata": {},
   "source": [
    "### Data loading"
   ]
  },
  {
   "cell_type": "code",
   "execution_count": 5,
   "id": "089eb951-8339-4778-b97a-af177588fbd7",
   "metadata": {},
   "outputs": [
    {
     "data": {
      "text/html": [
       "<div>\n",
       "<style scoped>\n",
       "    .dataframe tbody tr th:only-of-type {\n",
       "        vertical-align: middle;\n",
       "    }\n",
       "\n",
       "    .dataframe tbody tr th {\n",
       "        vertical-align: top;\n",
       "    }\n",
       "\n",
       "    .dataframe thead th {\n",
       "        text-align: right;\n",
       "    }\n",
       "</style>\n",
       "<table border=\"1\" class=\"dataframe\">\n",
       "  <thead>\n",
       "    <tr style=\"text-align: right;\">\n",
       "      <th></th>\n",
       "      <th>LU4</th>\n",
       "      <th>LC4</th>\n",
       "      <th>LU3</th>\n",
       "      <th>LC3</th>\n",
       "      <th>LU2</th>\n",
       "      <th>LC2</th>\n",
       "      <th>LU1</th>\n",
       "      <th>LC1</th>\n",
       "      <th>nbr1_LU3</th>\n",
       "      <th>nbr1_LC3</th>\n",
       "      <th>...</th>\n",
       "      <th>nbr7_LU2</th>\n",
       "      <th>nbr7_LC2</th>\n",
       "      <th>nbr7_LU1</th>\n",
       "      <th>nbr7_LC1</th>\n",
       "      <th>nbr8_LU3</th>\n",
       "      <th>nbr8_LC3</th>\n",
       "      <th>nbr8_LU2</th>\n",
       "      <th>nbr8_LC2</th>\n",
       "      <th>nbr8_LU1</th>\n",
       "      <th>nbr8_LC1</th>\n",
       "    </tr>\n",
       "    <tr>\n",
       "      <th>RELI</th>\n",
       "      <th></th>\n",
       "      <th></th>\n",
       "      <th></th>\n",
       "      <th></th>\n",
       "      <th></th>\n",
       "      <th></th>\n",
       "      <th></th>\n",
       "      <th></th>\n",
       "      <th></th>\n",
       "      <th></th>\n",
       "      <th></th>\n",
       "      <th></th>\n",
       "      <th></th>\n",
       "      <th></th>\n",
       "      <th></th>\n",
       "      <th></th>\n",
       "      <th></th>\n",
       "      <th></th>\n",
       "      <th></th>\n",
       "      <th></th>\n",
       "      <th></th>\n",
       "    </tr>\n",
       "  </thead>\n",
       "  <tbody>\n",
       "    <tr>\n",
       "      <th>48561099</th>\n",
       "      <td>LU301</td>\n",
       "      <td>LC41</td>\n",
       "      <td>LU301</td>\n",
       "      <td>LC41</td>\n",
       "      <td>LU301</td>\n",
       "      <td>LC41</td>\n",
       "      <td>LU301</td>\n",
       "      <td>LC41</td>\n",
       "      <td>LU301</td>\n",
       "      <td>LC41</td>\n",
       "      <td>...</td>\n",
       "      <td>LU221</td>\n",
       "      <td>LC21</td>\n",
       "      <td>LU221</td>\n",
       "      <td>LC21</td>\n",
       "      <td>LU301</td>\n",
       "      <td>LC41</td>\n",
       "      <td>LU301</td>\n",
       "      <td>LC41</td>\n",
       "      <td>LU301</td>\n",
       "      <td>LC41</td>\n",
       "    </tr>\n",
       "    <tr>\n",
       "      <th>48611112</th>\n",
       "      <td>LU402</td>\n",
       "      <td>LC61</td>\n",
       "      <td>LU402</td>\n",
       "      <td>LC61</td>\n",
       "      <td>LU402</td>\n",
       "      <td>LC61</td>\n",
       "      <td>LU402</td>\n",
       "      <td>LC61</td>\n",
       "      <td>LU402</td>\n",
       "      <td>LC61</td>\n",
       "      <td>...</td>\n",
       "      <td>LU221</td>\n",
       "      <td>LC21</td>\n",
       "      <td>LU221</td>\n",
       "      <td>LC21</td>\n",
       "      <td>LU221</td>\n",
       "      <td>LC21</td>\n",
       "      <td>LU221</td>\n",
       "      <td>LC21</td>\n",
       "      <td>LU221</td>\n",
       "      <td>LC21</td>\n",
       "    </tr>\n",
       "    <tr>\n",
       "      <th>48621113</th>\n",
       "      <td>LU103</td>\n",
       "      <td>LC47</td>\n",
       "      <td>LU103</td>\n",
       "      <td>LC47</td>\n",
       "      <td>LU421</td>\n",
       "      <td>LC31</td>\n",
       "      <td>LU421</td>\n",
       "      <td>LC31</td>\n",
       "      <td>LU106</td>\n",
       "      <td>LC12</td>\n",
       "      <td>...</td>\n",
       "      <td>LU222</td>\n",
       "      <td>LC21</td>\n",
       "      <td>LU222</td>\n",
       "      <td>LC21</td>\n",
       "      <td>LU402</td>\n",
       "      <td>LC61</td>\n",
       "      <td>LU402</td>\n",
       "      <td>LC61</td>\n",
       "      <td>LU402</td>\n",
       "      <td>LC61</td>\n",
       "    </tr>\n",
       "    <tr>\n",
       "      <th>48621114</th>\n",
       "      <td>LU106</td>\n",
       "      <td>LC12</td>\n",
       "      <td>LU106</td>\n",
       "      <td>LC12</td>\n",
       "      <td>LU106</td>\n",
       "      <td>LC12</td>\n",
       "      <td>LU106</td>\n",
       "      <td>LC12</td>\n",
       "      <td>LU142</td>\n",
       "      <td>LC15</td>\n",
       "      <td>...</td>\n",
       "      <td>LU222</td>\n",
       "      <td>LC21</td>\n",
       "      <td>LU222</td>\n",
       "      <td>LC21</td>\n",
       "      <td>LU402</td>\n",
       "      <td>LC61</td>\n",
       "      <td>LU402</td>\n",
       "      <td>LC61</td>\n",
       "      <td>LU402</td>\n",
       "      <td>LC61</td>\n",
       "    </tr>\n",
       "    <tr>\n",
       "      <th>48621115</th>\n",
       "      <td>LU142</td>\n",
       "      <td>LC11</td>\n",
       "      <td>LU142</td>\n",
       "      <td>LC15</td>\n",
       "      <td>LU142</td>\n",
       "      <td>LC15</td>\n",
       "      <td>LU142</td>\n",
       "      <td>LC15</td>\n",
       "      <td>LU402</td>\n",
       "      <td>LC61</td>\n",
       "      <td>...</td>\n",
       "      <td>LU222</td>\n",
       "      <td>LC21</td>\n",
       "      <td>LU222</td>\n",
       "      <td>LC21</td>\n",
       "      <td>LU402</td>\n",
       "      <td>LC61</td>\n",
       "      <td>LU402</td>\n",
       "      <td>LC61</td>\n",
       "      <td>LU402</td>\n",
       "      <td>LC61</td>\n",
       "    </tr>\n",
       "  </tbody>\n",
       "</table>\n",
       "<p>5 rows × 56 columns</p>\n",
       "</div>"
      ],
      "text/plain": [
       "            LU4   LC4    LU3   LC3    LU2   LC2    LU1   LC1 nbr1_LU3  \\\n",
       "RELI                                                                    \n",
       "48561099  LU301  LC41  LU301  LC41  LU301  LC41  LU301  LC41    LU301   \n",
       "48611112  LU402  LC61  LU402  LC61  LU402  LC61  LU402  LC61    LU402   \n",
       "48621113  LU103  LC47  LU103  LC47  LU421  LC31  LU421  LC31    LU106   \n",
       "48621114  LU106  LC12  LU106  LC12  LU106  LC12  LU106  LC12    LU142   \n",
       "48621115  LU142  LC11  LU142  LC15  LU142  LC15  LU142  LC15    LU402   \n",
       "\n",
       "         nbr1_LC3  ... nbr7_LU2 nbr7_LC2 nbr7_LU1 nbr7_LC1 nbr8_LU3 nbr8_LC3  \\\n",
       "RELI               ...                                                         \n",
       "48561099     LC41  ...    LU221     LC21    LU221     LC21    LU301     LC41   \n",
       "48611112     LC61  ...    LU221     LC21    LU221     LC21    LU221     LC21   \n",
       "48621113     LC12  ...    LU222     LC21    LU222     LC21    LU402     LC61   \n",
       "48621114     LC15  ...    LU222     LC21    LU222     LC21    LU402     LC61   \n",
       "48621115     LC61  ...    LU222     LC21    LU222     LC21    LU402     LC61   \n",
       "\n",
       "         nbr8_LU2 nbr8_LC2 nbr8_LU1 nbr8_LC1  \n",
       "RELI                                          \n",
       "48561099    LU301     LC41    LU301     LC41  \n",
       "48611112    LU221     LC21    LU221     LC21  \n",
       "48621113    LU402     LC61    LU402     LC61  \n",
       "48621114    LU402     LC61    LU402     LC61  \n",
       "48621115    LU402     LC61    LU402     LC61  \n",
       "\n",
       "[5 rows x 56 columns]"
      ]
     },
     "execution_count": 5,
     "metadata": {},
     "output_type": "execute_result"
    }
   ],
   "source": [
    "original_data = pd.read_csv(os.path.join(data_folder, 'trainset_with_neighbour.csv'), index_col=0)\n",
    "original_data = original_data[columns]\n",
    "original_data.head()"
   ]
  },
  {
   "cell_type": "code",
   "execution_count": 6,
   "id": "7915552f-9650-4666-a721-23b9743a902e",
   "metadata": {},
   "outputs": [
    {
     "name": "stdout",
     "output_type": "stream",
     "text": [
      "The length of the data with all rows is : 348474\n",
      "The length of the data without the rows with nan value is: 348474\n"
     ]
    }
   ],
   "source": [
    "print('The length of the data with all rows is : {}'.format(len(original_data)))\n",
    "original_data.dropna(inplace=True)\n",
    "print('The length of the data without the rows with nan value is: {}'.format(len(original_data)))"
   ]
  },
  {
   "cell_type": "code",
   "execution_count": 7,
   "id": "7397ab02-d0a4-45c4-8edb-ac606a1a75e7",
   "metadata": {},
   "outputs": [
    {
     "data": {
      "text/html": [
       "<div>\n",
       "<style scoped>\n",
       "    .dataframe tbody tr th:only-of-type {\n",
       "        vertical-align: middle;\n",
       "    }\n",
       "\n",
       "    .dataframe tbody tr th {\n",
       "        vertical-align: top;\n",
       "    }\n",
       "\n",
       "    .dataframe thead th {\n",
       "        text-align: right;\n",
       "    }\n",
       "</style>\n",
       "<table border=\"1\" class=\"dataframe\">\n",
       "  <thead>\n",
       "    <tr style=\"text-align: right;\">\n",
       "      <th></th>\n",
       "      <th>LU3</th>\n",
       "      <th>LC3</th>\n",
       "      <th>LU2</th>\n",
       "      <th>LC2</th>\n",
       "      <th>LU1</th>\n",
       "      <th>LC1</th>\n",
       "      <th>nbr1_LU3</th>\n",
       "      <th>nbr1_LC3</th>\n",
       "      <th>nbr1_LU2</th>\n",
       "      <th>nbr1_LC2</th>\n",
       "      <th>...</th>\n",
       "      <th>nbr7_LC2</th>\n",
       "      <th>nbr7_LU1</th>\n",
       "      <th>nbr7_LC1</th>\n",
       "      <th>nbr8_LU3</th>\n",
       "      <th>nbr8_LC3</th>\n",
       "      <th>nbr8_LU2</th>\n",
       "      <th>nbr8_LC2</th>\n",
       "      <th>nbr8_LU1</th>\n",
       "      <th>nbr8_LC1</th>\n",
       "      <th>changed</th>\n",
       "    </tr>\n",
       "    <tr>\n",
       "      <th>RELI</th>\n",
       "      <th></th>\n",
       "      <th></th>\n",
       "      <th></th>\n",
       "      <th></th>\n",
       "      <th></th>\n",
       "      <th></th>\n",
       "      <th></th>\n",
       "      <th></th>\n",
       "      <th></th>\n",
       "      <th></th>\n",
       "      <th></th>\n",
       "      <th></th>\n",
       "      <th></th>\n",
       "      <th></th>\n",
       "      <th></th>\n",
       "      <th></th>\n",
       "      <th></th>\n",
       "      <th></th>\n",
       "      <th></th>\n",
       "      <th></th>\n",
       "      <th></th>\n",
       "    </tr>\n",
       "  </thead>\n",
       "  <tbody>\n",
       "    <tr>\n",
       "      <th>48561099</th>\n",
       "      <td>LU301</td>\n",
       "      <td>LC41</td>\n",
       "      <td>LU301</td>\n",
       "      <td>LC41</td>\n",
       "      <td>LU301</td>\n",
       "      <td>LC41</td>\n",
       "      <td>LU301</td>\n",
       "      <td>LC41</td>\n",
       "      <td>LU301</td>\n",
       "      <td>LC41</td>\n",
       "      <td>...</td>\n",
       "      <td>LC21</td>\n",
       "      <td>LU221</td>\n",
       "      <td>LC21</td>\n",
       "      <td>LU301</td>\n",
       "      <td>LC41</td>\n",
       "      <td>LU301</td>\n",
       "      <td>LC41</td>\n",
       "      <td>LU301</td>\n",
       "      <td>LC41</td>\n",
       "      <td>0</td>\n",
       "    </tr>\n",
       "    <tr>\n",
       "      <th>48611112</th>\n",
       "      <td>LU402</td>\n",
       "      <td>LC61</td>\n",
       "      <td>LU402</td>\n",
       "      <td>LC61</td>\n",
       "      <td>LU402</td>\n",
       "      <td>LC61</td>\n",
       "      <td>LU402</td>\n",
       "      <td>LC61</td>\n",
       "      <td>LU402</td>\n",
       "      <td>LC61</td>\n",
       "      <td>...</td>\n",
       "      <td>LC21</td>\n",
       "      <td>LU221</td>\n",
       "      <td>LC21</td>\n",
       "      <td>LU221</td>\n",
       "      <td>LC21</td>\n",
       "      <td>LU221</td>\n",
       "      <td>LC21</td>\n",
       "      <td>LU221</td>\n",
       "      <td>LC21</td>\n",
       "      <td>0</td>\n",
       "    </tr>\n",
       "    <tr>\n",
       "      <th>48621113</th>\n",
       "      <td>LU103</td>\n",
       "      <td>LC47</td>\n",
       "      <td>LU421</td>\n",
       "      <td>LC31</td>\n",
       "      <td>LU421</td>\n",
       "      <td>LC31</td>\n",
       "      <td>LU106</td>\n",
       "      <td>LC12</td>\n",
       "      <td>LU106</td>\n",
       "      <td>LC12</td>\n",
       "      <td>...</td>\n",
       "      <td>LC21</td>\n",
       "      <td>LU222</td>\n",
       "      <td>LC21</td>\n",
       "      <td>LU402</td>\n",
       "      <td>LC61</td>\n",
       "      <td>LU402</td>\n",
       "      <td>LC61</td>\n",
       "      <td>LU402</td>\n",
       "      <td>LC61</td>\n",
       "      <td>0</td>\n",
       "    </tr>\n",
       "    <tr>\n",
       "      <th>48621114</th>\n",
       "      <td>LU106</td>\n",
       "      <td>LC12</td>\n",
       "      <td>LU106</td>\n",
       "      <td>LC12</td>\n",
       "      <td>LU106</td>\n",
       "      <td>LC12</td>\n",
       "      <td>LU142</td>\n",
       "      <td>LC15</td>\n",
       "      <td>LU142</td>\n",
       "      <td>LC15</td>\n",
       "      <td>...</td>\n",
       "      <td>LC21</td>\n",
       "      <td>LU222</td>\n",
       "      <td>LC21</td>\n",
       "      <td>LU402</td>\n",
       "      <td>LC61</td>\n",
       "      <td>LU402</td>\n",
       "      <td>LC61</td>\n",
       "      <td>LU402</td>\n",
       "      <td>LC61</td>\n",
       "      <td>0</td>\n",
       "    </tr>\n",
       "    <tr>\n",
       "      <th>48621115</th>\n",
       "      <td>LU142</td>\n",
       "      <td>LC15</td>\n",
       "      <td>LU142</td>\n",
       "      <td>LC15</td>\n",
       "      <td>LU142</td>\n",
       "      <td>LC15</td>\n",
       "      <td>LU402</td>\n",
       "      <td>LC61</td>\n",
       "      <td>LU402</td>\n",
       "      <td>LC61</td>\n",
       "      <td>...</td>\n",
       "      <td>LC21</td>\n",
       "      <td>LU222</td>\n",
       "      <td>LC21</td>\n",
       "      <td>LU402</td>\n",
       "      <td>LC61</td>\n",
       "      <td>LU402</td>\n",
       "      <td>LC61</td>\n",
       "      <td>LU402</td>\n",
       "      <td>LC61</td>\n",
       "      <td>1</td>\n",
       "    </tr>\n",
       "  </tbody>\n",
       "</table>\n",
       "<p>5 rows × 55 columns</p>\n",
       "</div>"
      ],
      "text/plain": [
       "            LU3   LC3    LU2   LC2    LU1   LC1 nbr1_LU3 nbr1_LC3 nbr1_LU2  \\\n",
       "RELI                                                                         \n",
       "48561099  LU301  LC41  LU301  LC41  LU301  LC41    LU301     LC41    LU301   \n",
       "48611112  LU402  LC61  LU402  LC61  LU402  LC61    LU402     LC61    LU402   \n",
       "48621113  LU103  LC47  LU421  LC31  LU421  LC31    LU106     LC12    LU106   \n",
       "48621114  LU106  LC12  LU106  LC12  LU106  LC12    LU142     LC15    LU142   \n",
       "48621115  LU142  LC15  LU142  LC15  LU142  LC15    LU402     LC61    LU402   \n",
       "\n",
       "         nbr1_LC2  ... nbr7_LC2 nbr7_LU1 nbr7_LC1 nbr8_LU3 nbr8_LC3 nbr8_LU2  \\\n",
       "RELI               ...                                                         \n",
       "48561099     LC41  ...     LC21    LU221     LC21    LU301     LC41    LU301   \n",
       "48611112     LC61  ...     LC21    LU221     LC21    LU221     LC21    LU221   \n",
       "48621113     LC12  ...     LC21    LU222     LC21    LU402     LC61    LU402   \n",
       "48621114     LC15  ...     LC21    LU222     LC21    LU402     LC61    LU402   \n",
       "48621115     LC61  ...     LC21    LU222     LC21    LU402     LC61    LU402   \n",
       "\n",
       "         nbr8_LC2 nbr8_LU1 nbr8_LC1 changed  \n",
       "RELI                                         \n",
       "48561099     LC41    LU301     LC41       0  \n",
       "48611112     LC21    LU221     LC21       0  \n",
       "48621113     LC61    LU402     LC61       0  \n",
       "48621114     LC61    LU402     LC61       0  \n",
       "48621115     LC61    LU402     LC61       1  \n",
       "\n",
       "[5 rows x 55 columns]"
      ]
     },
     "execution_count": 7,
     "metadata": {},
     "output_type": "execute_result"
    }
   ],
   "source": [
    "data_features = original_data.copy()\n",
    "data_features['changed'] = [0 if row['LU4'] == row['LU3'] and row['LC4'] == row['LC3'] else 1 for ind, row in data_features[['LU4', 'LC4', 'LU3', 'LC3']].iterrows()]\n",
    "data_features.drop(['LC4', 'LU4'], axis=1, inplace=True)\n",
    "data_features.head()"
   ]
  },
  {
   "cell_type": "code",
   "execution_count": 8,
   "id": "39428050-f21f-4a8d-8bb8-56a0d05fc02b",
   "metadata": {},
   "outputs": [
    {
     "name": "stdout",
     "output_type": "stream",
     "text": [
      "Total number of tiles that changed label in either Land Cover or Land Usage: 58737\n"
     ]
    }
   ],
   "source": [
    "print('Total number of tiles that changed label in either Land Cover or Land Usage: %d' % sum(data_features.changed))"
   ]
  },
  {
   "cell_type": "code",
   "execution_count": 9,
   "id": "c96919b3-26d3-4310-ad86-68724fef55b8",
   "metadata": {},
   "outputs": [],
   "source": [
    "def split_set(data_to_split, ratio=0.8):\n",
    "    mask = np.random.rand(len(data_to_split)) < ratio\n",
    "    return [data_to_split[mask].reset_index(drop=True), data_to_split[~mask].reset_index(drop=True)]"
   ]
  },
  {
   "cell_type": "code",
   "execution_count": 10,
   "id": "980b0234-39f5-4ebb-8702-f381a2808960",
   "metadata": {},
   "outputs": [],
   "source": [
    "[train, test] = split_set(data_features)"
   ]
  },
  {
   "cell_type": "code",
   "execution_count": 11,
   "id": "c0799c99-375e-4dcc-bd19-4c5b999f30cb",
   "metadata": {},
   "outputs": [
    {
     "data": {
      "text/plain": [
       "Index(['changed', 'LU3_LU101', 'LU3_LU102', 'LU3_LU103', 'LU3_LU104',\n",
       "       'LU3_LU105', 'LU3_LU106', 'LU3_LU107', 'LU3_LU108', 'LU3_LU121',\n",
       "       ...\n",
       "       'nbr8_LC1_LC45', 'nbr8_LC1_LC46', 'nbr8_LC1_LC47', 'nbr8_LC1_LC51',\n",
       "       'nbr8_LC1_LC52', 'nbr8_LC1_LC53', 'nbr8_LC1_LC61', 'nbr8_LC1_LC62',\n",
       "       'nbr8_LC1_LC63', 'nbr8_LC1_LC64'],\n",
       "      dtype='object', length=1972)"
      ]
     },
     "execution_count": 11,
     "metadata": {},
     "output_type": "execute_result"
    }
   ],
   "source": [
    "train_categorical = pd.get_dummies(train)\n",
    "train_categorical.columns"
   ]
  },
  {
   "cell_type": "code",
   "execution_count": 12,
   "id": "fb7a994a-5225-4a62-995c-91daf4d3fe18",
   "metadata": {},
   "outputs": [],
   "source": [
    "# Make sure we use only the features available in the training set\n",
    "test_categorical = pd.get_dummies(test)[train_categorical.columns]"
   ]
  },
  {
   "cell_type": "code",
   "execution_count": 13,
   "id": "3db5506f-ae28-4064-b512-66d927642629",
   "metadata": {},
   "outputs": [
    {
     "name": "stdout",
     "output_type": "stream",
     "text": [
      "Length of the train dataset : 278780\n",
      "Length of the test dataset : 69694\n"
     ]
    }
   ],
   "source": [
    "train_label=train_categorical.changed\n",
    "train_features = train_categorical.drop('changed', axis=1)\n",
    "print('Length of the train dataset : {}'.format(len(train)))\n",
    "\n",
    "test_label=test_categorical.changed\n",
    "test_features = test_categorical.drop('changed', axis=1)\n",
    "print('Length of the test dataset : {}'.format(len(test)))"
   ]
  },
  {
   "cell_type": "markdown",
   "id": "7c3947fd-9daf-4f92-986e-6ee14b0de035",
   "metadata": {},
   "source": [
    "### B) Train a logistic regression classifier on your training set. Logistic regression returns probabilities as predictions, so in order to arrive at a binary prediction, you need to put a threshold on the predicted probabilities.\n",
    "- For the decision threshold of 0.5, present the performance of your classifier on the test set by displaying the confusion matrix. Based on the confusion matrix, manually calculate accuracy, precision, recall, and F1-score with respect to the positive and the negative class."
   ]
  },
  {
   "cell_type": "code",
   "execution_count": 14,
   "id": "71df1fa6-034b-41b7-97d1-c7151808a792",
   "metadata": {
    "tags": []
   },
   "outputs": [],
   "source": [
    "def compute_confusion_matrix(true_label, prediction_proba, decision_threshold=0.5, definition='normal'): \n",
    "    \n",
    "    assert definition == 'normal' or definition == 'special'\n",
    "    predict_label = (prediction_proba[:,1]>decision_threshold).astype(int)   \n",
    "    \n",
    "    if definition == 'normal':\n",
    "        # normal definition of confusion matrix \n",
    "        TP = np.sum(np.logical_and(predict_label==1, true_label==1))\n",
    "        TN = np.sum(np.logical_and(predict_label==0, true_label==0))\n",
    "        FP = np.sum(np.logical_and(predict_label==1, true_label==0))\n",
    "        FN = np.sum(np.logical_and(predict_label==0, true_label==1))\n",
    "    \n",
    "    elif definition == 'special':\n",
    "        # special definition of the confusion matrix in this case to optimize the recall and precision of unchanged\n",
    "        TP = np.sum(np.logical_and(predict_label==0, true_label==0))\n",
    "        TN = np.sum(np.logical_and(predict_label==1, true_label==1))\n",
    "        FP = np.sum(np.logical_and(predict_label==0, true_label==1))\n",
    "        FN = np.sum(np.logical_and(predict_label==1, true_label==0))\n",
    "    \n",
    "    confusion_matrix = np.asarray([[TP, FP],\n",
    "                                    [FN, TN]])\n",
    "    return confusion_matrix\n",
    "\n",
    "\n",
    "def plot_confusion_matrix(confusion_matrix, thred, axs):\n",
    "    [[TP, FP],[FN, TN]] = confusion_matrix\n",
    "    label = np.asarray([['TP {}'.format(TP), 'FP {}'.format(FP)],\n",
    "                        ['FN {}'.format(FN), 'TN {}'.format(TN)]])\n",
    "    \n",
    "    df_cm = pd.DataFrame(confusion_matrix, index=['Yes', 'No'], columns=['Positive', 'Negative']) \n",
    "    \n",
    "    sn.heatmap(df_cm, cmap='YlOrRd', annot=label, annot_kws={\"size\": 16}, cbar=False, fmt='',ax=axs)\n",
    "    axs.set_xlabel('Actual')\n",
    "    axs.set_ylabel('Predicted')\n",
    "    axs.set_title('Confusion matrix for a {} threshold'.format(thred))\n",
    "    \n",
    "\n",
    "\n",
    "def compute_all_score(confusion_matrix, t=0.5):\n",
    "    \n",
    "    [[TP, FP],[FN, TN]] = confusion_matrix.astype(float)\n",
    "    \n",
    "    accuracy =  (TP+TN)/np.sum(confusion_matrix)\n",
    "    \n",
    "    precision_positive = TP/(TP+FP) if (TP+FP) !=0 else np.nan\n",
    "    precision_negative = TN/(TN+FN) if (TN+FN) !=0 else np.nan\n",
    "    \n",
    "    recall_positive = TP/(TP+FN) if (TP+FN) !=0 else np.nan\n",
    "    recall_negative = TN/(TN+FP) if (TN+FP) !=0 else np.nan\n",
    "\n",
    "    F1_score_positive = 2 *(precision_positive*recall_positive)/(precision_positive+recall_positive) if (precision_positive+recall_positive) !=0 else np.nan\n",
    "    F1_score_negative = 2 *(precision_negative*recall_negative)/(precision_negative+recall_negative) if (precision_negative+recall_negative) !=0 else np.nan\n",
    "\n",
    "    return [t, accuracy, precision_positive, recall_positive, F1_score_positive, precision_negative, recall_negative, F1_score_negative]"
   ]
  },
  {
   "cell_type": "code",
   "execution_count": 15,
   "id": "4c16d50d-7021-4ee6-a1a9-4fb8e5dbc60f",
   "metadata": {},
   "outputs": [],
   "source": [
    "# Load from file\n",
    "pkl_filename = \"./logistic_regression_cv3000.pkl\"\n",
    "with open(pkl_filename, 'rb') as file:\n",
    "    logistic = pickle.load(file)"
   ]
  },
  {
   "cell_type": "code",
   "execution_count": null,
   "id": "c150f970-bffe-47e8-ba09-c21f5d8f4cc3",
   "metadata": {
    "scrolled": true,
    "tags": []
   },
   "outputs": [],
   "source": [
    "# vanilla logistics regression \n",
    "# logistic = LogisticRegression(solver='sag', max_iter=10000, class_weight='balanced', verbose=1, warm_start=True, n_jobs=-1, multi_class='ovr')\n",
    "# logistic.fit(train_features,train_label)"
   ]
  },
  {
   "cell_type": "code",
   "execution_count": null,
   "id": "e7881e7d-93f8-43c0-a82b-1063a2df7b07",
   "metadata": {
    "scrolled": true,
    "tags": []
   },
   "outputs": [],
   "source": [
    "# logistics regression with cross-validation and target score metric \n",
    "logistic = LogisticRegressionCV(solver='sag', cv=5, scoring='balanced_accuracy', max_iter=3000, class_weight='balanced', n_jobs=(os.cpu_count() - 4), multi_class='ovr')\n",
    "logistic.fit(train_features,train_label)"
   ]
  },
  {
   "cell_type": "code",
   "execution_count": 16,
   "id": "6e65869b-fad8-4bde-b608-4030e05e6515",
   "metadata": {},
   "outputs": [],
   "source": [
    "prediction_proba = logistic.predict_proba(test_features)"
   ]
  },
  {
   "cell_type": "code",
   "execution_count": 17,
   "id": "53e712ef-56e4-476c-a59b-2a36c298119d",
   "metadata": {},
   "outputs": [],
   "source": [
    "# Save to file in the current working directory\n",
    "pkl_filename = \"./logistic_regression_cv3000.pkl\"\n",
    "with open(pkl_filename, 'wb') as file:\n",
    "    pickle.dump(logistic, file)"
   ]
  },
  {
   "cell_type": "code",
   "execution_count": 24,
   "id": "29a09f06-7224-4cc4-8a6e-931c569c0e80",
   "metadata": {},
   "outputs": [
    {
     "data": {
      "image/png": "[encoded data removed]",
      "text/plain": [
       "<Figure size 1000x800 with 4 Axes>"
      ]
     },
     "metadata": {},
     "output_type": "display_data"
    }
   ],
   "source": [
    "confusion_matrix_ls = []\n",
    "thred_ls = [0.5, 0.625, 0.75, 1.0]\n",
    "\n",
    "fig, axs = plt.subplots(nrows=2, ncols=2, sharex=True, sharey=True, figsize=(10,8))\n",
    "\n",
    "for axe, thred in zip(axs.flat, thred_ls):\n",
    "    confusion_matrix = compute_confusion_matrix(test_label, prediction_proba, thred, definition='normal')\n",
    "    confusion_matrix_ls.append(confusion_matrix)\n",
    "    plot_confusion_matrix(confusion_matrix, thred, axe)\n",
    "    "
   ]
  },
  {
   "cell_type": "code",
   "execution_count": 25,
   "id": "13130181-7481-42a1-8b40-35f16c50966a",
   "metadata": {},
   "outputs": [
    {
     "name": "stdout",
     "output_type": "stream",
     "text": [
      "The accuracy of model with threshoud 0.5 is 0.682\n",
      "For the positive case, the precision is 0.319, the recall is 0.767 and the F1 score is 0.451\n",
      "For the negative case, the precision is 0.933, the recall is 0.665 and the F1 score is 0.776\n",
      "================================================================================================\n",
      "The accuracy of model with threshoud 0.625 is 0.788\n",
      "For the positive case, the precision is 0.411, the recall is 0.572 and the F1 score is 0.478\n",
      "For the negative case, the precision is 0.905, the recall is 0.832 and the F1 score is 0.867\n",
      "================================================================================================\n",
      "The accuracy of model with threshoud 0.75 is 0.843\n",
      "For the positive case, the precision is 0.580, the recall is 0.275 and the F1 score is 0.373\n",
      "For the negative case, the precision is 0.866, the recall is 0.959 and the F1 score is 0.910\n",
      "================================================================================================\n",
      "The accuracy of model with threshoud 1.0 is 0.830\n",
      "For the positive case, the precision is nan, the recall is 0.000 and the F1 score is nan\n",
      "For the negative case, the precision is 0.830, the recall is 1.000 and the F1 score is 0.907\n",
      "================================================================================================\n"
     ]
    }
   ],
   "source": [
    "for confusion_matrix, thred in zip(confusion_matrix_ls, thred_ls):\n",
    "    [t, accuracy, precision_positive, recall_positive, F1_score_positive, \\\n",
    "        precision_negative, recall_negative, F1_score_negative] = compute_all_score(confusion_matrix)\n",
    "\n",
    "    print(\"The accuracy of model with threshoud {0} is {1:1.3f}\".format(thred, accuracy))\n",
    "    print(\"For the positive case, the precision is {0:1.3f}, the recall is {1:1.3f} and the F1 score is {2:1.3f}\"\\\n",
    "          .format(precision_positive, recall_positive, F1_score_positive))\n",
    "    print(\"For the negative case, the precision is {0:1.3f}, the recall is {1:1.3f} and the F1 score is {2:1.3f}\"\\\n",
    "          .format(precision_negative, recall_negative, F1_score_negative))\n",
    "    print('========'*12)"
   ]
  },
  {
   "cell_type": "markdown",
   "id": "fe101aaa-55f7-4f49-9159-2cea789d4737",
   "metadata": {},
   "source": [
    "### C) Vary the value of the threshold in the range from 0 to 1 and visualize the value of accuracy, precision, recall, and F1-score (with respect to both classes) as a function of the threshold."
   ]
  },
  {
   "cell_type": "code",
   "execution_count": 20,
   "id": "bc70026d-62b1-4d4a-b5ec-bfb94cff81f3",
   "metadata": {},
   "outputs": [],
   "source": [
    "threshold = np.linspace(0, 1, 100)\n",
    "columns_score_name = ['Threshold', 'Accuracy', 'Precision P', 'Recall P', 'F1 score P', \\\n",
    "                                              'Precision N', 'Recall N', 'F1 score N']\n",
    "threshold_score = pd.concat([pd.DataFrame([compute_all_score(compute_confusion_matrix(test_label, prediction_proba, t ),t)]\\\n",
    "                                             , columns=columns_score_name) for t in threshold], ignore_index=True)\n",
    "threshold_score.set_index('Threshold', inplace=True)"
   ]
  },
  {
   "cell_type": "code",
   "execution_count": 21,
   "id": "1f5c1a85-2f3b-43e8-917d-6326b7baf8da",
   "metadata": {},
   "outputs": [
    {
     "data": {
      "text/plain": [
       "Text(0.5, 1.0, 'Accuracy')"
      ]
     },
     "execution_count": 21,
     "metadata": {},
     "output_type": "execute_result"
    },
    {
     "data": {
      "image/png": "[encoded data removed]",
      "text/plain": [
       "<Figure size 640x480 with 1 Axes>"
      ]
     },
     "metadata": {},
     "output_type": "display_data"
    }
   ],
   "source": [
    "threshold_score['Accuracy'].plot(grid=True).set_title('Accuracy')"
   ]
  },
  {
   "cell_type": "code",
   "execution_count": 22,
   "id": "dac66878-df4b-4024-b96c-83f80bfde730",
   "metadata": {},
   "outputs": [
    {
     "data": {
      "image/png": "[encoded data removed]",
      "text/plain": [
       "<Figure size 1000x500 with 6 Axes>"
      ]
     },
     "metadata": {},
     "output_type": "display_data"
    }
   ],
   "source": [
    "fig, axs = plt.subplots(nrows=2, ncols=3, sharex=True, sharey=True, figsize=(10,5))\n",
    "\n",
    "col_plot = ['Precision P', 'Recall P', 'F1 score P', 'Precision N', 'Recall N', 'F1 score N']\n",
    "\n",
    "major_ticks = np.linspace(0,1,5)\n",
    "\n",
    "for axe, col in zip(axs.flat, col_plot):\n",
    "    threshold_score[col].plot(ax=axe, grid = True)\n",
    "    axe.set_title(col)\n",
    "    axe.set_xticks(major_ticks)    \n",
    "    axe.grid(which='major', alpha=0.5)"
   ]
  },
  {
   "cell_type": "code",
   "execution_count": null,
   "id": "ab72d600-e345-4804-b3ad-4af166068851",
   "metadata": {},
   "outputs": [],
   "source": []
  }
 ],
 "metadata": {
  "kernelspec": {
   "display_name": "Python [conda env:landstats] *",
   "language": "python",
   "name": "conda-env-landstats-py"
  },
  "language_info": {
   "codemirror_mode": {
    "name": "ipython",
    "version": 3
   },
   "file_extension": ".py",
   "mimetype": "text/x-python",
   "name": "python",
   "nbconvert_exporter": "python",
   "pygments_lexer": "ipython3",
   "version": "3.10.4"
  }
 },
 "nbformat": 4,
 "nbformat_minor": 5
}
