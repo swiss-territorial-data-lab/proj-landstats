{
 "cells": [
  {
   "cell_type": "code",
   "execution_count": 1,
   "id": "1aa21903-a45f-44bb-860a-5fbc8ae22c05",
   "metadata": {},
   "outputs": [
    {
     "name": "stdout",
     "output_type": "stream",
     "text": [
      "Using cuda device\n"
     ]
    }
   ],
   "source": [
    "import os \n",
    "import math\n",
    "import torch\n",
    "import pickle\n",
    "import pandas as pd\n",
    "import numpy as np\n",
    "from tqdm import tqdm\n",
    "from torch import nn\n",
    "import matplotlib.pyplot as plt\n",
    "from sklearn.linear_model import LogisticRegression, LogisticRegressionCV\n",
    "from sklearn.model_selection import cross_val_predict\n",
    "from sklearn.model_selection import cross_val_score\n",
    "from sklearn.metrics import mean_squared_error, auc, roc_curve, balanced_accuracy_score\n",
    "import seaborn as sn\n",
    "%matplotlib inline\n",
    "\n",
    "import sys\n",
    "sys.path.append(\"..\")\n",
    "from metric.metric import metric\n",
    "\n",
    "data_folder = '../data/'\n",
    "np.random.seed(2022)\n",
    "\n",
    "device = \"cuda\" if torch.cuda.is_available() else \"cpu\"\n",
    "print(f\"Using {device} device\")"
   ]
  },
  {
   "cell_type": "markdown",
   "id": "fc9046e6-5175-48a5-9436-ffcc183610b4",
   "metadata": {
    "tags": []
   },
   "source": [
    "# Load temporal & spatial features"
   ]
  },
  {
   "cell_type": "code",
   "execution_count": 2,
   "id": "5c9a43d4-204c-483f-8474-de35750107e8",
   "metadata": {},
   "outputs": [],
   "source": [
    "# Load change deteaction results\n",
    "# pkl_filename = \"./temp_results/temporal_spatial_proba_FCN.pkl\"\n",
    "pkl_filename = \"./temp_results/temporal_spatial_proba_lr.pkl\"\n",
    "with open(pkl_filename, 'rb') as file:\n",
    "    proba_df = pickle.load(file)"
   ]
  },
  {
   "cell_type": "code",
   "execution_count": 3,
   "id": "61e89c5e-d5e2-42ee-9416-379fd3a4f7e1",
   "metadata": {},
   "outputs": [],
   "source": [
    "proba_df[['LU3']] = [[int(c[0].lstrip('LU'))] for c in proba_df[['LU3']].values]\n",
    "proba_df[['LC3']] = [[int(c[0].lstrip('LC'))] for c in proba_df[['LC3']].values]"
   ]
  },
  {
   "cell_type": "code",
   "execution_count": 4,
   "id": "6bb24249-080f-4226-8a2c-1f910167f95a",
   "metadata": {
    "tags": []
   },
   "outputs": [
    {
     "data": {
      "text/html": [
       "<div>\n",
       "<style scoped>\n",
       "    .dataframe tbody tr th:only-of-type {\n",
       "        vertical-align: middle;\n",
       "    }\n",
       "\n",
       "    .dataframe tbody tr th {\n",
       "        vertical-align: top;\n",
       "    }\n",
       "\n",
       "    .dataframe thead th {\n",
       "        text-align: right;\n",
       "    }\n",
       "</style>\n",
       "<table border=\"1\" class=\"dataframe\">\n",
       "  <thead>\n",
       "    <tr style=\"text-align: right;\">\n",
       "      <th></th>\n",
       "      <th>p_unchage</th>\n",
       "      <th>p_change</th>\n",
       "      <th>changed</th>\n",
       "      <th>LC3</th>\n",
       "      <th>LU3</th>\n",
       "    </tr>\n",
       "    <tr>\n",
       "      <th>RELI</th>\n",
       "      <th></th>\n",
       "      <th></th>\n",
       "      <th></th>\n",
       "      <th></th>\n",
       "      <th></th>\n",
       "    </tr>\n",
       "  </thead>\n",
       "  <tbody>\n",
       "    <tr>\n",
       "      <th>48561099</th>\n",
       "      <td>0.319364</td>\n",
       "      <td>0.680636</td>\n",
       "      <td>0</td>\n",
       "      <td>41</td>\n",
       "      <td>301</td>\n",
       "    </tr>\n",
       "    <tr>\n",
       "      <th>48611112</th>\n",
       "      <td>0.847969</td>\n",
       "      <td>0.152031</td>\n",
       "      <td>0</td>\n",
       "      <td>61</td>\n",
       "      <td>402</td>\n",
       "    </tr>\n",
       "    <tr>\n",
       "      <th>48621113</th>\n",
       "      <td>0.356399</td>\n",
       "      <td>0.643601</td>\n",
       "      <td>0</td>\n",
       "      <td>47</td>\n",
       "      <td>103</td>\n",
       "    </tr>\n",
       "    <tr>\n",
       "      <th>48621114</th>\n",
       "      <td>0.876144</td>\n",
       "      <td>0.123856</td>\n",
       "      <td>0</td>\n",
       "      <td>12</td>\n",
       "      <td>106</td>\n",
       "    </tr>\n",
       "    <tr>\n",
       "      <th>48621115</th>\n",
       "      <td>0.339232</td>\n",
       "      <td>0.660768</td>\n",
       "      <td>1</td>\n",
       "      <td>15</td>\n",
       "      <td>142</td>\n",
       "    </tr>\n",
       "  </tbody>\n",
       "</table>\n",
       "</div>"
      ],
      "text/plain": [
       "          p_unchage  p_change  changed  LC3  LU3\n",
       "RELI                                            \n",
       "48561099   0.319364  0.680636        0   41  301\n",
       "48611112   0.847969  0.152031        0   61  402\n",
       "48621113   0.356399  0.643601        0   47  103\n",
       "48621114   0.876144  0.123856        0   12  106\n",
       "48621115   0.339232  0.660768        1   15  142"
      ]
     },
     "execution_count": 4,
     "metadata": {},
     "output_type": "execute_result"
    }
   ],
   "source": [
    "proba_df.head()"
   ]
  },
  {
   "cell_type": "markdown",
   "id": "6b76d296-2fac-47ed-af57-0d492e6eb14d",
   "metadata": {
    "tags": []
   },
   "source": [
    "# Image-level prediction baseline "
   ]
  },
  {
   "cell_type": "code",
   "execution_count": 5,
   "id": "979c31cf-6a23-4c33-b759-74f7e9e39209",
   "metadata": {},
   "outputs": [],
   "source": [
    "# Load image classification results\n",
    "pred_lc = pd.read_csv(os.path.join(data_folder, 'predictions_lc_area4.csv'), index_col=0)\n",
    "pred_lc.rename(columns={\"prediction\": \"prediction_lc\", \"confidence\": \"confidence_lc\"}, inplace=True)\n",
    "pred_lu = pd.read_csv(os.path.join(data_folder, 'predictions_lu_area4.csv'), index_col=0)\n",
    "pred_lu.rename(columns={\"prediction\": \"prediction_lu\", \"confidence\": \"confidence_lu\"}, inplace=True)\n",
    "data_merged = pd.concat([pred_lc, pred_lu], axis=1)\n",
    "data_merged = data_merged.merge(proba_df, on='RELI')"
   ]
  },
  {
   "cell_type": "markdown",
   "id": "73e4fb26-45e6-447f-8673-a37dbd5de344",
   "metadata": {
    "tags": []
   },
   "source": [
    "# Load image-level prediction data"
   ]
  },
  {
   "cell_type": "code",
   "execution_count": 6,
   "id": "ec061cd3-bdf8-422d-a7dd-0843246ccc96",
   "metadata": {},
   "outputs": [],
   "source": [
    "def split_set(data_to_split, ratio=0.8):\n",
    "    mask = np.random.rand(len(data_to_split)) < ratio\n",
    "    return [data_to_split[mask], data_to_split[~mask], mask]"
   ]
  },
  {
   "cell_type": "code",
   "execution_count": 7,
   "id": "435d9092-8f16-4758-a2d2-4cfa332b16b9",
   "metadata": {},
   "outputs": [
    {
     "name": "stdout",
     "output_type": "stream",
     "text": [
      "Length of the train dataset : 222513\n",
      "Length of the val dataset : 55646\n",
      "Length of the test dataset : 70265\n"
     ]
    }
   ],
   "source": [
    "train, test, mask = split_set(data_merged)\n",
    "train, val, _ = split_set(train)\n",
    "\n",
    "train_label = train.changed\n",
    "train_features = train.drop('changed', axis=1)\n",
    "print('Length of the train dataset : {}'.format(len(train)))\n",
    "\n",
    "val_label = val.changed\n",
    "val_features = val.drop('changed', axis=1)\n",
    "print('Length of the val dataset : {}'.format(len(val)))\n",
    "\n",
    "test_label = test.changed\n",
    "test_features = test.drop('changed', axis=1)\n",
    "print('Length of the test dataset : {}'.format(len(test)))"
   ]
  },
  {
   "cell_type": "code",
   "execution_count": 8,
   "id": "b487c445-ff0f-44fa-8559-e284ca5c588a",
   "metadata": {},
   "outputs": [],
   "source": [
    "pred = [0 if row.prediction_lc == row.LC3 and row.prediction_lu == row.LU3 else 1 for ind, row in data_merged.iterrows()]\n",
    "pred = np.array(pred)[~mask]"
   ]
  },
  {
   "cell_type": "code",
   "execution_count": 9,
   "id": "5b7a418d-c32d-4db2-be4d-e63f244b6a10",
   "metadata": {},
   "outputs": [],
   "source": [
    "c_lc = data_merged.confidence_lc[~mask]\n",
    "c_lu = data_merged.confidence_lu[~mask]"
   ]
  },
  {
   "cell_type": "code",
   "execution_count": 11,
   "id": "356d161d-8c61-4896-861b-0f19615b5094",
   "metadata": {},
   "outputs": [],
   "source": [
    "proba_change = [1-(100-lu)*(100-lc)/(100*100) if change else 1-(lc/100)*(lu/100) for lc, lu, change in zip(c_lc, c_lu, pred)]"
   ]
  },
  {
   "cell_type": "code",
   "execution_count": 12,
   "id": "01a967c9-10d8-4c50-8450-67be3efe1d09",
   "metadata": {},
   "outputs": [],
   "source": [
    "df_change = pd.DataFrame(test_label)\n",
    "df_change['proba_change'] = proba_change\n",
    "df_change.reset_index(inplace=True)"
   ]
  },
  {
   "cell_type": "code",
   "execution_count": 13,
   "id": "f8a0d2cd-b2b9-48fa-914e-e4223a975590",
   "metadata": {},
   "outputs": [
    {
     "name": "stdout",
     "output_type": "stream",
     "text": [
      "Length of filtered data: 47588\n",
      "balanced accuracy: 0.733\n",
      "recall: 0.960\n",
      "true negative rate: 0.505\n",
      "missed changes: 307\n",
      "missed changes w.r.t total changes: 0.040\n",
      "missed weighted change: 15150\n",
      "missed weighted changes w.r.t total weighted changes: 0.028\n",
      "automatized points: 20443\n",
      "automatized capacity: 0.513\n",
      "raw metric: 0.309\n",
      "weighted metric: 0.371\n"
     ]
    },
    {
     "data": {
      "text/plain": [
       "[0.5,\n",
       " 0.7325786507155585,\n",
       " 0.960191908713693,\n",
       " 0.504965392717424,\n",
       " 307,\n",
       " 0.03980809128630705,\n",
       " 15150.0,\n",
       " 0.02763211891842597,\n",
       " 20443,\n",
       " 0.512664259203531,\n",
       " 0.3085824029075196,\n",
       " 0.37100426144814375]"
      ]
     },
     "execution_count": 13,
     "metadata": {},
     "output_type": "execute_result"
    }
   ],
   "source": [
    "metric(mode='multi', PROBABILITY_THRESHOLD=0.5, change_pred=df_change, lc_pred=pred_lc.reset_index(), lu_pred=pred_lu.reset_index())"
   ]
  },
  {
   "cell_type": "code",
   "execution_count": null,
   "id": "74e0252f-a25b-407c-bb96-1a4ff3088135",
   "metadata": {},
   "outputs": [],
   "source": [
    "threshold = np.linspace(0, 1, 101)\n",
    "columns_score_name = ['Threshold', 'balanced_acc', 'true_pos_rate', 'true_neg_rate', 'miss_changes', 'miss_changed_ratio', 'miss_weighted_changes', 'miss_weighted_changed_ratio', \n",
    "            'automatized_points', 'automatized_capacity', 'raw_metric', 'weighted_metric']\n",
    "threshold_score = pd.concat([pd.DataFrame([metric(mode='multi', PROBABILITY_THRESHOLD=t, change_pred=df_change, \n",
    "                                                  lc_pred=pred_lc.reset_index(), lu_pred=pred_lu.reset_index(), print_log=False)],\n",
    "                                          columns=columns_score_name) for t in threshold],\n",
    "                            ignore_index=True)\n",
    "threshold_score.set_index('Threshold', inplace=True)"
   ]
  },
  {
   "cell_type": "code",
   "execution_count": 20,
   "id": "2c792903-b383-46ee-888d-09bfd0789ed3",
   "metadata": {},
   "outputs": [
    {
     "data": {
      "text/plain": [
       "Text(0.5, 1.0, 'weighted_metric')"
      ]
     },
     "execution_count": 20,
     "metadata": {},
     "output_type": "execute_result"
    },
    {
     "data": {
      "image/png": "[encoded data removed]",
      "text/plain": [
       "<Figure size 640x480 with 1 Axes>"
      ]
     },
     "metadata": {},
     "output_type": "display_data"
    }
   ],
   "source": [
    "threshold_score['weighted_metric'].plot(grid=True, ylim=[0,1]).set_title('weighted_metric')"
   ]
  },
  {
   "cell_type": "code",
   "execution_count": 21,
   "id": "79906d63-1d1b-4fcf-842b-dd8cfbd4fbfa",
   "metadata": {},
   "outputs": [
    {
     "data": {
      "text/plain": [
       "miss_changes                     250.000000\n",
       "miss_changed_ratio                 0.032417\n",
       "miss_weighted_changes          11277.000000\n",
       "miss_weighted_changed_ratio        0.020568\n",
       "automatized_points             22010.000000\n",
       "automatized_capacity               0.551961\n",
       "raw_metric                         0.373032\n",
       "weighted_metric                    0.438433\n",
       "Name: 0.1, dtype: float64"
      ]
     },
     "execution_count": 21,
     "metadata": {},
     "output_type": "execute_result"
    }
   ],
   "source": [
    "threshold_score.iloc[threshold_score['weighted_metric'].argmax()]"
   ]
  },
  {
   "cell_type": "code",
   "execution_count": 22,
   "id": "db1d0097-2cd7-4f96-9130-6eec354b3625",
   "metadata": {},
   "outputs": [
    {
     "data": {
      "text/plain": [
       "0.1"
      ]
     },
     "execution_count": 22,
     "metadata": {},
     "output_type": "execute_result"
    }
   ],
   "source": [
    "thred = threshold_score.iloc[threshold_score['weighted_metric'].argmax()].name\n",
    "thred"
   ]
  }
 ],
 "metadata": {
  "kernelspec": {
   "display_name": "Python [conda env:landstats] *",
   "language": "python",
   "name": "conda-env-landstats-py"
  },
  "language_info": {
   "codemirror_mode": {
    "name": "ipython",
    "version": 3
   },
   "file_extension": ".py",
   "mimetype": "text/x-python",
   "name": "python",
   "nbconvert_exporter": "python",
   "pygments_lexer": "ipython3",
   "version": "3.10.4"
  }
 },
 "nbformat": 4,
 "nbformat_minor": 5
}
