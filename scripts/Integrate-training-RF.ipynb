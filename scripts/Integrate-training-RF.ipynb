{
 "cells": [
  {
   "cell_type": "code",
   "execution_count": 1,
   "id": "36c0a83c-378a-4113-8592-e85e4e54b0f9",
   "metadata": {},
   "outputs": [],
   "source": [
    "import os \n",
    "import sys\n",
    "import math\n",
    "\n",
    "import pickle\n",
    "import optuna\n",
    "import logging\n",
    "import numpy as np\n",
    "import pandas as pd\n",
    "import seaborn as sn\n",
    "# from tqdm import tqdm\n",
    "import matplotlib.pyplot as plt\n",
    "\n",
    "from lightgbm import LGBMClassifier\n",
    "from xgboost import XGBClassifier\n",
    "from sklearn.model_selection import GridSearchCV\n",
    "from sklearn.ensemble import RandomForestClassifier\n",
    "from sklearn.model_selection import cross_val_predict\n",
    "from sklearn.model_selection import cross_val_score\n",
    "from sklearn.metrics import mean_squared_error, auc, roc_curve\n",
    "from sklearn.linear_model import LogisticRegression, LogisticRegressionCV\n",
    "\n",
    "%matplotlib inline\n",
    "import sys\n",
    "sys.path.append(\"..\")\n",
    "from metric.metric import metric\n",
    "\n",
    "np.random.seed(2022)\n",
    "data_folder = '../data/'"
   ]
  },
  {
   "cell_type": "markdown",
   "id": "4029b9b7-bee2-42b3-988d-1bba652c1c2a",
   "metadata": {
    "tags": []
   },
   "source": [
    "# Load two probability data source"
   ]
  },
  {
   "cell_type": "code",
   "execution_count": 2,
   "id": "29eab0e4-0fec-43fd-81a3-24db37306d45",
   "metadata": {},
   "outputs": [],
   "source": [
    "# Load extracted features from temporal and spatial module \n",
    "# commit and uncommit following code to select model for temporal and spatial module\n",
    "\n",
    "# for logistics regression \n",
    "# pkl_filename = \"./temp_results/temporal_spatial_proba_lr.pkl\"\n",
    "\n",
    "# for Fully connected network \n",
    "pkl_filename = \"./temp_results/temporal_spatial_proba_FCN.pkl\"\n",
    "with open(pkl_filename, 'rb') as file:\n",
    "    proba_df = pickle.load(file)"
   ]
  },
  {
   "cell_type": "code",
   "execution_count": 3,
   "id": "c0e145e6-cf75-4d85-9e77-2b64efb89f30",
   "metadata": {},
   "outputs": [],
   "source": [
    "proba_df[['LU3']] = [[int(c[0].lstrip('LU'))] for c in proba_df[['LU3']].values]\n",
    "proba_df[['LC3']] = [[int(c[0].lstrip('LC'))] for c in proba_df[['LC3']].values]"
   ]
  },
  {
   "cell_type": "code",
   "execution_count": 4,
   "id": "18a1806c-46fa-4ac0-8d04-5938e02a75ba",
   "metadata": {},
   "outputs": [
    {
     "data": {
      "text/html": [
       "<div>\n",
       "<style scoped>\n",
       "    .dataframe tbody tr th:only-of-type {\n",
       "        vertical-align: middle;\n",
       "    }\n",
       "\n",
       "    .dataframe tbody tr th {\n",
       "        vertical-align: top;\n",
       "    }\n",
       "\n",
       "    .dataframe thead th {\n",
       "        text-align: right;\n",
       "    }\n",
       "</style>\n",
       "<table border=\"1\" class=\"dataframe\">\n",
       "  <thead>\n",
       "    <tr style=\"text-align: right;\">\n",
       "      <th></th>\n",
       "      <th>p_unchage</th>\n",
       "      <th>p_change</th>\n",
       "      <th>changed</th>\n",
       "      <th>LC3</th>\n",
       "      <th>LU3</th>\n",
       "    </tr>\n",
       "    <tr>\n",
       "      <th>RELI</th>\n",
       "      <th></th>\n",
       "      <th></th>\n",
       "      <th></th>\n",
       "      <th></th>\n",
       "      <th></th>\n",
       "    </tr>\n",
       "  </thead>\n",
       "  <tbody>\n",
       "    <tr>\n",
       "      <th>48561099</th>\n",
       "      <td>0.339599</td>\n",
       "      <td>0.660401</td>\n",
       "      <td>0</td>\n",
       "      <td>41</td>\n",
       "      <td>301</td>\n",
       "    </tr>\n",
       "    <tr>\n",
       "      <th>48611112</th>\n",
       "      <td>0.552779</td>\n",
       "      <td>0.447221</td>\n",
       "      <td>0</td>\n",
       "      <td>61</td>\n",
       "      <td>402</td>\n",
       "    </tr>\n",
       "    <tr>\n",
       "      <th>48621113</th>\n",
       "      <td>0.349247</td>\n",
       "      <td>0.650753</td>\n",
       "      <td>0</td>\n",
       "      <td>47</td>\n",
       "      <td>103</td>\n",
       "    </tr>\n",
       "    <tr>\n",
       "      <th>48621114</th>\n",
       "      <td>0.563225</td>\n",
       "      <td>0.436775</td>\n",
       "      <td>0</td>\n",
       "      <td>12</td>\n",
       "      <td>106</td>\n",
       "    </tr>\n",
       "    <tr>\n",
       "      <th>48621115</th>\n",
       "      <td>0.387474</td>\n",
       "      <td>0.612526</td>\n",
       "      <td>1</td>\n",
       "      <td>15</td>\n",
       "      <td>142</td>\n",
       "    </tr>\n",
       "  </tbody>\n",
       "</table>\n",
       "</div>"
      ],
      "text/plain": [
       "          p_unchage  p_change  changed  LC3  LU3\n",
       "RELI                                            \n",
       "48561099   0.339599  0.660401        0   41  301\n",
       "48611112   0.552779  0.447221        0   61  402\n",
       "48621113   0.349247  0.650753        0   47  103\n",
       "48621114   0.563225  0.436775        0   12  106\n",
       "48621115   0.387474  0.612526        1   15  142"
      ]
     },
     "execution_count": 4,
     "metadata": {},
     "output_type": "execute_result"
    }
   ],
   "source": [
    "proba_df.head()"
   ]
  },
  {
   "cell_type": "code",
   "execution_count": 5,
   "id": "aa821019-f0f1-48de-a5a0-64158cd46468",
   "metadata": {},
   "outputs": [],
   "source": [
    "# Load image classification results\n",
    "pred_lc = pd.read_csv(os.path.join(data_folder, 'predictions_lc_area4.csv'), index_col=0)\n",
    "pred_lc.rename(columns={\"prediction\": \"prediction_lc\", \"confidence\": \"confidence_lc\"}, inplace=True)\n",
    "pred_lu = pd.read_csv(os.path.join(data_folder, 'predictions_lu_area4.csv'), index_col=0)\n",
    "pred_lu.rename(columns={\"prediction\": \"prediction_lu\", \"confidence\": \"confidence_lu\"}, inplace=True)\n",
    "pred = pd.concat([pred_lc, pred_lu], axis=1)"
   ]
  },
  {
   "cell_type": "code",
   "execution_count": 6,
   "id": "fb3d3e43-d2cb-4301-b4c9-f11311a2df36",
   "metadata": {},
   "outputs": [
    {
     "data": {
      "text/html": [
       "<div>\n",
       "<style scoped>\n",
       "    .dataframe tbody tr th:only-of-type {\n",
       "        vertical-align: middle;\n",
       "    }\n",
       "\n",
       "    .dataframe tbody tr th {\n",
       "        vertical-align: top;\n",
       "    }\n",
       "\n",
       "    .dataframe thead th {\n",
       "        text-align: right;\n",
       "    }\n",
       "</style>\n",
       "<table border=\"1\" class=\"dataframe\">\n",
       "  <thead>\n",
       "    <tr style=\"text-align: right;\">\n",
       "      <th></th>\n",
       "      <th>prediction_lc</th>\n",
       "      <th>confidence_lc</th>\n",
       "      <th>11</th>\n",
       "      <th>12</th>\n",
       "      <th>13</th>\n",
       "      <th>14</th>\n",
       "      <th>15</th>\n",
       "      <th>16</th>\n",
       "      <th>17</th>\n",
       "      <th>21</th>\n",
       "      <th>...</th>\n",
       "      <th>403</th>\n",
       "      <th>421</th>\n",
       "      <th>422</th>\n",
       "      <th>423</th>\n",
       "      <th>424</th>\n",
       "      <th>p_unchage</th>\n",
       "      <th>p_change</th>\n",
       "      <th>changed</th>\n",
       "      <th>LC3</th>\n",
       "      <th>LU3</th>\n",
       "    </tr>\n",
       "    <tr>\n",
       "      <th>RELI</th>\n",
       "      <th></th>\n",
       "      <th></th>\n",
       "      <th></th>\n",
       "      <th></th>\n",
       "      <th></th>\n",
       "      <th></th>\n",
       "      <th></th>\n",
       "      <th></th>\n",
       "      <th></th>\n",
       "      <th></th>\n",
       "      <th></th>\n",
       "      <th></th>\n",
       "      <th></th>\n",
       "      <th></th>\n",
       "      <th></th>\n",
       "      <th></th>\n",
       "      <th></th>\n",
       "      <th></th>\n",
       "      <th></th>\n",
       "      <th></th>\n",
       "      <th></th>\n",
       "    </tr>\n",
       "  </thead>\n",
       "  <tbody>\n",
       "    <tr>\n",
       "      <th>49951581</th>\n",
       "      <td>41</td>\n",
       "      <td>76.953766</td>\n",
       "      <td>0.000009</td>\n",
       "      <td>7.618940e-07</td>\n",
       "      <td>2.099650e-08</td>\n",
       "      <td>8.110239e-08</td>\n",
       "      <td>0.000001</td>\n",
       "      <td>8.325645e-07</td>\n",
       "      <td>4.026339e-08</td>\n",
       "      <td>0.000038</td>\n",
       "      <td>...</td>\n",
       "      <td>0.000005</td>\n",
       "      <td>0.000285</td>\n",
       "      <td>0.000542</td>\n",
       "      <td>9.374106e-06</td>\n",
       "      <td>9.187247e-08</td>\n",
       "      <td>0.330625</td>\n",
       "      <td>0.669375</td>\n",
       "      <td>0</td>\n",
       "      <td>41</td>\n",
       "      <td>301</td>\n",
       "    </tr>\n",
       "    <tr>\n",
       "      <th>49981581</th>\n",
       "      <td>44</td>\n",
       "      <td>78.772316</td>\n",
       "      <td>0.039818</td>\n",
       "      <td>2.334603e-04</td>\n",
       "      <td>2.323926e-05</td>\n",
       "      <td>2.072141e-05</td>\n",
       "      <td>0.002156</td>\n",
       "      <td>6.963758e-04</td>\n",
       "      <td>1.789809e-04</td>\n",
       "      <td>0.009756</td>\n",
       "      <td>...</td>\n",
       "      <td>0.001540</td>\n",
       "      <td>0.017287</td>\n",
       "      <td>0.003396</td>\n",
       "      <td>3.867370e-03</td>\n",
       "      <td>5.498816e-05</td>\n",
       "      <td>0.312633</td>\n",
       "      <td>0.687367</td>\n",
       "      <td>0</td>\n",
       "      <td>41</td>\n",
       "      <td>301</td>\n",
       "    </tr>\n",
       "    <tr>\n",
       "      <th>49991582</th>\n",
       "      <td>44</td>\n",
       "      <td>67.986916</td>\n",
       "      <td>0.002073</td>\n",
       "      <td>1.667959e-05</td>\n",
       "      <td>1.380497e-06</td>\n",
       "      <td>1.529333e-06</td>\n",
       "      <td>0.000817</td>\n",
       "      <td>2.182389e-04</td>\n",
       "      <td>1.651016e-05</td>\n",
       "      <td>0.001084</td>\n",
       "      <td>...</td>\n",
       "      <td>0.000794</td>\n",
       "      <td>0.001990</td>\n",
       "      <td>0.005905</td>\n",
       "      <td>2.115689e-03</td>\n",
       "      <td>2.773002e-05</td>\n",
       "      <td>0.330625</td>\n",
       "      <td>0.669375</td>\n",
       "      <td>0</td>\n",
       "      <td>41</td>\n",
       "      <td>301</td>\n",
       "    </tr>\n",
       "    <tr>\n",
       "      <th>50151581</th>\n",
       "      <td>21</td>\n",
       "      <td>85.930080</td>\n",
       "      <td>0.008901</td>\n",
       "      <td>7.979578e-04</td>\n",
       "      <td>5.665574e-06</td>\n",
       "      <td>1.838485e-04</td>\n",
       "      <td>0.005638</td>\n",
       "      <td>3.700416e-05</td>\n",
       "      <td>3.987769e-04</td>\n",
       "      <td>0.859301</td>\n",
       "      <td>...</td>\n",
       "      <td>0.000004</td>\n",
       "      <td>0.004689</td>\n",
       "      <td>0.000027</td>\n",
       "      <td>1.708885e-03</td>\n",
       "      <td>6.309299e-04</td>\n",
       "      <td>0.426436</td>\n",
       "      <td>0.573564</td>\n",
       "      <td>0</td>\n",
       "      <td>21</td>\n",
       "      <td>242</td>\n",
       "    </tr>\n",
       "    <tr>\n",
       "      <th>50161581</th>\n",
       "      <td>41</td>\n",
       "      <td>97.562386</td>\n",
       "      <td>0.000271</td>\n",
       "      <td>4.466186e-05</td>\n",
       "      <td>8.621574e-07</td>\n",
       "      <td>1.826270e-06</td>\n",
       "      <td>0.000045</td>\n",
       "      <td>1.239971e-05</td>\n",
       "      <td>2.361364e-06</td>\n",
       "      <td>0.000080</td>\n",
       "      <td>...</td>\n",
       "      <td>0.000008</td>\n",
       "      <td>0.000023</td>\n",
       "      <td>0.000048</td>\n",
       "      <td>7.809795e-07</td>\n",
       "      <td>4.363787e-08</td>\n",
       "      <td>0.308640</td>\n",
       "      <td>0.691360</td>\n",
       "      <td>0</td>\n",
       "      <td>41</td>\n",
       "      <td>301</td>\n",
       "    </tr>\n",
       "  </tbody>\n",
       "</table>\n",
       "<p>5 rows × 82 columns</p>\n",
       "</div>"
      ],
      "text/plain": [
       "          prediction_lc  confidence_lc        11            12            13  \\\n",
       "RELI                                                                           \n",
       "49951581             41      76.953766  0.000009  7.618940e-07  2.099650e-08   \n",
       "49981581             44      78.772316  0.039818  2.334603e-04  2.323926e-05   \n",
       "49991582             44      67.986916  0.002073  1.667959e-05  1.380497e-06   \n",
       "50151581             21      85.930080  0.008901  7.979578e-04  5.665574e-06   \n",
       "50161581             41      97.562386  0.000271  4.466186e-05  8.621574e-07   \n",
       "\n",
       "                    14        15            16            17        21  ...  \\\n",
       "RELI                                                                    ...   \n",
       "49951581  8.110239e-08  0.000001  8.325645e-07  4.026339e-08  0.000038  ...   \n",
       "49981581  2.072141e-05  0.002156  6.963758e-04  1.789809e-04  0.009756  ...   \n",
       "49991582  1.529333e-06  0.000817  2.182389e-04  1.651016e-05  0.001084  ...   \n",
       "50151581  1.838485e-04  0.005638  3.700416e-05  3.987769e-04  0.859301  ...   \n",
       "50161581  1.826270e-06  0.000045  1.239971e-05  2.361364e-06  0.000080  ...   \n",
       "\n",
       "               403       421       422           423           424  p_unchage  \\\n",
       "RELI                                                                            \n",
       "49951581  0.000005  0.000285  0.000542  9.374106e-06  9.187247e-08   0.330625   \n",
       "49981581  0.001540  0.017287  0.003396  3.867370e-03  5.498816e-05   0.312633   \n",
       "49991582  0.000794  0.001990  0.005905  2.115689e-03  2.773002e-05   0.330625   \n",
       "50151581  0.000004  0.004689  0.000027  1.708885e-03  6.309299e-04   0.426436   \n",
       "50161581  0.000008  0.000023  0.000048  7.809795e-07  4.363787e-08   0.308640   \n",
       "\n",
       "          p_change  changed  LC3  LU3  \n",
       "RELI                                   \n",
       "49951581  0.669375        0   41  301  \n",
       "49981581  0.687367        0   41  301  \n",
       "49991582  0.669375        0   41  301  \n",
       "50151581  0.573564        0   21  242  \n",
       "50161581  0.691360        0   41  301  \n",
       "\n",
       "[5 rows x 82 columns]"
      ]
     },
     "execution_count": 6,
     "metadata": {},
     "output_type": "execute_result"
    }
   ],
   "source": [
    "data_merged = pred.merge(proba_df, on=\"RELI\")\n",
    "data_merged.head()"
   ]
  },
  {
   "cell_type": "markdown",
   "id": "fab180cc-5c7c-452e-8200-2f0f9a708027",
   "metadata": {
    "tags": []
   },
   "source": [
    "## Train and test the models"
   ]
  },
  {
   "cell_type": "code",
   "execution_count": 7,
   "id": "66bf50ec-beda-4200-9579-7df90ba51deb",
   "metadata": {},
   "outputs": [
    {
     "data": {
      "text/plain": [
       "Index(['prediction_lc', 'confidence_lc', '11', '12', '13', '14', '15', '16',\n",
       "       '17', '21', '31', '32', '33', '34', '35', '41', '42', '43', '44', '45',\n",
       "       '46', '47', '51', '52', '53', '61', '62', '63', '64', 'prediction_lu',\n",
       "       'confidence_lu', '101', '102', '103', '104', '105', '106', '107', '108',\n",
       "       '121', '122', '123', '124', '125', '141', '142', '143', '144', '145',\n",
       "       '146', '147', '161', '162', '163', '164', '165', '166', '201', '202',\n",
       "       '203', '221', '222', '223', '241', '242', '243', '301', '302', '303',\n",
       "       '304', '401', '402', '403', '421', '422', '423', '424', 'p_unchage',\n",
       "       'p_change', 'changed', 'LC3', 'LU3'],\n",
       "      dtype='object')"
      ]
     },
     "execution_count": 7,
     "metadata": {},
     "output_type": "execute_result"
    }
   ],
   "source": [
    "data_merged.columns"
   ]
  },
  {
   "cell_type": "code",
   "execution_count": 8,
   "id": "df1b3034-58c3-400d-a25c-66bb296c53a1",
   "metadata": {},
   "outputs": [
    {
     "name": "stdout",
     "output_type": "stream",
     "text": [
      "The length of the data with all rows is : 348424\n"
     ]
    }
   ],
   "source": [
    "print('The length of the data with all rows is : {}'.format(len(data_merged)))"
   ]
  },
  {
   "cell_type": "code",
   "execution_count": 9,
   "id": "c5929b31-c4c6-49c3-bb1e-e607552f4b54",
   "metadata": {},
   "outputs": [
    {
     "name": "stdout",
     "output_type": "stream",
     "text": [
      "Total number of tiles that changed label in either Land Cover or Land Usage: 58736\n"
     ]
    }
   ],
   "source": [
    "print('Total number of tiles that changed label in either Land Cover or Land Usage: %d' % sum(data_merged.changed))"
   ]
  },
  {
   "cell_type": "code",
   "execution_count": 10,
   "id": "6f6b8263-edee-47cb-b62e-2d41e13e0990",
   "metadata": {},
   "outputs": [],
   "source": [
    "def split_set(data_to_split, ratio=0.8):\n",
    "    mask = np.random.rand(len(data_to_split)) < ratio\n",
    "    return [data_to_split[mask], data_to_split[~mask]]"
   ]
  },
  {
   "cell_type": "code",
   "execution_count": 11,
   "id": "7177e2bc-9056-4647-912d-fe8b800152e0",
   "metadata": {},
   "outputs": [],
   "source": [
    "train, test = split_set(data_merged)\n",
    "train, val = split_set(train)"
   ]
  },
  {
   "cell_type": "code",
   "execution_count": 12,
   "id": "01bc8e6f-0ada-40dd-b9a1-2a1d7dc09310",
   "metadata": {},
   "outputs": [
    {
     "name": "stdout",
     "output_type": "stream",
     "text": [
      "Length of the train dataset : 222513\n",
      "Length of the train dataset : 55646\n",
      "Length of the test dataset : 70265\n"
     ]
    }
   ],
   "source": [
    "train_label = train.changed\n",
    "train_features = train.drop('changed', axis=1)\n",
    "print('Length of the train dataset : {}'.format(len(train)))\n",
    "\n",
    "val_label = val.changed\n",
    "val_features = val.drop('changed', axis=1)\n",
    "print('Length of the train dataset : {}'.format(len(val)))\n",
    "\n",
    "test_label = test.changed\n",
    "test_features = test.drop('changed', axis=1)\n",
    "print('Length of the test dataset : {}'.format(len(test)))"
   ]
  },
  {
   "cell_type": "code",
   "execution_count": 13,
   "id": "51dbdb0f-a72a-40b1-8c17-480d529068c7",
   "metadata": {},
   "outputs": [],
   "source": [
    "from sklearn.metrics import f1_score\n",
    "\n",
    "class Classsifers():\n",
    "    \n",
    "    def __init__(self, train_x, train_y, val_x, val_y, classifers, study_name, n_trials=20):\n",
    "        '''\n",
    "        init the finetuning of multiple classifiers\n",
    "        @params:\n",
    "        train_x: input training features\n",
    "        train_y: ground-truth label of training set\n",
    "        ...\n",
    "        classifiers: name of classifier to optimize\n",
    "        '''\n",
    "        self.train_x = train_x\n",
    "        self.train_y = train_y\n",
    "        self.val_x = val_x\n",
    "        self.val_y = val_y\n",
    "        self._classsifers = classifers\n",
    "        self.n_cpus = int(os.cpu_count() - 4)\n",
    "        self.n_trials = n_trials\n",
    "        self.study_name = study_name\n",
    "        self.storage_name = \"sqlite:///{}.db\".format(study_name)\n",
    "        self.acc_mean = 0\n",
    "        self.study = optuna.create_study(study_name=self.study_name, direction='maximize', storage=self.storage_name, load_if_exists=True)\n",
    "        try:\n",
    "            # if os.path.exists('./{}.db'.format(study_name)):\n",
    "            self.best_opt_metric = self.study.best_value\n",
    "            self._best_params = self.study.best_params\n",
    "        except ValueError:\n",
    "            pass\n",
    "            \n",
    "        \n",
    "    def objective(self, trial):\n",
    "        # define the tuning object with fields and range of the hyper params\n",
    "        classsifer = trial.suggest_categorical('classsifer', self._classsifers)\n",
    "\n",
    "        if classsifer == 'RandomForest':\n",
    "            # cf. https://scikit-learn.org/stable/modules/generated/sklearn.ensemble.RandomForestRegressor.html\n",
    "\n",
    "            params = dict(\n",
    "                criterion = trial.suggest_categorical('criterion', [\"gini\", \"entropy\", \"log_loss\"]),\n",
    "                bootstrap = True,\n",
    "                max_depth = trial.suggest_int('max_depth', 10, 1000),\n",
    "                oob_score = True,\n",
    "                max_features = trial.suggest_categorical('max_features', [None, 'sqrt','log2']),\n",
    "                min_samples_split = trial.suggest_int('min_samples_split', 2, 10),\n",
    "                min_samples_leaf = trial.suggest_int('min_samples_leaf', 1, 10),\n",
    "                n_estimators = int(trial.suggest_float('n_estimators', 1000, 8000, step=500)),\n",
    "                # class_weight = 'balanced_subsample',\n",
    "                n_jobs=self.n_cpus\n",
    "            )\n",
    "            model = RandomForestClassifier(**params)\n",
    "            model.fit(self.train_x, self.train_y)\n",
    "            \n",
    "            acc_mean = f1_score(self.val_y, model.predict(self.val_x), average='macro')\n",
    "            # score = cross_val_score(model, self.train_x, self.train_y, cv=5, scoring)\n",
    "            # acc_mean = score.mean()\n",
    "\n",
    "        elif classsifer == 'XGBoost':\n",
    "            # cf. https://xgboost.readthedocs.io/en/latest/python/python_api.html?highlight=n_estimators#module-xgboost.sklearn\n",
    "            params = dict(\n",
    "                booster = trial.suggest_categorical('booster', [\"gbtree\"]),\n",
    "                learning_rate = trial.suggest_float('learning_rate', 0.01, 0.3),\n",
    "                gamma = trial.suggest_float('gamma', 0, 1),\n",
    "                max_depth = trial.suggest_int('max_depth', 3, 15),\n",
    "                n_estimators = int(trial.suggest_float('n_estimators', 1000, 4000, step=500)),\n",
    "                min_child_weight = trial.suggest_int('min_child_weight', 1, 12),\n",
    "                gpu_id = 0,\n",
    "                tree_method = 'gpu_hist'\n",
    "            )\n",
    "            model = XGBClassifier(**params, n_jobs=self.n_cpus, importance_type='gain', eval_metric=balanced_accuracy_score)\n",
    "            score = cross_val_score(model, self.train_x, self.train_y, cv=5, scoring=f1_score(average='macro'))\n",
    "            acc_mean = score.mean()\n",
    "\n",
    "        elif classsifer == 'Logistics':\n",
    "            params = dict(  \n",
    "                # Cs = trial.suggest_float('Cs', 0.001, 100, log=True),\n",
    "                # penalty = trial.suggest_categorical('penalty', ['l1', 'l2', 'elasticnet']),\n",
    "                max_iter = trial.suggest_int('max_iter', 500, 4000, step=500),\n",
    "            )\n",
    "            model = LogisticRegressionCV(**params, cv=5, scoring=f1_score(average='macro'), class_weight='balanced', n_jobs= 16, multi_class='ovr', solver='saga', random_state=3407)\n",
    "            model.fit(self.train_x, self.train_y)\n",
    "            acc_mean = model.scores_[1].mean(axis=0).max()\n",
    "\n",
    "        else:\n",
    "            raise Exception('Invalid regressor. Only the following choices are valid: \"RandomForest\", \"XGBoost\", \"Logistics\".')\n",
    "\n",
    "        return acc_mean\n",
    "        \n",
    "    def optimize(self, cv=5):\n",
    "        # hyper params tuning with Optuna\n",
    "        # detailed explanation of Optuna: https://optuna.org/\n",
    "\n",
    "        # self.study.optimize(self.objective, n_trials=self.n_trials, n_jobs=max(self.n_cpus, 1))\n",
    "        self.study.optimize(self.objective, n_trials=self.n_trials, n_jobs=1)\n",
    "                            \n",
    "        # /!\\ we need to make sure that type(n_estimators) == 'int'\n",
    "        best_params = self.study.best_params.copy()\n",
    "        best_params['n_estimators'] = int(best_params['n_estimators'])\n",
    "        print(\"Best parameters:\", best_params)\n",
    "        print(\"Best score (mean balanced_accuracy after 5-fold Cross Validation):\", self.study.best_value)\n",
    "        self._best_params = best_params\n",
    "        self.best_opt_metric = self.study.best_value\n",
    "\n",
    "        \n",
    "    def compute_confusion_matrix(self): \n",
    "    \n",
    "        TP = np.sum(np.logical_and(self._predict_label_test==1, self._true_label_test==1))\n",
    "        TN = np.sum(np.logical_and(self._predict_label_test==0, self._true_label_test==0))\n",
    "        FP = np.sum(np.logical_and(self._predict_label_test==1, self._true_label_test==0))\n",
    "        FN = np.sum(np.logical_and(self._predict_label_test==0, self._true_label_test==1))\n",
    "\n",
    "        self._confusion_matrix = np.asarray([[TP, FP],\n",
    "                                        [FN, TN]])\n",
    "        return self._confusion_matrix\n",
    "\n",
    "\n",
    "    def plot_confusion_matrix(self):\n",
    "        [[TP, FP],[FN, TN]] = self._confusion_matrix\n",
    "        label = np.asarray([['TP {}'.format(TP), 'FP {}'.format(FP)],\n",
    "                            ['FN {}'.format(FN), 'TN {}'.format(TN)]])\n",
    "\n",
    "        df_cm = pd.DataFrame(self._confusion_matrix, index=['Yes', 'No'], columns=['Positive', 'Negative']) \n",
    "\n",
    "        sn.heatmap(df_cm, cmap='YlOrRd', annot=label, annot_kws={\"size\": 16}, cbar=False, fmt='')\n",
    "        plt.xlabel('Actual')\n",
    "        plt.ylabel('Predicted')\n",
    "        plt.title('Confusion matrix')\n",
    "\n",
    "\n",
    "\n",
    "    def compute_score(self):\n",
    "        [[TP, FP],[FN, TN]] = self._confusion_matrix.astype(float)\n",
    "\n",
    "        accuracy =  (TP+TN)/np.sum(self._confusion_matrix)\n",
    "\n",
    "        precision_positive = TP/(TP+FP) if (TP+FP) !=0 else np.nan\n",
    "        precision_negative = TN/(TN+FN) if (TN+FN) !=0 else np.nan\n",
    "\n",
    "        recall_positive = TP/(TP+FN) if (TP+FN) !=0 else np.nan\n",
    "        recall_negative = TN/(TN+FP) if (TN+FP) !=0 else np.nan\n",
    "\n",
    "        F1_score_positive = 2 *(precision_positive*recall_positive)/(precision_positive+recall_positive) if (precision_positive+recall_positive) !=0 else np.nan\n",
    "        F1_score_negative = 2 *(precision_negative*recall_negative)/(precision_negative+recall_negative) if (precision_negative+recall_negative) !=0 else np.nan\n",
    "        \n",
    "        balanced_acc = (recall_positive + recall_negative) / 2\n",
    "\n",
    "        print(\"The accuracy of model is {:1.3f}\".format(accuracy))\n",
    "        print(\"The balanced accuracy of model is {:1.3f}\".format(balanced_acc))\n",
    "        print(\"For the positive case, the precision is {0:1.3f}, the recall is {1:1.3f} and the F1 score is {2:1.3f}\"\\\n",
    "              .format(precision_positive, recall_positive, F1_score_positive))\n",
    "        print(\"For the negative case, the precision is {0:1.3f}, the recall is {1:1.3f} and the F1 score is {2:1.3f}\"\\\n",
    "              .format(precision_negative, recall_negative, F1_score_negative))\n",
    "\n",
    "        return {\n",
    "            'accuracy': accuracy,\n",
    "            'balanced_accuracy': balanced_acc,\n",
    "            'precision_positive': precision_positive,\n",
    "            'recall_positive': recall_positive,\n",
    "            'F1_score_positive': F1_score_positive,\n",
    "            'precision_negative': precision_negative,\n",
    "            'recall_negative': recall_negative,\n",
    "            'F1_score_negative': F1_score_negative\n",
    "        }\n",
    "\n",
    "        \n",
    "        \n",
    "    def best_model(self):\n",
    "        # init the best model with optimized params\n",
    "        params_dict = self._best_params.copy()\n",
    "        cls_best = params_dict.pop('classsifer')\n",
    "        if cls_best == 'RandomForest':\n",
    "            params_dict['n_estimators'] = int(params_dict['n_estimators'])\n",
    "            best_model = RandomForestClassifier(**params_dict, n_jobs=self.n_cpus)\n",
    "        elif cls_best == 'XGBoost':\n",
    "            params_dict['n_estimators'] = int(params_dict['n_estimators'])\n",
    "            best_model = XGBClassifier(**params_dict, n_jobs=self.n_cpus, gpu_id = 0, tree_method = 'gpu_hist',\n",
    "                                       importance_type='gain')\n",
    "        elif cls_best == 'Logistics':\n",
    "            best_model = LogisticRegressionCV(**params_dict, cv=5, scoring='balanced_accuracy', class_weight='balanced', n_jobs= 16, multi_class='ovr', solver='saga', random_state=3407)\n",
    "            \n",
    "        print(params_dict)\n",
    "                \n",
    "        best_model.fit(self.train_x, self.train_y)\n",
    "        score = cross_val_score(best_model, self.train_x, self.train_y, cv=5, scoring=\"balanced_accuracy\")\n",
    "        self.score = score.mean()\n",
    "        self.best_model = best_model\n",
    "        \n",
    "        print('Best model initialized with balanced accuracy: {:.3f} \\n'.format(self.score))\n",
    "\n",
    "    \n",
    "    def _evaluate(self, test_x, test_y):\n",
    "        # evaluate the performance of given test data\n",
    "        self._true_label_test = test_y\n",
    "        self._predict_label_test = self.best_model.predict(test_x)\n",
    "        acc_balanced = balanced_accuracy_score(self._true_label_test, self._predict_label_test)\n",
    "        \n",
    "        return acc_balanced\n",
    "        \n",
    "    \n",
    "    def save_model(self, path):\n",
    "        # Save to file in the current working directory\n",
    "        with open(path, 'wb') as file:\n",
    "            pickle.dump(self.best_model, file)\n",
    "        \n",
    "    \n",
    "    def load_model(self, path):\n",
    "        # Load from file\n",
    "        with open(path, 'rb') as file:\n",
    "            self.best_model = pickle.load(file)\n",
    "        "
   ]
  },
  {
   "cell_type": "markdown",
   "id": "e369669d-a1dc-438f-8bb1-83fbf1ff820e",
   "metadata": {
    "tags": []
   },
   "source": [
    "## Train and test the models"
   ]
  },
  {
   "cell_type": "code",
   "execution_count": 14,
   "id": "eb4b0d66-adac-48d3-b7a5-0013636664a7",
   "metadata": {},
   "outputs": [
    {
     "name": "stderr",
     "output_type": "stream",
     "text": [
      "\u001b[32m[I 2022-12-20 11:20:22,456]\u001b[0m Using an existing study with name 'FCN-RandomForest-integrate' instead of creating a new one.\u001b[0m\n"
     ]
    }
   ],
   "source": [
    "test_cls = Classsifers(train_x=train_features, train_y=train_label, val_x=val_features, val_y=val_label,\n",
    "                       classifers=['RandomForest'], study_name='FCN-RandomForest-integrate', n_trials=200)"
   ]
  },
  {
   "cell_type": "code",
   "execution_count": null,
   "id": "9c53c37d-6de0-45fa-863b-5f99ef2aef41",
   "metadata": {
    "scrolled": true,
    "tags": []
   },
   "outputs": [],
   "source": [
    "test_cls.optimize()"
   ]
  },
  {
   "cell_type": "code",
   "execution_count": 18,
   "id": "877ebedc-a81b-45b5-b246-6bf8997165da",
   "metadata": {},
   "outputs": [
    {
     "data": {
      "text/plain": [
       "{'classsifer': 'RandomForest',\n",
       " 'criterion': 'gini',\n",
       " 'max_depth': 313,\n",
       " 'max_features': None,\n",
       " 'min_samples_leaf': 7,\n",
       " 'min_samples_split': 8,\n",
       " 'n_estimators': 4500.0}"
      ]
     },
     "execution_count": 18,
     "metadata": {},
     "output_type": "execute_result"
    }
   ],
   "source": [
    "test_cls._best_params"
   ]
  },
  {
   "cell_type": "code",
   "execution_count": 19,
   "id": "12270066-3148-46c8-b6dd-6e4502e01f43",
   "metadata": {},
   "outputs": [
    {
     "data": {
      "text/plain": [
       "0.8018923900824941"
      ]
     },
     "execution_count": 19,
     "metadata": {},
     "output_type": "execute_result"
    }
   ],
   "source": [
    "test_cls.best_opt_metric"
   ]
  },
  {
   "cell_type": "code",
   "execution_count": 17,
   "id": "c93964dd-dbee-46cf-b8e5-02523855c054",
   "metadata": {},
   "outputs": [
    {
     "name": "stdout",
     "output_type": "stream",
     "text": [
      "{'criterion': 'gini', 'max_depth': 313, 'max_features': None, 'min_samples_leaf': 7, 'min_samples_split': 8, 'n_estimators': 4500}\n",
      "Best model initialized with balanced accuracy: 0.750 \n",
      "\n"
     ]
    }
   ],
   "source": [
    "test_cls.best_model()"
   ]
  },
  {
   "cell_type": "code",
   "execution_count": 15,
   "id": "0ef26ca5-0271-40ab-b5ab-2b8c3d1374c3",
   "metadata": {},
   "outputs": [],
   "source": [
    "test_cls.load_model('./FCN+RF.pkl')"
   ]
  },
  {
   "cell_type": "code",
   "execution_count": 18,
   "id": "9180a826-e59f-4066-be46-3403f64b15a0",
   "metadata": {},
   "outputs": [],
   "source": [
    "test_cls.save_model('./FCN+RF.pkl')"
   ]
  },
  {
   "cell_type": "code",
   "execution_count": 16,
   "id": "81cced20-4070-46a0-80ad-c13bc512cb72",
   "metadata": {},
   "outputs": [],
   "source": [
    "prediction_proba = test_cls.best_model.predict_proba(test_features)"
   ]
  },
  {
   "cell_type": "code",
   "execution_count": 17,
   "id": "548d52df-fa3f-4698-8817-0b3687d9d012",
   "metadata": {},
   "outputs": [],
   "source": [
    "# build df_change for ML model\n",
    "df_change = pd.DataFrame(test_label)\n",
    "df_change['proba_change'] = prediction_proba[:,1]\n",
    "df_change.reset_index(inplace=True)"
   ]
  },
  {
   "cell_type": "code",
   "execution_count": 23,
   "id": "b94455e5-c1d3-4c26-a688-ee01ee53d53c",
   "metadata": {},
   "outputs": [
    {
     "name": "stdout",
     "output_type": "stream",
     "text": [
      "Length of filtered data: 47588\n",
      "balanced accuracy: 0.757\n",
      "recall: 0.968\n",
      "true negative rate: 0.546\n",
      "missed changes: 250\n",
      "missed changes w.r.t total changes: 0.032\n",
      "missed weighted change: 11277\n",
      "missed weighted changes w.r.t total weighted changes: 0.021\n",
      "automatized points: 22010\n",
      "automatized capacity: 0.552\n",
      "raw metric: 0.373\n",
      "weighted metric: 0.438\n"
     ]
    },
    {
     "data": {
      "text/plain": [
       "[0.1,\n",
       " 250,\n",
       " 0.03241701244813278,\n",
       " 11277.0,\n",
       " 0.02056814554739866,\n",
       " 22010,\n",
       " 0.5519610793459725,\n",
       " 0.37303178754554056,\n",
       " 0.4384329211811003]"
      ]
     },
     "execution_count": 23,
     "metadata": {},
     "output_type": "execute_result"
    }
   ],
   "source": [
    "# Metric mode 'multi' uses change probability and image-level prediction as input together \n",
    "metric(mode='multi', PROBABILITY_THRESHOLD=0.1, change_pred=df_change, lc_pred=pred_lc.reset_index(), lu_pred=pred_lu.reset_index())"
   ]
  },
  {
   "cell_type": "code",
   "execution_count": 19,
   "id": "afbf05c6-12d6-4b1b-9930-59fae463f750",
   "metadata": {},
   "outputs": [],
   "source": [
    "threshold = np.linspace(0, 1, 101)\n",
    "columns_score_name = ['Threshold', 'balanced_acc', 'true_pos_rate', 'true_neg_rate', 'miss_changes', 'miss_changed_ratio', 'miss_weighted_changes', 'miss_weighted_changed_ratio', \n",
    "            'automatized_points', 'automatized_capacity', 'raw_metric', 'weighted_metric']\n",
    "threshold_score = pd.concat([pd.DataFrame([metric(mode='multi', PROBABILITY_THRESHOLD=t, change_pred=df_change, \n",
    "                                                  lc_pred=pred_lc.reset_index(), lu_pred=pred_lu.reset_index(), print_log=False)],\n",
    "                                          columns=columns_score_name) for t in threshold],\n",
    "                            ignore_index=True)\n",
    "threshold_score.set_index('Threshold', inplace=True)"
   ]
  },
  {
   "cell_type": "code",
   "execution_count": 20,
   "id": "9245a037-c9ea-48b9-b3a2-6a2f2c2bddab",
   "metadata": {},
   "outputs": [
    {
     "data": {
      "text/plain": [
       "Text(0.5, 1.0, 'weighted_metric')"
      ]
     },
     "execution_count": 20,
     "metadata": {},
     "output_type": "execute_result"
    },
    {
     "data": {
      "image/png": "[encoded data removed]",
      "text/plain": [
       "<Figure size 640x480 with 1 Axes>"
      ]
     },
     "metadata": {},
     "output_type": "display_data"
    }
   ],
   "source": [
    "threshold_score['weighted_metric'].plot(grid=True, ylim=[0,1]).set_title('weighted_metric')"
   ]
  },
  {
   "cell_type": "code",
   "execution_count": 21,
   "id": "071e11fe-7593-4266-b961-54c88d662e18",
   "metadata": {},
   "outputs": [
    {
     "data": {
      "text/plain": [
       "miss_changes                     250.000000\n",
       "miss_changed_ratio                 0.032417\n",
       "miss_weighted_changes          11277.000000\n",
       "miss_weighted_changed_ratio        0.020568\n",
       "automatized_points             22010.000000\n",
       "automatized_capacity               0.551961\n",
       "raw_metric                         0.373032\n",
       "weighted_metric                    0.438433\n",
       "Name: 0.1, dtype: float64"
      ]
     },
     "execution_count": 21,
     "metadata": {},
     "output_type": "execute_result"
    }
   ],
   "source": [
    "threshold_score.iloc[threshold_score['weighted_metric'].argmax()]"
   ]
  },
  {
   "cell_type": "code",
   "execution_count": 22,
   "id": "0362027b-eac3-40ad-803f-1ae40673f242",
   "metadata": {},
   "outputs": [
    {
     "data": {
      "text/plain": [
       "0.1"
      ]
     },
     "execution_count": 22,
     "metadata": {},
     "output_type": "execute_result"
    }
   ],
   "source": [
    "thred = threshold_score.iloc[threshold_score['weighted_metric'].argmax()].name\n",
    "print(\"The best threshold for the model is {:1.3f}.\".format(thred))"
   ]
  },
  {
   "cell_type": "code",
   "execution_count": 33,
   "id": "c4209e59-0408-4b05-b75a-bf11195b1744",
   "metadata": {},
   "outputs": [
    {
     "data": {
      "image/png": "[encoded data removed]",
      "text/plain": [
       "<Figure size 1000x500 with 6 Axes>"
      ]
     },
     "metadata": {},
     "output_type": "display_data"
    }
   ],
   "source": [
    "fig, axs = plt.subplots(nrows=2, ncols=3, sharex=True, sharey=True, figsize=(10,5))\n",
    "\n",
    "col_plot = ['miss_changes', 'miss_weighted_changes', 'automatized_points',\n",
    "            'miss_changed_ratio','miss_weighted_changed_ratio',  'automatized_capacity']\n",
    "\n",
    "major_ticks = np.linspace(0,1,5)\n",
    "\n",
    "for axe, col in zip(axs.flat, col_plot):\n",
    "    threshold_score[col].plot(ax=axe, grid = True)\n",
    "    axe.set_title(col)\n",
    "    axe.set_xticks(major_ticks)    \n",
    "    axe.grid(which='major', alpha=0.5)"
   ]
  }
 ],
 "metadata": {
  "kernelspec": {
   "display_name": "Python [conda env:landstats] *",
   "language": "python",
   "name": "conda-env-landstats-py"
  },
  "language_info": {
   "codemirror_mode": {
    "name": "ipython",
    "version": 3
   },
   "file_extension": ".py",
   "mimetype": "text/x-python",
   "name": "python",
   "nbconvert_exporter": "python",
   "pygments_lexer": "ipython3",
   "version": "3.10.4"
  }
 },
 "nbformat": 4,
 "nbformat_minor": 5
}
