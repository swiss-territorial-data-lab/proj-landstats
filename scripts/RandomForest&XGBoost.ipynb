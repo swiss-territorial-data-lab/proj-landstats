{
 "cells": [
  {
   "cell_type": "code",
   "execution_count": null,
   "id": "8fa4665f-92bd-4fe7-9ac3-5c0ecda718f6",
   "metadata": {},
   "outputs": [],
   "source": [
    "import os \n",
    "import sys\n",
    "import math\n",
    "\n",
    "import pickle\n",
    "import optuna\n",
    "import logging\n",
    "import numpy as np\n",
    "import pandas as pd\n",
    "import seaborn as sn\n",
    "# from tqdm import tqdm\n",
    "import matplotlib.pyplot as plt\n",
    "\n",
    "from lightgbm import LGBMClassifier\n",
    "from xgboost import XGBClassifier\n",
    "from sklearn.model_selection import GridSearchCV\n",
    "from sklearn.ensemble import RandomForestClassifier\n",
    "from sklearn.model_selection import cross_val_predict\n",
    "from sklearn.model_selection import cross_val_score\n",
    "from sklearn.metrics import mean_squared_error, auc, roc_curve\n",
    "\n",
    "%matplotlib inline\n",
    "\n",
    "np.random.seed(2022)\n",
    "data_folder = '../data/'"
   ]
  },
  {
   "cell_type": "markdown",
   "id": "885999c3-8449-492e-b9d6-1cf1f51167f1",
   "metadata": {},
   "source": [
    "### A) Load the dataset and convert categorical features to a suitable numerical representation (use dummy-variable encoding). \n",
    "- Split the data into a training set (80%) and a test set (20%). Pair each feature vector with the corresponding label, i.e., whether the outcome_type is adoption or not. \n",
    "- Standardize the values of each feature in the data to have mean 0 and variance 1."
   ]
  },
  {
   "cell_type": "code",
   "execution_count": null,
   "id": "2b5ddfbb-2734-47d7-abf2-b06c96c17073",
   "metadata": {},
   "outputs": [],
   "source": [
    "columns = ['LU4', 'LC4', 'LU3', 'LC3', 'LU2', 'LC2', 'LU1', 'LC1', 'nbr1_LU3', 'nbr1_LC3', 'nbr1_LU2', 'nbr1_LC2', 'nbr1_LU1',\n",
    "           'nbr1_LC1', 'nbr2_LU3', 'nbr2_LC3', 'nbr2_LU2', 'nbr2_LC2', 'nbr2_LU1', 'nbr2_LC1', 'nbr3_LU3', 'nbr3_LC3',\n",
    "           'nbr3_LU2', 'nbr3_LC2', 'nbr3_LU1', 'nbr3_LC1', 'nbr4_LU3', 'nbr4_LC3', 'nbr4_LU2', 'nbr4_LC2', 'nbr4_LU1',\n",
    "           'nbr4_LC1', 'nbr5_LU3', 'nbr5_LC3', 'nbr5_LU2', 'nbr5_LC2', 'nbr5_LU1', 'nbr5_LC1', 'nbr6_LU3', 'nbr6_LC3',\n",
    "           'nbr6_LU2', 'nbr6_LC2', 'nbr6_LU1', 'nbr6_LC1', 'nbr7_LU3', 'nbr7_LC3', 'nbr7_LU2', 'nbr7_LC2', 'nbr7_LU1',\n",
    "           'nbr7_LC1', 'nbr8_LU3', 'nbr8_LC3', 'nbr8_LU2', 'nbr8_LC2', 'nbr8_LU1', 'nbr8_LC1']\n",
    "\n",
    "original_data = pd.read_csv(os.path.join(data_folder, 'trainset_with_neighbour.csv'), index_col=0)\n",
    "original_data = original_data[columns]\n",
    "original_data.head()"
   ]
  },
  {
   "cell_type": "code",
   "execution_count": null,
   "id": "de21f3d7-0304-4c88-92b6-7c481595ef6e",
   "metadata": {},
   "outputs": [],
   "source": [
    "print('The length of the data with all rows is : {}'.format(len(original_data)))\n",
    "original_data.dropna(inplace=True)\n",
    "print('The length of the data without the rows with nan value is: {}'.format(len(original_data)))"
   ]
  },
  {
   "cell_type": "code",
   "execution_count": null,
   "id": "9d3ee6ab-6d69-460a-bf54-7616a65327ec",
   "metadata": {},
   "outputs": [],
   "source": [
    "data_features = original_data.copy()\n",
    "data_features['changed'] = [0 if row['LU4'] == row['LU3'] and row['LC4'] == row['LC3'] else 1 for ind, row in data_features[['LU4', 'LC4', 'LU3', 'LC3']].iterrows()]\n",
    "data_features.drop(['LC4', 'LU4'], axis=1, inplace=True)\n",
    "data_features.head()"
   ]
  },
  {
   "cell_type": "code",
   "execution_count": null,
   "id": "4aba09aa-c44c-4d8d-b1ba-dabdeba7bef0",
   "metadata": {},
   "outputs": [],
   "source": [
    "print('Total number of tiles that changed label in either Land Cover or Land Usage: %d' % sum(data_features.changed))"
   ]
  },
  {
   "cell_type": "code",
   "execution_count": null,
   "id": "0f1bb02d-ae51-4fb9-a4a6-28007acc6694",
   "metadata": {},
   "outputs": [],
   "source": [
    "def split_set(data_to_split, ratio=0.8):\n",
    "    mask = np.random.rand(len(data_to_split)) < ratio\n",
    "    return [data_to_split[mask].reset_index(drop=True), data_to_split[~mask].reset_index(drop=True)]"
   ]
  },
  {
   "cell_type": "code",
   "execution_count": null,
   "id": "be6cf6b6-92a0-4fb6-8a07-992756fea995",
   "metadata": {},
   "outputs": [],
   "source": [
    "[train, test] = split_set(data_features)"
   ]
  },
  {
   "cell_type": "code",
   "execution_count": null,
   "id": "96286028-a5f8-4579-8712-3fb9c0a56747",
   "metadata": {},
   "outputs": [],
   "source": [
    "train_categorical = pd.get_dummies(train)\n",
    "train_categorical.columns"
   ]
  },
  {
   "cell_type": "code",
   "execution_count": null,
   "id": "7efc7634-0862-4f7b-9aa9-ead1dc0a5d61",
   "metadata": {},
   "outputs": [],
   "source": [
    "# Make sure we use only the features available in the training set\n",
    "test_categorical = pd.get_dummies(test)[train_categorical.columns]"
   ]
  },
  {
   "cell_type": "code",
   "execution_count": 10,
   "id": "fa2715a0-9c51-420f-8265-1e5e130b493b",
   "metadata": {},
   "outputs": [
    {
     "name": "stdout",
     "output_type": "stream",
     "text": [
      "Length of the train dataset : 278198\n",
      "Length of the test dataset : 70276\n"
     ]
    }
   ],
   "source": [
    "train_label=train_categorical.changed\n",
    "train_features = train_categorical.drop('changed', axis=1)\n",
    "print('Length of the train dataset : {}'.format(len(train)))\n",
    "\n",
    "test_label=test_categorical.changed\n",
    "test_features = test_categorical.drop('changed', axis=1)\n",
    "print('Length of the test dataset : {}'.format(len(test)))"
   ]
  },
  {
   "cell_type": "markdown",
   "id": "7e6c7eab-199a-419f-a8c9-866a2c2b57d7",
   "metadata": {},
   "source": [
    "### B) Train a random forest classifier on your training set. "
   ]
  },
  {
   "cell_type": "markdown",
   "id": "aa709911-dd4a-43a9-b693-9b1772bd970e",
   "metadata": {},
   "source": [
    "# XGboost & Random Forest "
   ]
  },
  {
   "cell_type": "code",
   "execution_count": 16,
   "id": "cd969ed5-d9ba-49ce-b5c4-a78ffef8b36f",
   "metadata": {},
   "outputs": [],
   "source": [
    "class Classsifers():\n",
    "    \n",
    "    def __init__(self, train_x, train_y, classifers, study_name, n_trials=20):\n",
    "        '''\n",
    "        init the finetuning of multiple classifiers\n",
    "        @params:\n",
    "        train_x: input training features\n",
    "        train_y: ground-truth label of training set\n",
    "        ...\n",
    "        classifiers: name of classifier to optimize\n",
    "        '''\n",
    "        self.train_x = train_x\n",
    "        self.train_y = train_y\n",
    "        self._classsifers = classifers\n",
    "        self.n_cpus = int(os.cpu_count() / 2)\n",
    "        self.n_trials = n_trials\n",
    "        self.study_name = study_name\n",
    "        self.storage_name = \"sqlite:///{}.db\".format(study_name)\n",
    "        self.acc_mean = 0\n",
    "        self.study = optuna.create_study(study_name=self.study_name, direction='maximize', storage=self.storage_name, load_if_exists=True)\n",
    "        try:\n",
    "            # if os.path.exists('./{}.db'.format(study_name)):\n",
    "            self.best_opt_metric = self.study.best_value\n",
    "            self._best_params = self.study.best_params\n",
    "        except ValueError:\n",
    "            pass\n",
    "            \n",
    "        \n",
    "    def objective(self, trial):\n",
    "        # define the tuning object with fields and range of the hyper params\n",
    "        classsifer = trial.suggest_categorical('classsifer', self._classsifers)\n",
    "\n",
    "        if classsifer == 'RandomForest':\n",
    "            # cf. https://scikit-learn.org/stable/modules/generated/sklearn.ensemble.RandomForestRegressor.html\n",
    "\n",
    "            params = dict(\n",
    "                criterion = \"gini\",\n",
    "                bootstrap = True,\n",
    "                max_depth = 500,\n",
    "                max_features = trial.suggest_categorical('max_features', [None, 'sqrt','log2']),\n",
    "                min_samples_split = trial.suggest_int('min_samples_split', 2, 10),\n",
    "                min_samples_leaf = trial.suggest_int('min_samples_leaf', 1, 10),\n",
    "                n_estimators =  500,\n",
    "                class_weight = 'balanced_subsample',\n",
    "                n_jobs=self.n_cpus\n",
    "            )\n",
    "            model = RandomForestClassifier(**params)\n",
    "\n",
    "        elif classsifer == 'XGBoost':\n",
    "            # cf. https://xgboost.readthedocs.io/en/latest/python/python_api.html?highlight=n_estimators#module-xgboost.sklearn\n",
    "            params = dict(\n",
    "                booster = trial.suggest_categorical('booster', [\"gbtree\"]),\n",
    "                learning_rate = trial.suggest_float('learning_rate', 0.01, 0.3),\n",
    "                gamma = trial.suggest_float('gamma', 0, 1),\n",
    "                max_depth = trial.suggest_int('max_depth', 3, 15),\n",
    "                n_estimators = int(trial.suggest_float('n_estimators', 1000, 4000, step=500)),\n",
    "                min_child_weight = trial.suggest_int('min_child_weight', 1, 12),\n",
    "                gpu_id = 0,\n",
    "                tree_method = 'gpu_hist'\n",
    "            )\n",
    "            model = XGBClassifier(**params, n_jobs=self.n_cpus, importance_type='gain')\n",
    "\n",
    "        elif classsifer == 'LightGBM':\n",
    "            # cf. https://lightgbm.readthedocs.io/en/latest/pythonapi/lightgbm.LGBMRegressor.html\n",
    "            params = dict(  \n",
    "                learning_rate = trial.suggest_float('learning_rate', 0.01, 0.02),\n",
    "                num_leaves = trial.suggest_int('num_leaves', 2, 50),\n",
    "                max_depth = trial.suggest_int('max_depth', 1, 50),\n",
    "                n_estimators = int(trial.suggest_float('n_estimators', 100, 1000, step=100)),\n",
    "                min_child_samples = trial.suggest_int('min_child_samples', 1, 10)\n",
    "            )\n",
    "            model = LGBMClassifier(**params, n_jobs=self.n_cpus, importance_type='gain')\n",
    "            # model = LGBMClassifier(**params, n_jobs=self.n_cpus, importance_type='gain', device = 'gpu',\n",
    "            #                        gpu_platform_id = 0, gpu_device_id = 0)\n",
    "\n",
    "        else:\n",
    "            raise Exception('Invalid regressor. Only the following choices are valid: \"RandomForest\", \"XGBoost\", \"LightGBM\".')\n",
    "\n",
    "        score = cross_val_score(model, self.train_x, self.train_y, cv=5, scoring=\"balanced_accuracy\")\n",
    "        acc_mean = score.mean()\n",
    "\n",
    "        return acc_mean\n",
    "        \n",
    "    def optimize(self, cv=5):\n",
    "        # hyper params tuning with Optuna\n",
    "        # detailed explanation of Optuna: https://optuna.org/\n",
    "\n",
    "        self.study.optimize(self.objective, n_trials=self.n_trials, n_jobs=max(self.n_cpus, 1))\n",
    "\n",
    "        # /!\\ we need to make sure that type(n_estimators) == 'int'\n",
    "        best_params = self.study.best_params.copy()\n",
    "        best_params['n_estimators'] = int(best_params['n_estimators'])\n",
    "        print(\"Best parameters:\", best_params)\n",
    "        print(\"Best score (mean balanced_accuracy after 5-fold Cross Validation):\", self.study.best_value)\n",
    "        self._best_params = best_params\n",
    "        self.best_opt_metric = self.study.best_value\n",
    "\n",
    "        \n",
    "    def compute_confusion_matrix(self): \n",
    "    \n",
    "        TP = np.sum(np.logical_and(self._predict_label_test==1, self._true_label_test==1))\n",
    "        TN = np.sum(np.logical_and(self._predict_label_test==0, self._true_label_test==0))\n",
    "        FP = np.sum(np.logical_and(self._predict_label_test==1, self._true_label_test==0))\n",
    "        FN = np.sum(np.logical_and(self._predict_label_test==0, self._true_label_test==1))\n",
    "\n",
    "        self._confusion_matrix = np.asarray([[TP, FP],\n",
    "                                        [FN, TN]])\n",
    "        return self._confusion_matrix\n",
    "\n",
    "\n",
    "    def plot_confusion_matrix(self):\n",
    "        [[TP, FP],[FN, TN]] = self._confusion_matrix\n",
    "        label = np.asarray([['TP {}'.format(TP), 'FP {}'.format(FP)],\n",
    "                            ['FN {}'.format(FN), 'TN {}'.format(TN)]])\n",
    "\n",
    "        df_cm = pd.DataFrame(self._confusion_matrix, index=['Yes', 'No'], columns=['Positive', 'Negative']) \n",
    "\n",
    "        sn.heatmap(df_cm, cmap='YlOrRd', annot=label, annot_kws={\"size\": 16}, cbar=False, fmt='')\n",
    "        plt.xlabel('Actual')\n",
    "        plt.ylabel('Predicted')\n",
    "        plt.title('Confusion matrix')\n",
    "\n",
    "\n",
    "\n",
    "    def compute_score(self):\n",
    "        [[TP, FP],[FN, TN]] = self._confusion_matrix.astype(float)\n",
    "\n",
    "        accuracy =  (TP+TN)/np.sum(self._confusion_matrix)\n",
    "\n",
    "        precision_positive = TP/(TP+FP) if (TP+FP) !=0 else np.nan\n",
    "        precision_negative = TN/(TN+FN) if (TN+FN) !=0 else np.nan\n",
    "\n",
    "        recall_positive = TP/(TP+FN) if (TP+FN) !=0 else np.nan\n",
    "        recall_negative = TN/(TN+FP) if (TN+FP) !=0 else np.nan\n",
    "\n",
    "        F1_score_positive = 2 *(precision_positive*recall_positive)/(precision_positive+recall_positive) if (precision_positive+recall_positive) !=0 else np.nan\n",
    "        F1_score_negative = 2 *(precision_negative*recall_negative)/(precision_negative+recall_negative) if (precision_negative+recall_negative) !=0 else np.nan\n",
    "\n",
    "        print(\"The accuracy of model is {:1.3f}\".format(accuracy))\n",
    "        print(\"For the positive case, the precision is {0:1.3f}, the recall is {1:1.3f} and the F1 score is {2:1.3f}\"\\\n",
    "              .format(precision_positive, recall_positive, F1_score_positive))\n",
    "        print(\"For the negative case, the precision is {0:1.3f}, the recall is {1:1.3f} and the F1 score is {2:1.3f}\"\\\n",
    "              .format(precision_negative, recall_negative, F1_score_negative))\n",
    "\n",
    "        return {\n",
    "            'accuracy': accuracy,\n",
    "            'precision_positive': precision_positive,\n",
    "            'recall_positive': recall_positive,\n",
    "            'F1_score_positive': F1_score_positive,\n",
    "            'precision_negative': precision_negative,\n",
    "            'recall_negative': recall_negative,\n",
    "            'F1_score_negative': F1_score_negative\n",
    "        }\n",
    "\n",
    "        \n",
    "        \n",
    "    def best_model(self):\n",
    "        # init the best model with optimized params\n",
    "        params_dict = self._best_params.copy()\n",
    "        cls_best = params_dict.pop('classsifer')\n",
    "        if cls_best == 'RandomForest':\n",
    "            params_dict['n_estimators'] = 500\n",
    "            best_model = RandomForestClassifier(**params_dict, n_jobs=self.n_cpus)\n",
    "        elif cls_best == 'XGBoost':\n",
    "            params_dict['n_estimators'] = int(params_dict['n_estimators'])\n",
    "            best_model = XGBClassifier(**params_dict, n_jobs=self.n_cpus, gpu_id = 0, tree_method = 'gpu_hist',\n",
    "                                       importance_type='gain')\n",
    "        elif cls_best == 'LightGBM':\n",
    "            params_dict['n_estimators'] = int(params_dict['n_estimators'])\n",
    "            best_model = LGBMClassifier(**params_dict, n_jobs=self.n_cpus, importance_type='gain')\n",
    "            # best_model = LGBMClassifier(**params_dict, n_jobs=self.n_cpus, importance_type='gain', device = 'gpu')\n",
    "            # gpu_platform_id = 0, gpu_device_id = 0\n",
    "        print(params_dict)\n",
    "                \n",
    "        best_model.fit(self.train_x, self.train_y)\n",
    "        score = cross_val_score(best_model, self.train_x, self.train_y, cv=5, scoring=\"balanced_accuracy\")\n",
    "        self.score = score.mean()\n",
    "        self.best_model = best_model\n",
    "        \n",
    "        print('Best model initialized with balanced accuracy: {:.3f} \\n'.format(self.score))\n",
    "\n",
    "    \n",
    "    def _evaluate(self, test_x, test_y):\n",
    "        # evaluate the performance of given test data\n",
    "        self._true_label_test = test_y\n",
    "        from sklearn.metrics import balanced_accuracy_score\n",
    "        self._predict_label_test = self.best_model.predict(test_x)\n",
    "        acc_balanced = balanced_accuracy_score(self._true_label_test, self._predict_label_test)\n",
    "        \n",
    "    \n",
    "    def save_model(self, path):\n",
    "        # Save to file in the current working directory\n",
    "        with open(path, 'wb') as file:\n",
    "            pickle.dump(self.best_model, file)\n",
    "        \n",
    "    \n",
    "    def load_model(self, path):\n",
    "        # Load from file\n",
    "        with open(path, 'rb') as file:\n",
    "            self.best_model = pickle.load(file)\n",
    "        "
   ]
  },
  {
   "cell_type": "markdown",
   "id": "bc9646c2-b0b9-4abc-93bb-92001ec0538a",
   "metadata": {},
   "source": [
    "## Train and test the models"
   ]
  },
  {
   "cell_type": "code",
   "execution_count": 17,
   "id": "a0e16692-80c8-4e37-b3eb-759f339325d4",
   "metadata": {},
   "outputs": [
    {
     "name": "stderr",
     "output_type": "stream",
     "text": [
      "\u001b[32m[I 2022-09-26 01:43:57,709]\u001b[0m Using an existing study with name 'RandomForest' instead of creating a new one.\u001b[0m\n"
     ]
    }
   ],
   "source": [
    "test_cls = Classsifers(train_x=train_features, train_y=train_label, classifers=['RandomForest'], study_name='RandomForest', n_trials=200)"
   ]
  },
  {
   "cell_type": "code",
   "execution_count": null,
   "id": "f61e8292-c868-43f8-9af2-25fcf5c05e2b",
   "metadata": {
    "scrolled": true,
    "tags": []
   },
   "outputs": [],
   "source": [
    "test_cls.optimize()"
   ]
  },
  {
   "cell_type": "code",
   "execution_count": 18,
   "id": "f7cf4e20-5ea7-4410-965e-4ec24f3adff6",
   "metadata": {},
   "outputs": [
    {
     "data": {
      "text/plain": [
       "0.7154270346556824"
      ]
     },
     "execution_count": 18,
     "metadata": {},
     "output_type": "execute_result"
    }
   ],
   "source": [
    "test_cls.best_opt_metric"
   ]
  },
  {
   "cell_type": "code",
   "execution_count": 19,
   "id": "d060a57c-df9a-45db-89ef-ae87e9a06582",
   "metadata": {},
   "outputs": [
    {
     "data": {
      "text/plain": [
       "{'classsifer': 'RandomForest',\n",
       " 'max_features': 'sqrt',\n",
       " 'min_samples_leaf': 10,\n",
       " 'min_samples_split': 10}"
      ]
     },
     "execution_count": 19,
     "metadata": {},
     "output_type": "execute_result"
    }
   ],
   "source": [
    "test_cls._best_params"
   ]
  },
  {
   "cell_type": "code",
   "execution_count": 20,
   "id": "81b5310a-3404-4a75-9787-10040dd15fd5",
   "metadata": {},
   "outputs": [
    {
     "name": "stdout",
     "output_type": "stream",
     "text": [
      "{'max_features': 'sqrt', 'min_samples_leaf': 10, 'min_samples_split': 10, 'n_estimators': 500}\n",
      "Best model initialized with balanced accuracy: 0.557 \n",
      "\n"
     ]
    }
   ],
   "source": [
    "test_cls.best_model()"
   ]
  },
  {
   "cell_type": "code",
   "execution_count": 65,
   "id": "4cccf721-6b56-40eb-b504-fc83e812a720",
   "metadata": {},
   "outputs": [],
   "source": [
    "test_cls.load_model('./xgboost_615.pkl')"
   ]
  },
  {
   "cell_type": "code",
   "execution_count": 21,
   "id": "797fd9ff-9995-4226-b7cf-d8e39bb71d88",
   "metadata": {},
   "outputs": [],
   "source": [
    "test_cls.save_model('./RandomForest_715.pkl')"
   ]
  },
  {
   "cell_type": "code",
   "execution_count": 66,
   "id": "17b2fa86-0a78-42b3-99e5-3b0ad8fd8858",
   "metadata": {},
   "outputs": [],
   "source": [
    "test_cls._evaluate(test_features, test_label)"
   ]
  },
  {
   "cell_type": "code",
   "execution_count": 67,
   "id": "9a314885-5553-4986-a849-533edaf9638d",
   "metadata": {},
   "outputs": [
    {
     "data": {
      "text/plain": [
       "array([[ 3523,  3089],\n",
       "       [ 8338, 55326]])"
      ]
     },
     "execution_count": 67,
     "metadata": {},
     "output_type": "execute_result"
    }
   ],
   "source": [
    "test_cls.compute_confusion_matrix()"
   ]
  },
  {
   "cell_type": "code",
   "execution_count": 68,
   "id": "edb6c4ec-6f39-48fa-94b3-ab1d945dd606",
   "metadata": {},
   "outputs": [
    {
     "data": {
      "image/png": "[encoded data removed]",
      "text/plain": [
       "<Figure size 640x480 with 1 Axes>"
      ]
     },
     "metadata": {},
     "output_type": "display_data"
    }
   ],
   "source": [
    "test_cls.plot_confusion_matrix()"
   ]
  },
  {
   "cell_type": "code",
   "execution_count": 69,
   "id": "09d0c786-a61e-4cf2-8ca8-7a9a384596d8",
   "metadata": {},
   "outputs": [
    {
     "name": "stdout",
     "output_type": "stream",
     "text": [
      "The accuracy of model is 0.837\n",
      "For the positive case, the precision is 0.533, the recall is 0.297 and the F1 score is 0.381\n",
      "For the negative case, the precision is 0.869, the recall is 0.947 and the F1 score is 0.906\n"
     ]
    },
    {
     "data": {
      "text/plain": [
       "{'accuracy': 0.837398258295862,\n",
       " 'precision_positive': 0.5328191167574108,\n",
       " 'recall_positive': 0.29702385970828765,\n",
       " 'F1_score_positive': 0.3814215341308937,\n",
       " 'precision_negative': 0.8690311636089469,\n",
       " 'recall_negative': 0.9471197466404176,\n",
       " 'F1_score_negative': 0.9063966775612512}"
      ]
     },
     "execution_count": 69,
     "metadata": {},
     "output_type": "execute_result"
    }
   ],
   "source": [
    "test_cls.compute_score()"
   ]
  },
  {
   "cell_type": "markdown",
   "id": "9730a83b-62d5-437b-92a1-e8145f331bb5",
   "metadata": {},
   "source": [
    "## Feature importance analysis"
   ]
  },
  {
   "cell_type": "code",
   "execution_count": 70,
   "id": "9b936724-61d4-4cd1-b5eb-bfbbd328289b",
   "metadata": {},
   "outputs": [
    {
     "data": {
      "text/html": [
       "<div>\n",
       "<style scoped>\n",
       "    .dataframe tbody tr th:only-of-type {\n",
       "        vertical-align: middle;\n",
       "    }\n",
       "\n",
       "    .dataframe tbody tr th {\n",
       "        vertical-align: top;\n",
       "    }\n",
       "\n",
       "    .dataframe thead th {\n",
       "        text-align: right;\n",
       "    }\n",
       "</style>\n",
       "<table border=\"1\" class=\"dataframe\">\n",
       "  <thead>\n",
       "    <tr style=\"text-align: right;\">\n",
       "      <th></th>\n",
       "      <th>feature</th>\n",
       "      <th>feature_importance</th>\n",
       "    </tr>\n",
       "  </thead>\n",
       "  <tbody>\n",
       "    <tr>\n",
       "      <th>45</th>\n",
       "      <td>LU3_LU424</td>\n",
       "      <td>0.038479</td>\n",
       "    </tr>\n",
       "    <tr>\n",
       "      <th>18</th>\n",
       "      <td>LU3_LU146</td>\n",
       "      <td>0.035272</td>\n",
       "    </tr>\n",
       "    <tr>\n",
       "      <th>205</th>\n",
       "      <td>LC1_LC41</td>\n",
       "      <td>0.021908</td>\n",
       "    </tr>\n",
       "    <tr>\n",
       "      <th>32</th>\n",
       "      <td>LU3_LU241</td>\n",
       "      <td>0.013637</td>\n",
       "    </tr>\n",
       "    <tr>\n",
       "      <th>142</th>\n",
       "      <td>LC2_LC61</td>\n",
       "      <td>0.011132</td>\n",
       "    </tr>\n",
       "  </tbody>\n",
       "</table>\n",
       "</div>"
      ],
      "text/plain": [
       "       feature  feature_importance\n",
       "45   LU3_LU424            0.038479\n",
       "18   LU3_LU146            0.035272\n",
       "205   LC1_LC41            0.021908\n",
       "32   LU3_LU241            0.013637\n",
       "142   LC2_LC61            0.011132"
      ]
     },
     "execution_count": 70,
     "metadata": {},
     "output_type": "execute_result"
    }
   ],
   "source": [
    "feature_imp = pd.DataFrame([[f, imp] for f, imp in zip(train_features.columns, test_cls.best_model.feature_importances_)], columns=['feature', 'feature_importance'])\n",
    "feature_imp.sort_values('feature_importance', inplace=True, ascending=False)\n",
    "feature_imp = feature_imp.query('feature_importance > 0')\n",
    "feature_imp.head()"
   ]
  },
  {
   "cell_type": "code",
   "execution_count": 71,
   "id": "e325dee1-168f-41a7-b755-60cd7295fa08",
   "metadata": {},
   "outputs": [
    {
     "data": {
      "text/html": [
       "<div>\n",
       "<style scoped>\n",
       "    .dataframe tbody tr th:only-of-type {\n",
       "        vertical-align: middle;\n",
       "    }\n",
       "\n",
       "    .dataframe tbody tr th {\n",
       "        vertical-align: top;\n",
       "    }\n",
       "\n",
       "    .dataframe thead th {\n",
       "        text-align: right;\n",
       "    }\n",
       "</style>\n",
       "<table border=\"1\" class=\"dataframe\">\n",
       "  <thead>\n",
       "    <tr style=\"text-align: right;\">\n",
       "      <th></th>\n",
       "      <th>feature</th>\n",
       "      <th>feature_importance</th>\n",
       "    </tr>\n",
       "  </thead>\n",
       "  <tbody>\n",
       "    <tr>\n",
       "      <th>45</th>\n",
       "      <td>LU3_LU424</td>\n",
       "      <td>0.038479</td>\n",
       "    </tr>\n",
       "    <tr>\n",
       "      <th>18</th>\n",
       "      <td>LU3_LU146</td>\n",
       "      <td>0.035272</td>\n",
       "    </tr>\n",
       "    <tr>\n",
       "      <th>205</th>\n",
       "      <td>LC1_LC41</td>\n",
       "      <td>0.021908</td>\n",
       "    </tr>\n",
       "    <tr>\n",
       "      <th>32</th>\n",
       "      <td>LU3_LU241</td>\n",
       "      <td>0.013637</td>\n",
       "    </tr>\n",
       "    <tr>\n",
       "      <th>142</th>\n",
       "      <td>LC2_LC61</td>\n",
       "      <td>0.011132</td>\n",
       "    </tr>\n",
       "    <tr>\n",
       "      <th>34</th>\n",
       "      <td>LU3_LU243</td>\n",
       "      <td>0.009491</td>\n",
       "    </tr>\n",
       "    <tr>\n",
       "      <th>37</th>\n",
       "      <td>LU3_LU303</td>\n",
       "      <td>0.009324</td>\n",
       "    </tr>\n",
       "    <tr>\n",
       "      <th>57</th>\n",
       "      <td>LC3_LC34</td>\n",
       "      <td>0.008040</td>\n",
       "    </tr>\n",
       "    <tr>\n",
       "      <th>47</th>\n",
       "      <td>LC3_LC12</td>\n",
       "      <td>0.005886</td>\n",
       "    </tr>\n",
       "    <tr>\n",
       "      <th>71</th>\n",
       "      <td>LC3_LC63</td>\n",
       "      <td>0.005875</td>\n",
       "    </tr>\n",
       "  </tbody>\n",
       "</table>\n",
       "</div>"
      ],
      "text/plain": [
       "       feature  feature_importance\n",
       "45   LU3_LU424            0.038479\n",
       "18   LU3_LU146            0.035272\n",
       "205   LC1_LC41            0.021908\n",
       "32   LU3_LU241            0.013637\n",
       "142   LC2_LC61            0.011132\n",
       "34   LU3_LU243            0.009491\n",
       "37   LU3_LU303            0.009324\n",
       "57    LC3_LC34            0.008040\n",
       "47    LC3_LC12            0.005886\n",
       "71    LC3_LC63            0.005875"
      ]
     },
     "execution_count": 71,
     "metadata": {},
     "output_type": "execute_result"
    }
   ],
   "source": [
    "feature_imp.head(10)"
   ]
  },
  {
   "cell_type": "code",
   "execution_count": 72,
   "id": "9a867ee1-cc19-45bb-a367-02266e2a626a",
   "metadata": {},
   "outputs": [],
   "source": [
    "super_f = []\n",
    "time_space = []\n",
    "for ind, f in feature_imp.iterrows():\n",
    "    super_f.append('_'.join(f['feature'].split('_')[:-1]))\n",
    "    if f['feature'].startswith('nbr'):\n",
    "        time_space.append('neighour')\n",
    "    else:\n",
    "        time_space.append('self')\n",
    "\n",
    "feature_imp['super_feat'] = super_f\n",
    "feature_imp['time_space'] = time_space"
   ]
  },
  {
   "cell_type": "code",
   "execution_count": 73,
   "id": "edaedbb3-e256-4e12-861c-cc9eb0a57a3c",
   "metadata": {},
   "outputs": [
    {
     "data": {
      "text/html": [
       "<div>\n",
       "<style scoped>\n",
       "    .dataframe tbody tr th:only-of-type {\n",
       "        vertical-align: middle;\n",
       "    }\n",
       "\n",
       "    .dataframe tbody tr th {\n",
       "        vertical-align: top;\n",
       "    }\n",
       "\n",
       "    .dataframe thead th {\n",
       "        text-align: right;\n",
       "    }\n",
       "</style>\n",
       "<table border=\"1\" class=\"dataframe\">\n",
       "  <thead>\n",
       "    <tr style=\"text-align: right;\">\n",
       "      <th></th>\n",
       "      <th>feature_importance</th>\n",
       "    </tr>\n",
       "    <tr>\n",
       "      <th>super_feat</th>\n",
       "      <th></th>\n",
       "    </tr>\n",
       "  </thead>\n",
       "  <tbody>\n",
       "    <tr>\n",
       "      <th>neighour</th>\n",
       "      <td>0.665513</td>\n",
       "    </tr>\n",
       "    <tr>\n",
       "      <th>self</th>\n",
       "      <td>0.334487</td>\n",
       "    </tr>\n",
       "  </tbody>\n",
       "</table>\n",
       "</div>"
      ],
      "text/plain": [
       "            feature_importance\n",
       "super_feat                    \n",
       "neighour              0.665513\n",
       "self                  0.334487"
      ]
     },
     "execution_count": 73,
     "metadata": {},
     "output_type": "execute_result"
    }
   ],
   "source": [
    "df_ts = feature_imp.groupby(['time_space']).sum()\n",
    "df_ts.index.name = 'super_feat'\n",
    "df_ts"
   ]
  },
  {
   "cell_type": "code",
   "execution_count": 74,
   "id": "1a8321cf-97f4-46cb-8fbf-1869bcb24d75",
   "metadata": {},
   "outputs": [],
   "source": [
    "df_feat = feature_imp.groupby(['super_feat']).sum()\n",
    "df_feat = pd.concat([df_feat,df_ts])\n",
    "df_feat.sort_values('feature_importance', inplace=True, ascending=False)"
   ]
  },
  {
   "cell_type": "code",
   "execution_count": 75,
   "id": "5a2c982d-1443-452c-ae01-e6fc5d52b179",
   "metadata": {},
   "outputs": [
    {
     "data": {
      "text/html": [
       "<div>\n",
       "<style scoped>\n",
       "    .dataframe tbody tr th:only-of-type {\n",
       "        vertical-align: middle;\n",
       "    }\n",
       "\n",
       "    .dataframe tbody tr th {\n",
       "        vertical-align: top;\n",
       "    }\n",
       "\n",
       "    .dataframe thead th {\n",
       "        text-align: right;\n",
       "    }\n",
       "</style>\n",
       "<table border=\"1\" class=\"dataframe\">\n",
       "  <thead>\n",
       "    <tr style=\"text-align: right;\">\n",
       "      <th></th>\n",
       "      <th>feature_importance</th>\n",
       "    </tr>\n",
       "    <tr>\n",
       "      <th>super_feat</th>\n",
       "      <th></th>\n",
       "    </tr>\n",
       "  </thead>\n",
       "  <tbody>\n",
       "    <tr>\n",
       "      <th>neighour</th>\n",
       "      <td>0.665513</td>\n",
       "    </tr>\n",
       "    <tr>\n",
       "      <th>self</th>\n",
       "      <td>0.334487</td>\n",
       "    </tr>\n",
       "    <tr>\n",
       "      <th>LU3</th>\n",
       "      <td>0.160599</td>\n",
       "    </tr>\n",
       "    <tr>\n",
       "      <th>LC3</th>\n",
       "      <td>0.062202</td>\n",
       "    </tr>\n",
       "    <tr>\n",
       "      <th>LC1</th>\n",
       "      <td>0.039016</td>\n",
       "    </tr>\n",
       "  </tbody>\n",
       "</table>\n",
       "</div>"
      ],
      "text/plain": [
       "            feature_importance\n",
       "super_feat                    \n",
       "neighour              0.665513\n",
       "self                  0.334487\n",
       "LU3                   0.160599\n",
       "LC3                   0.062202\n",
       "LC1                   0.039016"
      ]
     },
     "execution_count": 75,
     "metadata": {},
     "output_type": "execute_result"
    }
   ],
   "source": [
    "df_feat.head()"
   ]
  },
  {
   "cell_type": "code",
   "execution_count": 77,
   "id": "37969359-2845-4529-8e51-57aacc4db93b",
   "metadata": {},
   "outputs": [
    {
     "data": {
      "text/plain": [
       "Text(0.5, 0, 'XGBoost Feature Importance')"
      ]
     },
     "execution_count": 77,
     "metadata": {},
     "output_type": "execute_result"
    },
    {
     "data": {
      "image/png": "[encoded data removed]",
      "text/plain": [
       "<Figure size 640x480 with 1 Axes>"
      ]
     },
     "metadata": {},
     "output_type": "display_data"
    }
   ],
   "source": [
    "plt.barh(df_feat.index.values[::-1][-15:], df_feat.feature_importance.values[::-1][-15:])\n",
    "# plt.xlabel(\"Random Forest Feature Importance\")\n",
    "plt.xlabel(\"XGBoost Feature Importance\")"
   ]
  },
  {
   "cell_type": "code",
   "execution_count": 79,
   "id": "2bccedcc-70a3-402a-aff7-51e9b3d18975",
   "metadata": {},
   "outputs": [
    {
     "data": {
      "text/plain": [
       "Text(0.5, 0, 'XGBoost Feature Importance')"
      ]
     },
     "execution_count": 79,
     "metadata": {},
     "output_type": "execute_result"
    },
    {
     "data": {
      "image/png": "[encoded data removed]",
      "text/plain": [
       "<Figure size 640x480 with 1 Axes>"
      ]
     },
     "metadata": {},
     "output_type": "display_data"
    }
   ],
   "source": [
    "feature_imp.sort_values('feature_importance', inplace=True, ascending=False)\n",
    "plt.barh(feature_imp.feature.values[::-1][-15:], feature_imp.feature_importance.values[::-1][-15:])\n",
    "# plt.xlabel(\"Random Forest Feature Importance\")\n",
    "plt.xlabel(\"XGBoost Feature Importance\")"
   ]
  }
 ],
 "metadata": {
  "kernelspec": {
   "display_name": "Python [conda env:landstats] *",
   "language": "python",
   "name": "conda-env-landstats-py"
  },
  "language_info": {
   "codemirror_mode": {
    "name": "ipython",
    "version": 3
   },
   "file_extension": ".py",
   "mimetype": "text/x-python",
   "name": "python",
   "nbconvert_exporter": "python",
   "pygments_lexer": "ipython3",
   "version": "3.10.4"
  }
 },
 "nbformat": 4,
 "nbformat_minor": 5
}
